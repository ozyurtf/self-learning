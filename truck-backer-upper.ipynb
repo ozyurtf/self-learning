{
 "cells": [
  {
   "cell_type": "markdown",
   "metadata": {},
   "source": [
    "# Libraries"
   ]
  },
  {
   "cell_type": "code",
   "execution_count": 1,
   "metadata": {},
   "outputs": [],
   "source": [
    "from matplotlib.pylab import *\n",
    "from matplotlib.patches import Rectangle\n",
    "from matplotlib.collections import PatchCollection\n",
    "from matplotlib.lines import Line2D\n",
    "import torch\n",
    "import torch.nn as nn\n",
    "from torch.optim import SGD\n",
    "from torchviz import make_dot\n",
    "from tqdm import tqdm\n",
    "from datetime import datetime\n",
    "from random import uniform\n",
    "import wandb\n",
    "\n",
    "num_lessons = 10\n",
    "current_time = datetime.now().strftime(\"%Y-%m-%d_%I-%M%p\")\n",
    "π = pi\n",
    "style.use(['dark_background', 'bmh'])\n",
    "%matplotlib notebook"
   ]
  },
  {
   "cell_type": "markdown",
   "metadata": {},
   "source": [
    "![car-trailer](figures/truck-backer-upper.png)\n",
    "\n",
    "\n",
    "\\begin{align}\n",
    "\\dot x &= s \\cos \\theta_0 \\\\\n",
    "\\dot y &= s \\sin \\theta_0 \\\\\n",
    "\\dot \\theta_0 &= \\frac{s}{L} \\tan \\phi \\\\\n",
    "\\dot \\theta_1 &= \\frac{s}{d_1} \\sin(\\theta_1 - \\theta_0)\n",
    "\\end{align}"
   ]
  },
  {
   "cell_type": "markdown",
   "metadata": {},
   "source": [
    "# Preparing Lessons"
   ]
  },
  {
   "cell_type": "code",
   "execution_count": 2,
   "metadata": {},
   "outputs": [],
   "source": [
    "def create_lesson_configs(num_lessons):\n",
    "    configs = {}\n",
    "\n",
    "    first_lesson = {\"θ0_range\": (0, 10),\n",
    "                    \"Δθ1_range\": (-10, 10),\n",
    "                    \"x_range\": (10, 10),\n",
    "                    \"y_range\": (-2, 2)}\n",
    "    \n",
    "    final_lesson = {\"θ0_range\": (0, 120),\n",
    "                    \"Δθ1_range\": (-45, 45),\n",
    "                    \"x_range\": (10, 35),\n",
    "                    \"y_range\": (-7, 7)}\n",
    "\n",
    "    x_min = first_lesson[\"x_range\"][0]\n",
    "\n",
    "    for i in range(1, num_lessons + 1):\n",
    "\n",
    "        θ0_max = first_lesson[\"θ0_range\"][1] + (final_lesson[\"θ0_range\"][1] - \n",
    "                                                first_lesson[\"θ0_range\"][1]) * (i - 1) // (num_lessons - 1)\n",
    "        \n",
    "        Δθ1_max = first_lesson[\"Δθ1_range\"][1] + (final_lesson[\"Δθ1_range\"][1] - \n",
    "                                                  first_lesson[\"Δθ1_range\"][1]) * (i - 1) // (num_lessons - 1)\n",
    "        \n",
    "        x_max = first_lesson[\"x_range\"][1] + (final_lesson[\"x_range\"][1] - \n",
    "                                              first_lesson[\"x_range\"][1]) * (i - 1) // (num_lessons - 1)\n",
    "        \n",
    "        y_max = first_lesson[\"y_range\"][1] + (final_lesson[\"y_range\"][1] - \n",
    "                                              first_lesson[\"y_range\"][1]) * (i - 1) // (num_lessons - 1)\n",
    "\n",
    "        configs[i] = {\"θ0_range\": (0, θ0_max),\n",
    "                      \"Δθ1_range\": (-Δθ1_max, Δθ1_max),\n",
    "                      \"x_range\": (x_min, x_max),\n",
    "                      \"y_range\": (-y_max, y_max)}\n",
    "        x_min = x_max\n",
    "        \n",
    "    configs[num_lessons+1] = final_lesson\n",
    "    return configs\n",
    "\n",
    "LESSON_CONFIGS = create_lesson_configs(num_lessons)"
   ]
  },
  {
   "cell_type": "markdown",
   "metadata": {},
   "source": [
    "# Initializing Truck"
   ]
  },
  {
   "cell_type": "code",
   "execution_count": 3,
   "metadata": {},
   "outputs": [],
   "source": [
    "class Truck:\n",
    "    def __init__(self, lesson, display=False):\n",
    "\n",
    "        self.W = 1 \n",
    "        self.L = 1 * self.W \n",
    "        self.d = 4 * self.L \n",
    "        self.s = -0.2  \n",
    "        self.display = display\n",
    "        self.lesson = lesson\n",
    "        \n",
    "        self.box = [0, 40, -10, 10]\n",
    "        if self.display:\n",
    "            self.f = figure(figsize=(6, 3), num='The Truck Backer-Upper', facecolor='none')\n",
    "            self.ax = self.f.add_axes([0.01, 0.01, 0.98, 0.98], facecolor='black')\n",
    "            self.patches = list()\n",
    "            \n",
    "            self.ax.axis('equal')\n",
    "            b = self.box\n",
    "            self.ax.axis([b[0] - 1, b[1], b[2], b[3]])\n",
    "            self.ax.set_xticks([]); self.ax.set_yticks([])\n",
    "            self.ax.axhline(); self.ax.axvline()\n",
    "            \n",
    "    def reset(self, ϕ=0):\n",
    "        self.ϕ = ϕ \n",
    "        config = LESSON_CONFIGS.get(self.lesson)\n",
    "        \n",
    "        if config is None: \n",
    "            raise ValueError(f\"No configuration found for lesson {self.lesson}\")       \n",
    "            \n",
    "        self.θ0 = deg2rad(uniform(*config[\"θ0_range\"]))\n",
    "        self.θ1 = deg2rad(uniform(*config[\"Δθ1_range\"])) + self.θ0\n",
    "        self.x = uniform(*config[\"x_range\"])\n",
    "        self.y = uniform(*config[\"y_range\"])      \n",
    "        \n",
    "        # If poorly initialise, then re-initialise\n",
    "        if not self.valid():\n",
    "            self.reset(ϕ)\n",
    "        \n",
    "        # Draw, if display is True\n",
    "        if self.display: \n",
    "            self.draw()        \n",
    "    \n",
    "    def step(self, ϕ=0, dt=1):\n",
    "        \n",
    "        # Check for illegal conditions\n",
    "        if self.is_jackknifed():\n",
    "            print('The truck is jackknifed!')\n",
    "            return\n",
    "        \n",
    "        if self.is_offscreen():\n",
    "            print('The car or trailer is off screen')\n",
    "            return\n",
    "        \n",
    "        self.ϕ = ϕ\n",
    "        x, y, W, L, d, s, θ0, θ1, ϕ = self._get_atributes()\n",
    "        \n",
    "        # Perform state update\n",
    "        self.x += s * cos(θ0) * dt\n",
    "        self.y += s * sin(θ0) * dt\n",
    "        self.θ0 += s / L * tan(ϕ) * dt\n",
    "        self.θ1 += s / d * sin(θ0 - θ1) * dt   \n",
    "                        \n",
    "        return (self.x, self.y, self.θ0, *self._trailer_xy(), self.θ1)\n",
    "    \n",
    "    def state(self):\n",
    "        return (self.x, self.y, self.θ0, *self._trailer_xy(), self.θ1)\n",
    "    \n",
    "    def _get_atributes(self):\n",
    "        return (\n",
    "            self.x, self.y, self.W, self.L, self.d, self.s,\n",
    "            self.θ0, self.θ1, self.ϕ\n",
    "        )\n",
    "    \n",
    "    def _trailer_xy(self):\n",
    "        x, y, W, L, d, s, θ0, θ1, ϕ = self._get_atributes()\n",
    "        return x - d * cos(θ1), y - d * sin(θ1)\n",
    "        \n",
    "    def is_jackknifed(self):\n",
    "        x, y, W, L, d, s, θ0, θ1, ϕ = self._get_atributes()\n",
    "        angle_diff_rad = abs(θ0 - θ1)\n",
    "        angle_diff_deg = rad2deg(angle_diff_rad)\n",
    "        return angle_diff_deg > 90\n",
    "    \n",
    "    def is_offscreen(self):\n",
    "        x, y, W, L, d, s, θ0, θ1, ϕ = self._get_atributes()\n",
    "        \n",
    "        x1, y1 = x + 1.5 * L * cos(θ0), y + 1.5 * L * sin(θ0)\n",
    "        x2, y2 = self._trailer_xy()\n",
    "        \n",
    "        b = self.box\n",
    "        return not (\n",
    "            b[0] <= x1 <= b[1] and b[2] <= y1 <= b[3] and\n",
    "            b[0] <= x2 <= b[1] and b[2] <= y2 <= b[3]\n",
    "        )\n",
    "        \n",
    "    def valid(self):\n",
    "        return not self.is_jackknifed() and not self.is_offscreen()\n",
    "        \n",
    "    def draw(self):\n",
    "        if not self.display: return\n",
    "        if self.patches: self.clear()\n",
    "        self._draw_car()\n",
    "        self._draw_trailer()\n",
    "        self.f.canvas.draw()\n",
    "            \n",
    "    def clear(self):\n",
    "        for p in self.patches:\n",
    "            p.remove()\n",
    "        self.patches = list()\n",
    "        \n",
    "    def _draw_car(self):\n",
    "        x, y, W, L, d, s, θ0, θ1, ϕ = self._get_atributes()\n",
    "\n",
    "        ax = self.ax\n",
    "        \n",
    "        x1, y1 = x + L / 2 * cos(θ0), y + L / 2 * sin(θ0)\n",
    "        bar = Line2D((x, x1), (y, y1), lw=5, color='C2', alpha=1)\n",
    "        ax.add_line(bar)\n",
    "\n",
    "        car = Rectangle((x1, y1 - W / 2),   \n",
    "                        L,                  \n",
    "                        W,                  \n",
    "                        color='C2',        \n",
    "                        alpha=1,\n",
    "                        transform=(matplotlib.transforms.Affine2D().rotate_deg_around(x1, y1, rad2deg(θ0)) +\n",
    "                                   ax.transData))\n",
    "\n",
    "        ax.add_patch(car)\n",
    "\n",
    "        x2, y2 = x1 + L / 2 ** 0.5 * cos(θ0 + π / 4), y1 + L / 2 ** 0.5 * sin(θ0 + π / 4)\n",
    "        left_wheel = Line2D(\n",
    "            (x2 - L / 4 * cos(θ0 + ϕ), x2 + L / 4 * cos(θ0 + ϕ)),\n",
    "            (y2 - L / 4 * sin(θ0 + ϕ), y2 + L / 4 * sin(θ0 + ϕ)),\n",
    "            lw=3, color='C5', alpha=1)\n",
    "        ax.add_line(left_wheel)\n",
    "\n",
    "        x3, y3 = x1 + L / 2 ** 0.5 * cos(π / 4 - θ0), y1 - L / 2 ** 0.5 * sin(π / 4 - θ0)\n",
    "        right_wheel = Line2D(\n",
    "            (x3 - L / 4 * cos(θ0 + ϕ), x3 + L / 4 * cos(θ0 + ϕ)),\n",
    "            (y3 - L / 4 * sin(θ0 + ϕ), y3 + L / 4 * sin(θ0 + ϕ)),\n",
    "            lw=3, color='C5', alpha=1)\n",
    "        ax.add_line(right_wheel)\n",
    "        \n",
    "        self.patches += [car, bar, left_wheel, right_wheel]\n",
    "        \n",
    "    def _draw_trailer(self):\n",
    "        x, y, W, L, d, s, θ0, θ1, ϕ = self._get_atributes()    \n",
    "        ax = self.ax\n",
    "             \n",
    "        x, y = x - d * cos(θ1), y - d * sin(θ1) - W / 2\n",
    "        trailer = Rectangle((x, y),   \n",
    "                            d,        \n",
    "                            W,        \n",
    "                            color='C0', \n",
    "                            alpha=1,\n",
    "                            transform = (matplotlib.transforms.Affine2D().rotate_deg_around(x, y + W / 2, rad2deg(θ1)) + \n",
    "                                         ax.transData))\n",
    "\n",
    "        ax.add_patch(trailer)\n",
    "        \n",
    "        self.patches += [trailer]\n",
    "        \n",
    "    def update_state(self, state): \n",
    "        self.ϕ, self.x, self.y, self.θ0, _, _, self.θ1 = state.tolist()"
   ]
  },
  {
   "cell_type": "markdown",
   "metadata": {},
   "source": [
    "# Defining Functions to Train Emulator and Controller"
   ]
  },
  {
   "cell_type": "code",
   "execution_count": 4,
   "metadata": {},
   "outputs": [],
   "source": [
    "def generate_random_deg(mean, std, scale_lower, scale_upper): \n",
    "    random_num = np.random.normal(loc = mean, scale = std)\n",
    "    random_num_scaled = np.clip(random_num, scale_lower, scale_upper)\n",
    "    return random_num_scaled"
   ]
  },
  {
   "cell_type": "code",
   "execution_count": 5,
   "metadata": {},
   "outputs": [],
   "source": [
    "def initialize_emulator(): \n",
    "    emulator = nn.Sequential(\n",
    "        nn.Linear(7, 100),\n",
    "        nn.GELU(),\n",
    "        nn.Linear(100, 100),\n",
    "        nn.GELU(),\n",
    "        nn.Linear(100, 6)\n",
    "    )\n",
    "\n",
    "    torch.save(emulator, 'models/emulators/emulator_lesson_0.pth')\n",
    "    return emulator\n",
    "\n",
    "\n",
    "def initialize_controller():\n",
    "    controller = nn.Sequential( \n",
    "        nn.Linear(7, 50),\n",
    "        nn.Tanh(),\n",
    "        nn.Linear(50, 1)\n",
    "    )\n",
    "          \n",
    "    torch.save(controller, 'models/controllers/controller_lesson_0.pth')\n",
    "    return controller"
   ]
  },
  {
   "cell_type": "code",
   "execution_count": 6,
   "metadata": {},
   "outputs": [],
   "source": [
    "criterion_emulator = nn.MSELoss()  \n",
    "\n",
    "def criterion_controller(ϕ_state, step):\n",
    "    _, _, _, θ0, x, y, θ1 = ϕ_state \n",
    "    angle_diff_rad = torch.abs(θ1 - θ0)\n",
    "    angle_diff_deg = torch.rad2deg(angle_diff_rad)\n",
    "    angle_diff_relu = nn.functional.relu((angle_diff_deg - 30)/30)\n",
    "    x_relu = nn.functional.relu(x)\n",
    "    min_θ1 = torch.min(torch.abs(θ1), torch.abs(torch.abs(θ1) - torch.deg2rad(torch.tensor(360.0))))\n",
    "    part1 = x_relu + torch.abs(y) + min_θ1\n",
    "    part2 = (x_relu**2 + y**2 + min_θ1**2 + angle_diff_relu**2 + step * 0.01)\n",
    "    return -torch.log(1 / (part1 * part2))"
   ]
  },
  {
   "cell_type": "code",
   "execution_count": 7,
   "metadata": {
    "scrolled": true
   },
   "outputs": [],
   "source": [
    "def train_emulator(emulator, \n",
    "                   episodes, \n",
    "                   learning_rate, \n",
    "                   lesson, \n",
    "                   wandb_log = False):\n",
    "    \n",
    "    if wandb_log:\n",
    "        wandb.init(project='emulator-training', save_code = True, name=f'lesson_{lesson}_run_{current_time}')\n",
    "        \n",
    "    inputs = list()\n",
    "    outputs = list()\n",
    "    truck = Truck(lesson)\n",
    "    for episode in tqdm(range(episodes)):\n",
    "        truck.reset()\n",
    "        while truck.valid():\n",
    "            initial_state = truck.state()\n",
    "            random_deg = generate_random_deg(mean = 0, \n",
    "                                             std = 35, \n",
    "                                             scale_lower = -70, \n",
    "                                             scale_upper = 70)\n",
    "            ϕ = deg2rad(random_deg)\n",
    "            inputs.append((ϕ, *initial_state))\n",
    "            outputs.append(truck.step(ϕ))\n",
    "            \n",
    "    tensor_inputs = torch.Tensor(inputs)\n",
    "    tensor_outputs = torch.Tensor(outputs)\n",
    "    \n",
    "    test_size = int(len(tensor_inputs) * 0.8)\n",
    "    \n",
    "    train_inputs = tensor_inputs[:test_size]\n",
    "    train_outputs = tensor_outputs[:test_size]\n",
    "    \n",
    "    test_inputs = tensor_inputs[test_size:]\n",
    "    test_outputs = tensor_outputs[test_size:]\n",
    "    \n",
    "    print(\"Train Size:\", len(train_inputs))\n",
    "    print(\"Test Size:\", len(test_inputs))\n",
    "    \n",
    "    optimizer = torch.optim.Adam(emulator.parameters(), lr=learning_rate)\n",
    "    \n",
    "    global_step = 0\n",
    "    for i in torch.randperm(len(train_inputs)):\n",
    "        ϕ_state = train_inputs[i]\n",
    "        \n",
    "        next_state_prediction = emulator(ϕ_state)\n",
    "        next_state = train_outputs[i]\n",
    "        \n",
    "        optimizer.zero_grad()\n",
    "        \n",
    "        loss = criterion_emulator(next_state_prediction, next_state)\n",
    "        loss.backward()\n",
    "        \n",
    "        if wandb_log:\n",
    "            wandb.log({'train_loss': loss.item(),\n",
    "                       'gradients': {name: param.grad.norm().item() for name, param in emulator.named_parameters() if param.grad is not None}}, step=global_step)\n",
    "        \n",
    "        optimizer.step()\n",
    "        global_step += 1\n",
    "\n",
    "    with torch.no_grad():\n",
    "        total_loss = 0\n",
    "        for j in range(len(test_inputs)):\n",
    "            ϕ_state = test_inputs[j]\n",
    "            next_state = test_outputs[j]\n",
    "            \n",
    "            next_state_prediction = emulator(ϕ_state)\n",
    "            \n",
    "            loss = criterion_emulator(next_state_prediction, next_state)\n",
    "            total_loss += loss.item()\n",
    "            \n",
    "            if wandb_log:\n",
    "                wandb.log({'test_loss': loss.item()}, step = global_step)\n",
    "                \n",
    "            global_step += 1\n",
    "\n",
    "    test_size = len(test_inputs)\n",
    "    avg_test_loss = total_loss / test_size\n",
    "    \n",
    "    print()\n",
    "    print(f'Test loss: {avg_test_loss:.10f}')\n",
    "    \n",
    "    torch.save(emulator, f'models/emulators/emulator_lesson_{lesson}.pth')\n",
    "    \n",
    "    if wandb_log:\n",
    "        wandb.finish()\n",
    "    \n",
    "    return emulator"
   ]
  },
  {
   "cell_type": "code",
   "execution_count": 8,
   "metadata": {
    "scrolled": true
   },
   "outputs": [],
   "source": [
    "def train_controller(lesson, \n",
    "                     controller, \n",
    "                     epochs, \n",
    "                     max_steps,\n",
    "                     wandb_log = False,\n",
    "                     save_computational_graph = False,\n",
    "                     learning_rate = 0.0001):\n",
    "      \n",
    "    if wandb_log: \n",
    "        wandb.init(project='controller-training', save_code = True, name=f'lesson_{lesson}_run_{current_time}')\n",
    "      \n",
    "    emulator = torch.load('models/emulators/emulator_lesson_{}.pth'.format(lesson), weights_only=False)\n",
    "    optimizer = torch.optim.Adam(controller.parameters(), lr=learning_rate, weight_decay=0.0001)\n",
    "    scheduler = torch.optim.lr_scheduler.StepLR(optimizer, step_size=1000, gamma=0.9)\n",
    "    truck = Truck(lesson, display=False)\n",
    "    \n",
    "    for i in tqdm(range(epochs)):\n",
    "        truck.reset()\n",
    "        random_deg = generate_random_deg(mean = 0, \n",
    "                                         std = 70, \n",
    "                                         scale_lower = -70, \n",
    "                                         scale_upper = 70)\n",
    "        ϕ = deg2rad(random_deg)\n",
    "        state = truck.state()\n",
    "        ϕ_state = torch.cat((torch.tensor([ϕ], dtype=torch.float32), \n",
    "                             torch.tensor(state, dtype=torch.float32))) \n",
    "        step = torch.tensor(0.0)\n",
    "        \n",
    "        while step <= max_steps and truck.valid():\n",
    "            ϕ_prediction = controller(ϕ_state)\n",
    "            next_state_prediction = emulator(ϕ_state)\n",
    "            ϕ_state = torch.cat((ϕ_prediction, next_state_prediction))\n",
    "            truck.update_state(ϕ_state)\n",
    "            step += 1\n",
    "        \n",
    "        optimizer.zero_grad()\n",
    "        loss = criterion_controller(ϕ_state, step)\n",
    "        loss.backward()\n",
    "        \n",
    "        torch.nn.utils.clip_grad_norm_(parameters = controller.parameters(),               \n",
    "                                       max_norm = 1, \n",
    "                                       error_if_nonfinite = True)        \n",
    "        \n",
    "        if wandb_log:\n",
    "            wandb.log({'loss': loss.item(),\n",
    "                       'gradients': {name: param.grad.norm().item() for name, param in controller.named_parameters() if param.grad is not None}}, step=i)\n",
    "\n",
    "        \n",
    "        if save_computational_graph and i == 0 and lesson == 1: \n",
    "            dot = make_dot(loss, params=dict(controller.named_parameters()))\n",
    "            dot.format = 'png'\n",
    "            dot.render('computational-graphs/controller_computational_graph')\n",
    "        \n",
    "        optimizer.step()\n",
    "        scheduler.step()\n",
    "        \n",
    "        if i % 100 == 0:\n",
    "            torch.save(controller, 'models/controllers/controller_lesson_{}.pth'.format(lesson))\n",
    "            loss_value = loss.item()\n",
    "            print(f'{loss_value:.10f}')\n",
    "    \n",
    "    if wandb_log:\n",
    "        wandb.finish()\n",
    "            \n",
    "    return controller"
   ]
  },
  {
   "cell_type": "markdown",
   "metadata": {},
   "source": [
    "# Training Emulators"
   ]
  },
  {
   "cell_type": "code",
   "execution_count": 9,
   "metadata": {},
   "outputs": [],
   "source": [
    "!rm -r models/emulators\n",
    "!mkdir models/emulators"
   ]
  },
  {
   "cell_type": "code",
   "execution_count": 10,
   "metadata": {
    "scrolled": true
   },
   "outputs": [
    {
     "name": "stdout",
     "output_type": "stream",
     "text": [
      " Lesson 1:\n"
     ]
    },
    {
     "name": "stderr",
     "output_type": "stream",
     "text": [
      "100%|███████████████████████████████████| 10000/10000 [00:05<00:00, 1800.10it/s]\n"
     ]
    },
    {
     "name": "stdout",
     "output_type": "stream",
     "text": [
      "Train Size: 230979\n",
      "Test Size: 57745\n",
      "\n",
      "Test loss: 0.0008695917\n",
      "\n",
      " Lesson 2:\n"
     ]
    },
    {
     "name": "stderr",
     "output_type": "stream",
     "text": [
      "100%|███████████████████████████████████| 10000/10000 [00:05<00:00, 1676.34it/s]\n"
     ]
    },
    {
     "name": "stdout",
     "output_type": "stream",
     "text": [
      "Train Size: 247976\n",
      "Test Size: 61994\n",
      "\n",
      "Test loss: 0.0006438097\n",
      "\n",
      " Lesson 3:\n"
     ]
    },
    {
     "name": "stderr",
     "output_type": "stream",
     "text": [
      "100%|███████████████████████████████████| 10000/10000 [00:06<00:00, 1556.64it/s]\n"
     ]
    },
    {
     "name": "stdout",
     "output_type": "stream",
     "text": [
      "Train Size: 266541\n",
      "Test Size: 66636\n",
      "\n",
      "Test loss: 0.0010606300\n",
      "\n",
      " Lesson 4:\n"
     ]
    },
    {
     "name": "stderr",
     "output_type": "stream",
     "text": [
      "100%|███████████████████████████████████| 10000/10000 [00:06<00:00, 1550.28it/s]\n"
     ]
    },
    {
     "name": "stdout",
     "output_type": "stream",
     "text": [
      "Train Size: 267716\n",
      "Test Size: 66929\n",
      "\n",
      "Test loss: 0.0006416024\n",
      "\n",
      " Lesson 5:\n"
     ]
    },
    {
     "name": "stderr",
     "output_type": "stream",
     "text": [
      "100%|███████████████████████████████████| 10000/10000 [00:06<00:00, 1653.92it/s]\n"
     ]
    },
    {
     "name": "stdout",
     "output_type": "stream",
     "text": [
      "Train Size: 256798\n",
      "Test Size: 64200\n",
      "\n",
      "Test loss: 0.0005987183\n",
      "\n",
      " Lesson 6:\n"
     ]
    },
    {
     "name": "stderr",
     "output_type": "stream",
     "text": [
      "100%|███████████████████████████████████| 10000/10000 [00:05<00:00, 1691.23it/s]\n"
     ]
    },
    {
     "name": "stdout",
     "output_type": "stream",
     "text": [
      "Train Size: 245916\n",
      "Test Size: 61480\n",
      "\n",
      "Test loss: 0.0005232790\n",
      "\n",
      " Lesson 7:\n"
     ]
    },
    {
     "name": "stderr",
     "output_type": "stream",
     "text": [
      "100%|███████████████████████████████████| 10000/10000 [00:05<00:00, 1765.52it/s]\n"
     ]
    },
    {
     "name": "stdout",
     "output_type": "stream",
     "text": [
      "Train Size: 237566\n",
      "Test Size: 59392\n",
      "\n",
      "Test loss: 0.0006134627\n",
      "\n",
      " Lesson 8:\n"
     ]
    },
    {
     "name": "stderr",
     "output_type": "stream",
     "text": [
      "100%|███████████████████████████████████| 10000/10000 [00:05<00:00, 1853.01it/s]\n"
     ]
    },
    {
     "name": "stdout",
     "output_type": "stream",
     "text": [
      "Train Size: 228032\n",
      "Test Size: 57009\n",
      "\n",
      "Test loss: 0.0005375776\n",
      "\n",
      " Lesson 9:\n"
     ]
    },
    {
     "name": "stderr",
     "output_type": "stream",
     "text": [
      "100%|███████████████████████████████████| 10000/10000 [00:05<00:00, 1870.15it/s]\n"
     ]
    },
    {
     "name": "stdout",
     "output_type": "stream",
     "text": [
      "Train Size: 215216\n",
      "Test Size: 53804\n",
      "\n",
      "Test loss: 0.0006486412\n",
      "\n",
      " Lesson 10:\n"
     ]
    },
    {
     "name": "stderr",
     "output_type": "stream",
     "text": [
      "100%|███████████████████████████████████| 10000/10000 [00:04<00:00, 2037.09it/s]\n"
     ]
    },
    {
     "name": "stdout",
     "output_type": "stream",
     "text": [
      "Train Size: 201387\n",
      "Test Size: 50347\n",
      "\n",
      "Test loss: 0.0005553037\n",
      "\n",
      " Lesson 11:\n"
     ]
    },
    {
     "name": "stderr",
     "output_type": "stream",
     "text": [
      "100%|███████████████████████████████████| 10000/10000 [00:04<00:00, 2004.39it/s]\n"
     ]
    },
    {
     "name": "stdout",
     "output_type": "stream",
     "text": [
      "Train Size: 208244\n",
      "Test Size: 52062\n",
      "\n",
      "Test loss: 0.0007159908\n",
      "\n"
     ]
    }
   ],
   "source": [
    "emulator = initialize_emulator()\n",
    "\n",
    "for lesson in range(1, num_lessons + 2): \n",
    "    print(\" Lesson {}:\".format(lesson))\n",
    "    emulator = train_emulator(lesson = lesson,\n",
    "                              emulator = emulator, \n",
    "                              episodes = 10_000,\n",
    "                              learning_rate = 0.00001)\n",
    "    print()"
   ]
  },
  {
   "cell_type": "markdown",
   "metadata": {},
   "source": [
    " # Training Controllers"
   ]
  },
  {
   "cell_type": "code",
   "execution_count": 11,
   "metadata": {},
   "outputs": [],
   "source": [
    "!rm -rf models/controllers\n",
    "!mkdir models/controllers"
   ]
  },
  {
   "cell_type": "code",
   "execution_count": 12,
   "metadata": {
    "scrolled": true
   },
   "outputs": [
    {
     "name": "stdout",
     "output_type": "stream",
     "text": [
      " Lesson 1:\n"
     ]
    },
    {
     "name": "stderr",
     "output_type": "stream",
     "text": [
      "\r",
      "  0%|                                                  | 0/3000 [00:00<?, ?it/s]"
     ]
    },
    {
     "name": "stdout",
     "output_type": "stream",
     "text": [
      "5.3225259781\n"
     ]
    },
    {
     "name": "stderr",
     "output_type": "stream",
     "text": [
      "  4%|█▍                                     | 111/3000 [00:00<00:26, 109.27it/s]"
     ]
    },
    {
     "name": "stdout",
     "output_type": "stream",
     "text": [
      "4.5855989456\n"
     ]
    },
    {
     "name": "stderr",
     "output_type": "stream",
     "text": [
      "  7%|██▊                                    | 219/3000 [00:01<00:26, 103.39it/s]"
     ]
    },
    {
     "name": "stdout",
     "output_type": "stream",
     "text": [
      "4.4356689453\n"
     ]
    },
    {
     "name": "stderr",
     "output_type": "stream",
     "text": [
      " 11%|████                                   | 316/3000 [00:02<00:25, 106.39it/s]"
     ]
    },
    {
     "name": "stdout",
     "output_type": "stream",
     "text": [
      "5.6430168152\n"
     ]
    },
    {
     "name": "stderr",
     "output_type": "stream",
     "text": [
      " 14%|█████▎                                 | 413/3000 [00:03<00:23, 110.47it/s]"
     ]
    },
    {
     "name": "stdout",
     "output_type": "stream",
     "text": [
      "4.0378675461\n"
     ]
    },
    {
     "name": "stderr",
     "output_type": "stream",
     "text": [
      " 17%|██████▋                                | 516/3000 [00:04<00:24, 103.20it/s]"
     ]
    },
    {
     "name": "stdout",
     "output_type": "stream",
     "text": [
      "4.6353573799\n"
     ]
    },
    {
     "name": "stderr",
     "output_type": "stream",
     "text": [
      " 20%|████████▏                               | 615/3000 [00:05<00:25, 93.71it/s]"
     ]
    },
    {
     "name": "stdout",
     "output_type": "stream",
     "text": [
      "0.3528463840\n"
     ]
    },
    {
     "name": "stderr",
     "output_type": "stream",
     "text": [
      " 24%|█████████▎                             | 716/3000 [00:06<00:20, 108.82it/s]"
     ]
    },
    {
     "name": "stdout",
     "output_type": "stream",
     "text": [
      "0.4175578654\n"
     ]
    },
    {
     "name": "stderr",
     "output_type": "stream",
     "text": [
      " 27%|██████████▌                            | 812/3000 [00:07<00:20, 105.27it/s]"
     ]
    },
    {
     "name": "stdout",
     "output_type": "stream",
     "text": [
      "1.9930747747\n"
     ]
    },
    {
     "name": "stderr",
     "output_type": "stream",
     "text": [
      " 30%|███████████▊                           | 913/3000 [00:08<00:20, 100.71it/s]"
     ]
    },
    {
     "name": "stdout",
     "output_type": "stream",
     "text": [
      "-1.1297348738\n"
     ]
    },
    {
     "name": "stderr",
     "output_type": "stream",
     "text": [
      " 34%|████████████▊                         | 1012/3000 [00:09<00:19, 100.79it/s]"
     ]
    },
    {
     "name": "stdout",
     "output_type": "stream",
     "text": [
      "6.1820306778\n"
     ]
    },
    {
     "name": "stderr",
     "output_type": "stream",
     "text": [
      " 37%|██████████████▌                        | 1119/3000 [00:10<00:19, 97.95it/s]"
     ]
    },
    {
     "name": "stdout",
     "output_type": "stream",
     "text": [
      "3.3333399296\n"
     ]
    },
    {
     "name": "stderr",
     "output_type": "stream",
     "text": [
      " 41%|███████████████▍                      | 1216/3000 [00:11<00:17, 100.47it/s]"
     ]
    },
    {
     "name": "stdout",
     "output_type": "stream",
     "text": [
      "3.0132775307\n"
     ]
    },
    {
     "name": "stderr",
     "output_type": "stream",
     "text": [
      " 44%|█████████████████▏                     | 1320/3000 [00:12<00:17, 95.81it/s]"
     ]
    },
    {
     "name": "stdout",
     "output_type": "stream",
     "text": [
      "-0.2992126942\n"
     ]
    },
    {
     "name": "stderr",
     "output_type": "stream",
     "text": [
      " 47%|█████████████████▊                    | 1410/3000 [00:13<00:14, 107.46it/s]"
     ]
    },
    {
     "name": "stdout",
     "output_type": "stream",
     "text": [
      "2.1940982342\n"
     ]
    },
    {
     "name": "stderr",
     "output_type": "stream",
     "text": [
      " 50%|███████████████████▋                   | 1513/3000 [00:14<00:17, 86.79it/s]"
     ]
    },
    {
     "name": "stdout",
     "output_type": "stream",
     "text": [
      "2.4075272083\n"
     ]
    },
    {
     "name": "stderr",
     "output_type": "stream",
     "text": [
      " 54%|█████████████████████                  | 1617/3000 [00:16<00:14, 93.24it/s]"
     ]
    },
    {
     "name": "stdout",
     "output_type": "stream",
     "text": [
      "2.8597662449\n"
     ]
    },
    {
     "name": "stderr",
     "output_type": "stream",
     "text": [
      " 57%|██████████████████████▎                | 1718/3000 [00:17<00:13, 94.16it/s]"
     ]
    },
    {
     "name": "stdout",
     "output_type": "stream",
     "text": [
      "0.3193141222\n"
     ]
    },
    {
     "name": "stderr",
     "output_type": "stream",
     "text": [
      " 60%|███████████████████████▌               | 1814/3000 [00:18<00:12, 97.21it/s]"
     ]
    },
    {
     "name": "stdout",
     "output_type": "stream",
     "text": [
      "4.5923404694\n"
     ]
    },
    {
     "name": "stderr",
     "output_type": "stream",
     "text": [
      " 64%|████████████████████████▏             | 1911/3000 [00:19<00:10, 100.73it/s]"
     ]
    },
    {
     "name": "stdout",
     "output_type": "stream",
     "text": [
      "3.4595417976\n"
     ]
    },
    {
     "name": "stderr",
     "output_type": "stream",
     "text": [
      " 67%|██████████████████████████▏            | 2017/3000 [00:20<00:10, 92.87it/s]"
     ]
    },
    {
     "name": "stdout",
     "output_type": "stream",
     "text": [
      "1.3330920935\n"
     ]
    },
    {
     "name": "stderr",
     "output_type": "stream",
     "text": [
      " 70%|███████████████████████████▍           | 2110/3000 [00:21<00:09, 96.04it/s]"
     ]
    },
    {
     "name": "stdout",
     "output_type": "stream",
     "text": [
      "2.6986854076\n"
     ]
    },
    {
     "name": "stderr",
     "output_type": "stream",
     "text": [
      " 74%|████████████████████████████▋          | 2209/3000 [00:22<00:09, 87.35it/s]"
     ]
    },
    {
     "name": "stdout",
     "output_type": "stream",
     "text": [
      "0.8744913936\n"
     ]
    },
    {
     "name": "stderr",
     "output_type": "stream",
     "text": [
      " 77%|██████████████████████████████▏        | 2319/3000 [00:23<00:07, 94.16it/s]"
     ]
    },
    {
     "name": "stdout",
     "output_type": "stream",
     "text": [
      "0.1189073026\n"
     ]
    },
    {
     "name": "stderr",
     "output_type": "stream",
     "text": [
      " 80%|███████████████████████████████▍       | 2414/3000 [00:24<00:06, 97.24it/s]"
     ]
    },
    {
     "name": "stdout",
     "output_type": "stream",
     "text": [
      "3.6422407627\n"
     ]
    },
    {
     "name": "stderr",
     "output_type": "stream",
     "text": [
      " 84%|███████████████████████████████▊      | 2513/3000 [00:25<00:04, 102.26it/s]"
     ]
    },
    {
     "name": "stdout",
     "output_type": "stream",
     "text": [
      "-0.1788056046\n"
     ]
    },
    {
     "name": "stderr",
     "output_type": "stream",
     "text": [
      " 87%|██████████████████████████████████     | 2619/3000 [00:26<00:03, 97.49it/s]"
     ]
    },
    {
     "name": "stdout",
     "output_type": "stream",
     "text": [
      "0.7890009284\n"
     ]
    },
    {
     "name": "stderr",
     "output_type": "stream",
     "text": [
      " 90%|███████████████████████████████████▎   | 2714/3000 [00:27<00:03, 94.61it/s]"
     ]
    },
    {
     "name": "stdout",
     "output_type": "stream",
     "text": [
      "0.0491750054\n"
     ]
    },
    {
     "name": "stderr",
     "output_type": "stream",
     "text": [
      " 94%|████████████████████████████████████▌  | 2809/3000 [00:28<00:02, 93.69it/s]"
     ]
    },
    {
     "name": "stdout",
     "output_type": "stream",
     "text": [
      "2.3772611618\n"
     ]
    },
    {
     "name": "stderr",
     "output_type": "stream",
     "text": [
      " 97%|████████████████████████████████████▉ | 2920/3000 [00:29<00:00, 106.39it/s]"
     ]
    },
    {
     "name": "stdout",
     "output_type": "stream",
     "text": [
      "2.6908819675\n"
     ]
    },
    {
     "name": "stderr",
     "output_type": "stream",
     "text": [
      "100%|███████████████████████████████████████| 3000/3000 [00:30<00:00, 98.54it/s]\n"
     ]
    },
    {
     "name": "stdout",
     "output_type": "stream",
     "text": [
      "\n",
      " Lesson 2:\n"
     ]
    },
    {
     "name": "stderr",
     "output_type": "stream",
     "text": [
      "  0%|▏                                         | 9/3000 [00:00<00:38, 78.22it/s]"
     ]
    },
    {
     "name": "stdout",
     "output_type": "stream",
     "text": [
      "3.0123777390\n"
     ]
    },
    {
     "name": "stderr",
     "output_type": "stream",
     "text": [
      "  4%|█▍                                      | 110/3000 [00:01<00:36, 78.12it/s]"
     ]
    },
    {
     "name": "stdout",
     "output_type": "stream",
     "text": [
      "3.3485932350\n"
     ]
    },
    {
     "name": "stderr",
     "output_type": "stream",
     "text": [
      "  7%|██▊                                     | 211/3000 [00:02<00:34, 81.36it/s]"
     ]
    },
    {
     "name": "stdout",
     "output_type": "stream",
     "text": [
      "4.9637231827\n"
     ]
    },
    {
     "name": "stderr",
     "output_type": "stream",
     "text": [
      " 11%|████▏                                   | 316/3000 [00:04<00:33, 81.01it/s]"
     ]
    },
    {
     "name": "stdout",
     "output_type": "stream",
     "text": [
      "4.4572873116\n"
     ]
    },
    {
     "name": "stderr",
     "output_type": "stream",
     "text": [
      " 14%|█████▌                                  | 414/3000 [00:05<00:31, 81.97it/s]"
     ]
    },
    {
     "name": "stdout",
     "output_type": "stream",
     "text": [
      "1.2400290966\n"
     ]
    },
    {
     "name": "stderr",
     "output_type": "stream",
     "text": [
      " 17%|██████▉                                 | 516/3000 [00:06<00:28, 87.89it/s]"
     ]
    },
    {
     "name": "stdout",
     "output_type": "stream",
     "text": [
      "0.3531074226\n"
     ]
    },
    {
     "name": "stderr",
     "output_type": "stream",
     "text": [
      " 20%|████████▏                               | 615/3000 [00:07<00:30, 78.99it/s]"
     ]
    },
    {
     "name": "stdout",
     "output_type": "stream",
     "text": [
      "2.3964107037\n"
     ]
    },
    {
     "name": "stderr",
     "output_type": "stream",
     "text": [
      " 24%|█████████▍                              | 712/3000 [00:08<00:26, 86.14it/s]"
     ]
    },
    {
     "name": "stdout",
     "output_type": "stream",
     "text": [
      "-0.4651322961\n"
     ]
    },
    {
     "name": "stderr",
     "output_type": "stream",
     "text": [
      " 27%|██████████▉                             | 816/3000 [00:10<00:28, 76.16it/s]"
     ]
    },
    {
     "name": "stdout",
     "output_type": "stream",
     "text": [
      "1.7191672325\n"
     ]
    },
    {
     "name": "stderr",
     "output_type": "stream",
     "text": [
      " 30%|████████████▏                           | 913/3000 [00:11<00:24, 83.82it/s]"
     ]
    },
    {
     "name": "stdout",
     "output_type": "stream",
     "text": [
      "0.4500690997\n"
     ]
    },
    {
     "name": "stderr",
     "output_type": "stream",
     "text": [
      " 34%|█████████████▏                         | 1010/3000 [00:12<00:22, 87.02it/s]"
     ]
    },
    {
     "name": "stdout",
     "output_type": "stream",
     "text": [
      "-1.0771782398\n"
     ]
    },
    {
     "name": "stderr",
     "output_type": "stream",
     "text": [
      " 37%|██████████████▍                        | 1115/3000 [00:13<00:20, 90.84it/s]"
     ]
    },
    {
     "name": "stdout",
     "output_type": "stream",
     "text": [
      "-1.8589594364\n"
     ]
    },
    {
     "name": "stderr",
     "output_type": "stream",
     "text": [
      " 40%|███████████████▊                       | 1215/3000 [00:14<00:19, 93.28it/s]"
     ]
    },
    {
     "name": "stdout",
     "output_type": "stream",
     "text": [
      "-0.2254359424\n"
     ]
    },
    {
     "name": "stderr",
     "output_type": "stream",
     "text": [
      " 44%|█████████████████                      | 1315/3000 [00:15<00:17, 94.71it/s]"
     ]
    },
    {
     "name": "stdout",
     "output_type": "stream",
     "text": [
      "-1.9236991405\n"
     ]
    },
    {
     "name": "stderr",
     "output_type": "stream",
     "text": [
      " 47%|██████████████████▍                    | 1416/3000 [00:16<00:16, 93.60it/s]"
     ]
    },
    {
     "name": "stdout",
     "output_type": "stream",
     "text": [
      "-0.8262761235\n"
     ]
    },
    {
     "name": "stderr",
     "output_type": "stream",
     "text": [
      " 51%|███████████████████▋                   | 1517/3000 [00:18<00:15, 93.98it/s]"
     ]
    },
    {
     "name": "stdout",
     "output_type": "stream",
     "text": [
      "-1.6991089582\n"
     ]
    },
    {
     "name": "stderr",
     "output_type": "stream",
     "text": [
      " 54%|████████████████████▉                  | 1615/3000 [00:19<00:17, 80.69it/s]"
     ]
    },
    {
     "name": "stdout",
     "output_type": "stream",
     "text": [
      "-2.1295423508\n"
     ]
    },
    {
     "name": "stderr",
     "output_type": "stream",
     "text": [
      " 57%|██████████████████████▎                | 1717/3000 [00:20<00:14, 85.77it/s]"
     ]
    },
    {
     "name": "stdout",
     "output_type": "stream",
     "text": [
      "-0.2659300268\n"
     ]
    },
    {
     "name": "stderr",
     "output_type": "stream",
     "text": [
      " 60%|███████████████████████▌               | 1812/3000 [00:21<00:13, 89.03it/s]"
     ]
    },
    {
     "name": "stdout",
     "output_type": "stream",
     "text": [
      "-0.7346318960\n"
     ]
    },
    {
     "name": "stderr",
     "output_type": "stream",
     "text": [
      " 64%|████████████████████████▉              | 1918/3000 [00:22<00:12, 89.71it/s]"
     ]
    },
    {
     "name": "stdout",
     "output_type": "stream",
     "text": [
      "-1.0466037989\n"
     ]
    },
    {
     "name": "stderr",
     "output_type": "stream",
     "text": [
      " 67%|██████████████████████████▏            | 2011/3000 [00:23<00:10, 95.87it/s]"
     ]
    },
    {
     "name": "stdout",
     "output_type": "stream",
     "text": [
      "-1.0944317579\n"
     ]
    },
    {
     "name": "stderr",
     "output_type": "stream",
     "text": [
      " 70%|███████████████████████████▍           | 2111/3000 [00:24<00:09, 90.35it/s]"
     ]
    },
    {
     "name": "stdout",
     "output_type": "stream",
     "text": [
      "-2.0867280960\n"
     ]
    },
    {
     "name": "stderr",
     "output_type": "stream",
     "text": [
      " 74%|████████████████████████████▊          | 2220/3000 [00:25<00:08, 94.53it/s]"
     ]
    },
    {
     "name": "stdout",
     "output_type": "stream",
     "text": [
      "-1.8893542290\n"
     ]
    },
    {
     "name": "stderr",
     "output_type": "stream",
     "text": [
      " 77%|██████████████████████████████         | 2317/3000 [00:27<00:07, 96.40it/s]"
     ]
    },
    {
     "name": "stdout",
     "output_type": "stream",
     "text": [
      "-1.0060591698\n"
     ]
    },
    {
     "name": "stderr",
     "output_type": "stream",
     "text": [
      " 81%|███████████████████████████████▍       | 2420/3000 [00:28<00:06, 95.64it/s]"
     ]
    },
    {
     "name": "stdout",
     "output_type": "stream",
     "text": [
      "0.2019269913\n"
     ]
    },
    {
     "name": "stderr",
     "output_type": "stream",
     "text": [
      " 84%|████████████████████████████████▋      | 2511/3000 [00:29<00:05, 94.32it/s]"
     ]
    },
    {
     "name": "stdout",
     "output_type": "stream",
     "text": [
      "-2.3495969772\n"
     ]
    },
    {
     "name": "stderr",
     "output_type": "stream",
     "text": [
      " 87%|█████████████████████████████████▉     | 2615/3000 [00:30<00:04, 93.01it/s]"
     ]
    },
    {
     "name": "stdout",
     "output_type": "stream",
     "text": [
      "-2.1585805416\n"
     ]
    },
    {
     "name": "stderr",
     "output_type": "stream",
     "text": [
      " 91%|███████████████████████████████████▎   | 2717/3000 [00:31<00:03, 91.49it/s]"
     ]
    },
    {
     "name": "stdout",
     "output_type": "stream",
     "text": [
      "0.1715272665\n"
     ]
    },
    {
     "name": "stderr",
     "output_type": "stream",
     "text": [
      " 94%|███████████████████████████████████▋  | 2817/3000 [00:32<00:01, 101.08it/s]"
     ]
    },
    {
     "name": "stdout",
     "output_type": "stream",
     "text": [
      "-2.6563794613\n"
     ]
    },
    {
     "name": "stderr",
     "output_type": "stream",
     "text": [
      " 97%|█████████████████████████████████████▉ | 2915/3000 [00:33<00:00, 96.76it/s]"
     ]
    },
    {
     "name": "stdout",
     "output_type": "stream",
     "text": [
      "-2.7081439495\n"
     ]
    },
    {
     "name": "stderr",
     "output_type": "stream",
     "text": [
      "100%|███████████████████████████████████████| 3000/3000 [00:34<00:00, 87.88it/s]\n"
     ]
    },
    {
     "name": "stdout",
     "output_type": "stream",
     "text": [
      "\n",
      " Lesson 3:\n"
     ]
    },
    {
     "name": "stderr",
     "output_type": "stream",
     "text": [
      "  0%|▏                                         | 9/3000 [00:00<00:40, 74.66it/s]"
     ]
    },
    {
     "name": "stdout",
     "output_type": "stream",
     "text": [
      "-0.3969697952\n"
     ]
    },
    {
     "name": "stderr",
     "output_type": "stream",
     "text": [
      "  4%|█▍                                      | 109/3000 [00:01<00:40, 71.00it/s]"
     ]
    },
    {
     "name": "stdout",
     "output_type": "stream",
     "text": [
      "-2.0051262379\n"
     ]
    },
    {
     "name": "stderr",
     "output_type": "stream",
     "text": [
      "  7%|██▊                                     | 213/3000 [00:02<00:40, 69.41it/s]"
     ]
    },
    {
     "name": "stdout",
     "output_type": "stream",
     "text": [
      "-3.3509118557\n"
     ]
    },
    {
     "name": "stderr",
     "output_type": "stream",
     "text": [
      " 10%|████▏                                   | 312/3000 [00:04<00:37, 72.16it/s]"
     ]
    },
    {
     "name": "stdout",
     "output_type": "stream",
     "text": [
      "-2.6990337372\n"
     ]
    },
    {
     "name": "stderr",
     "output_type": "stream",
     "text": [
      " 14%|█████▍                                  | 408/3000 [00:05<00:34, 74.75it/s]"
     ]
    },
    {
     "name": "stdout",
     "output_type": "stream",
     "text": [
      "-3.1402118206\n"
     ]
    },
    {
     "name": "stderr",
     "output_type": "stream",
     "text": [
      " 17%|██████▊                                 | 513/3000 [00:07<00:36, 67.58it/s]"
     ]
    },
    {
     "name": "stdout",
     "output_type": "stream",
     "text": [
      "-2.5770194530\n"
     ]
    },
    {
     "name": "stderr",
     "output_type": "stream",
     "text": [
      " 20%|████████                                | 608/3000 [00:08<00:35, 67.99it/s]"
     ]
    },
    {
     "name": "stdout",
     "output_type": "stream",
     "text": [
      "-1.5517185926\n"
     ]
    },
    {
     "name": "stderr",
     "output_type": "stream",
     "text": [
      " 24%|█████████▌                              | 715/3000 [00:09<00:33, 68.19it/s]"
     ]
    },
    {
     "name": "stdout",
     "output_type": "stream",
     "text": [
      "-0.5364331603\n"
     ]
    },
    {
     "name": "stderr",
     "output_type": "stream",
     "text": [
      " 27%|██████████▊                             | 814/3000 [00:11<00:31, 69.68it/s]"
     ]
    },
    {
     "name": "stdout",
     "output_type": "stream",
     "text": [
      "-2.3801987171\n"
     ]
    },
    {
     "name": "stderr",
     "output_type": "stream",
     "text": [
      " 30%|████████████▏                           | 910/3000 [00:12<00:28, 72.78it/s]"
     ]
    },
    {
     "name": "stdout",
     "output_type": "stream",
     "text": [
      "-0.6754983664\n"
     ]
    },
    {
     "name": "stderr",
     "output_type": "stream",
     "text": [
      " 34%|█████████████▏                         | 1013/3000 [00:14<00:29, 66.80it/s]"
     ]
    },
    {
     "name": "stdout",
     "output_type": "stream",
     "text": [
      "-1.4833905697\n"
     ]
    },
    {
     "name": "stderr",
     "output_type": "stream",
     "text": [
      " 37%|██████████████▍                        | 1109/3000 [00:15<00:28, 67.29it/s]"
     ]
    },
    {
     "name": "stdout",
     "output_type": "stream",
     "text": [
      "-1.5416010618\n"
     ]
    },
    {
     "name": "stderr",
     "output_type": "stream",
     "text": [
      " 40%|███████████████▋                       | 1209/3000 [00:17<00:24, 73.06it/s]"
     ]
    },
    {
     "name": "stdout",
     "output_type": "stream",
     "text": [
      "0.3283336759\n"
     ]
    },
    {
     "name": "stderr",
     "output_type": "stream",
     "text": [
      " 44%|█████████████████                      | 1308/3000 [00:18<00:23, 72.29it/s]"
     ]
    },
    {
     "name": "stdout",
     "output_type": "stream",
     "text": [
      "-1.9125807285\n"
     ]
    },
    {
     "name": "stderr",
     "output_type": "stream",
     "text": [
      " 47%|██████████████████▎                    | 1410/3000 [00:20<00:24, 63.66it/s]"
     ]
    },
    {
     "name": "stdout",
     "output_type": "stream",
     "text": [
      "-1.3724874258\n"
     ]
    },
    {
     "name": "stderr",
     "output_type": "stream",
     "text": [
      " 50%|███████████████████▋                   | 1512/3000 [00:21<00:21, 69.34it/s]"
     ]
    },
    {
     "name": "stdout",
     "output_type": "stream",
     "text": [
      "-2.2942163944\n"
     ]
    },
    {
     "name": "stderr",
     "output_type": "stream",
     "text": [
      " 54%|████████████████████▉                  | 1606/3000 [00:22<00:19, 71.83it/s]"
     ]
    },
    {
     "name": "stdout",
     "output_type": "stream",
     "text": [
      "-1.3721548319\n"
     ]
    },
    {
     "name": "stderr",
     "output_type": "stream",
     "text": [
      " 57%|██████████████████████▏                | 1707/3000 [00:24<00:18, 69.72it/s]"
     ]
    },
    {
     "name": "stdout",
     "output_type": "stream",
     "text": [
      "-1.3811249733\n"
     ]
    },
    {
     "name": "stderr",
     "output_type": "stream",
     "text": [
      " 60%|███████████████████████▌               | 1813/3000 [00:25<00:16, 71.38it/s]"
     ]
    },
    {
     "name": "stdout",
     "output_type": "stream",
     "text": [
      "-2.4281654358\n"
     ]
    },
    {
     "name": "stderr",
     "output_type": "stream",
     "text": [
      " 64%|████████████████████████▉              | 1915/3000 [00:27<00:14, 73.08it/s]"
     ]
    },
    {
     "name": "stdout",
     "output_type": "stream",
     "text": [
      "-1.4736956358\n"
     ]
    },
    {
     "name": "stderr",
     "output_type": "stream",
     "text": [
      " 67%|██████████████████████████             | 2009/3000 [00:28<00:14, 69.53it/s]"
     ]
    },
    {
     "name": "stdout",
     "output_type": "stream",
     "text": [
      "-3.0228767395\n"
     ]
    },
    {
     "name": "stderr",
     "output_type": "stream",
     "text": [
      " 70%|███████████████████████████▍           | 2112/3000 [00:30<00:12, 72.71it/s]"
     ]
    },
    {
     "name": "stdout",
     "output_type": "stream",
     "text": [
      "-2.0428466797\n"
     ]
    },
    {
     "name": "stderr",
     "output_type": "stream",
     "text": [
      " 74%|████████████████████████████▋          | 2208/3000 [00:31<00:11, 68.23it/s]"
     ]
    },
    {
     "name": "stdout",
     "output_type": "stream",
     "text": [
      "-1.8400017023\n"
     ]
    },
    {
     "name": "stderr",
     "output_type": "stream",
     "text": [
      " 77%|██████████████████████████████         | 2308/3000 [00:32<00:09, 72.01it/s]"
     ]
    },
    {
     "name": "stdout",
     "output_type": "stream",
     "text": [
      "-2.0650417805\n"
     ]
    },
    {
     "name": "stderr",
     "output_type": "stream",
     "text": [
      " 80%|███████████████████████████████▎       | 2411/3000 [00:34<00:08, 70.03it/s]"
     ]
    },
    {
     "name": "stdout",
     "output_type": "stream",
     "text": [
      "-1.6135778427\n"
     ]
    },
    {
     "name": "stderr",
     "output_type": "stream",
     "text": [
      " 84%|████████████████████████████████▋      | 2515/3000 [00:35<00:06, 70.73it/s]"
     ]
    },
    {
     "name": "stdout",
     "output_type": "stream",
     "text": [
      "-1.8114582300\n"
     ]
    },
    {
     "name": "stderr",
     "output_type": "stream",
     "text": [
      " 87%|█████████████████████████████████▉     | 2612/3000 [00:37<00:05, 66.37it/s]"
     ]
    },
    {
     "name": "stdout",
     "output_type": "stream",
     "text": [
      "-2.7872695923\n"
     ]
    },
    {
     "name": "stderr",
     "output_type": "stream",
     "text": [
      " 90%|███████████████████████████████████▎   | 2715/3000 [00:38<00:04, 68.81it/s]"
     ]
    },
    {
     "name": "stdout",
     "output_type": "stream",
     "text": [
      "-2.6668777466\n"
     ]
    },
    {
     "name": "stderr",
     "output_type": "stream",
     "text": [
      " 94%|████████████████████████████████████▌  | 2809/3000 [00:40<00:02, 69.63it/s]"
     ]
    },
    {
     "name": "stdout",
     "output_type": "stream",
     "text": [
      "-1.2193086147\n"
     ]
    },
    {
     "name": "stderr",
     "output_type": "stream",
     "text": [
      " 97%|█████████████████████████████████████▊ | 2913/3000 [00:41<00:01, 68.51it/s]"
     ]
    },
    {
     "name": "stdout",
     "output_type": "stream",
     "text": [
      "-2.6233026981\n"
     ]
    },
    {
     "name": "stderr",
     "output_type": "stream",
     "text": [
      "100%|███████████████████████████████████████| 3000/3000 [00:42<00:00, 70.15it/s]\n"
     ]
    },
    {
     "name": "stdout",
     "output_type": "stream",
     "text": [
      "\n",
      " Lesson 4:\n"
     ]
    },
    {
     "name": "stderr",
     "output_type": "stream",
     "text": [
      "  0%|▏                                         | 9/3000 [00:00<00:33, 89.87it/s]"
     ]
    },
    {
     "name": "stdout",
     "output_type": "stream",
     "text": [
      "7.7391738892\n"
     ]
    },
    {
     "name": "stderr",
     "output_type": "stream",
     "text": [
      "  4%|█▍                                      | 109/3000 [00:01<00:47, 60.86it/s]"
     ]
    },
    {
     "name": "stdout",
     "output_type": "stream",
     "text": [
      "1.0015981197\n"
     ]
    },
    {
     "name": "stderr",
     "output_type": "stream",
     "text": [
      "  7%|██▊                                     | 210/3000 [00:03<00:48, 57.22it/s]"
     ]
    },
    {
     "name": "stdout",
     "output_type": "stream",
     "text": [
      "-0.6545543671\n"
     ]
    },
    {
     "name": "stderr",
     "output_type": "stream",
     "text": [
      " 10%|████                                    | 308/3000 [00:05<00:47, 57.01it/s]"
     ]
    },
    {
     "name": "stdout",
     "output_type": "stream",
     "text": [
      "-1.1519974470\n"
     ]
    },
    {
     "name": "stderr",
     "output_type": "stream",
     "text": [
      " 14%|█████▍                                  | 409/3000 [00:07<00:48, 53.44it/s]"
     ]
    },
    {
     "name": "stdout",
     "output_type": "stream",
     "text": [
      "-1.9841854572\n"
     ]
    },
    {
     "name": "stderr",
     "output_type": "stream",
     "text": [
      " 17%|██████▊                                 | 510/3000 [00:09<00:46, 54.05it/s]"
     ]
    },
    {
     "name": "stdout",
     "output_type": "stream",
     "text": [
      "-2.8064243793\n"
     ]
    },
    {
     "name": "stderr",
     "output_type": "stream",
     "text": [
      " 20%|████████▏                               | 610/3000 [00:11<00:45, 52.58it/s]"
     ]
    },
    {
     "name": "stdout",
     "output_type": "stream",
     "text": [
      "0.7642381787\n"
     ]
    },
    {
     "name": "stderr",
     "output_type": "stream",
     "text": [
      " 24%|█████████▍                              | 709/3000 [00:12<00:42, 53.71it/s]"
     ]
    },
    {
     "name": "stdout",
     "output_type": "stream",
     "text": [
      "-1.5237196684\n"
     ]
    },
    {
     "name": "stderr",
     "output_type": "stream",
     "text": [
      " 27%|██████████▊                             | 809/3000 [00:14<00:40, 53.64it/s]"
     ]
    },
    {
     "name": "stdout",
     "output_type": "stream",
     "text": [
      "-1.6449836493\n"
     ]
    },
    {
     "name": "stderr",
     "output_type": "stream",
     "text": [
      " 30%|████████████▏                           | 911/3000 [00:16<00:39, 52.69it/s]"
     ]
    },
    {
     "name": "stdout",
     "output_type": "stream",
     "text": [
      "-3.1610805988\n"
     ]
    },
    {
     "name": "stderr",
     "output_type": "stream",
     "text": [
      " 34%|█████████████▏                         | 1012/3000 [00:18<00:32, 61.29it/s]"
     ]
    },
    {
     "name": "stdout",
     "output_type": "stream",
     "text": [
      "-0.8629279137\n"
     ]
    },
    {
     "name": "stderr",
     "output_type": "stream",
     "text": [
      " 37%|██████████████▍                        | 1108/3000 [00:19<00:31, 59.30it/s]"
     ]
    },
    {
     "name": "stdout",
     "output_type": "stream",
     "text": [
      "-1.1233704090\n"
     ]
    },
    {
     "name": "stderr",
     "output_type": "stream",
     "text": [
      " 40%|███████████████▊                       | 1212/3000 [00:21<00:33, 52.90it/s]"
     ]
    },
    {
     "name": "stdout",
     "output_type": "stream",
     "text": [
      "-3.2196872234\n"
     ]
    },
    {
     "name": "stderr",
     "output_type": "stream",
     "text": [
      " 44%|█████████████████                      | 1309/3000 [00:23<00:32, 52.41it/s]"
     ]
    },
    {
     "name": "stdout",
     "output_type": "stream",
     "text": [
      "-2.7486939430\n"
     ]
    },
    {
     "name": "stderr",
     "output_type": "stream",
     "text": [
      " 47%|██████████████████▎                    | 1411/3000 [00:25<00:31, 51.07it/s]"
     ]
    },
    {
     "name": "stdout",
     "output_type": "stream",
     "text": [
      "-1.6712267399\n"
     ]
    },
    {
     "name": "stderr",
     "output_type": "stream",
     "text": [
      " 50%|███████████████████▋                   | 1511/3000 [00:27<00:28, 52.38it/s]"
     ]
    },
    {
     "name": "stdout",
     "output_type": "stream",
     "text": [
      "-1.7314391136\n"
     ]
    },
    {
     "name": "stderr",
     "output_type": "stream",
     "text": [
      " 54%|████████████████████▉                  | 1611/3000 [00:29<00:25, 53.88it/s]"
     ]
    },
    {
     "name": "stdout",
     "output_type": "stream",
     "text": [
      "-0.2429366261\n"
     ]
    },
    {
     "name": "stderr",
     "output_type": "stream",
     "text": [
      " 57%|██████████████████████▏                | 1709/3000 [00:31<00:27, 47.41it/s]"
     ]
    },
    {
     "name": "stdout",
     "output_type": "stream",
     "text": [
      "-1.8636838198\n"
     ]
    },
    {
     "name": "stderr",
     "output_type": "stream",
     "text": [
      " 60%|███████████████████████▌               | 1808/3000 [00:33<00:22, 52.98it/s]"
     ]
    },
    {
     "name": "stdout",
     "output_type": "stream",
     "text": [
      "-2.3317933083\n"
     ]
    },
    {
     "name": "stderr",
     "output_type": "stream",
     "text": [
      " 64%|████████████████████████▊              | 1910/3000 [00:35<00:21, 50.36it/s]"
     ]
    },
    {
     "name": "stdout",
     "output_type": "stream",
     "text": [
      "-1.6377491951\n"
     ]
    },
    {
     "name": "stderr",
     "output_type": "stream",
     "text": [
      " 67%|██████████████████████████▏            | 2012/3000 [00:37<00:18, 53.56it/s]"
     ]
    },
    {
     "name": "stdout",
     "output_type": "stream",
     "text": [
      "-2.3537993431\n"
     ]
    },
    {
     "name": "stderr",
     "output_type": "stream",
     "text": [
      " 70%|███████████████████████████▍           | 2111/3000 [00:39<00:16, 54.50it/s]"
     ]
    },
    {
     "name": "stdout",
     "output_type": "stream",
     "text": [
      "-2.0829353333\n"
     ]
    },
    {
     "name": "stderr",
     "output_type": "stream",
     "text": [
      " 74%|████████████████████████████▋          | 2207/3000 [00:40<00:15, 52.06it/s]"
     ]
    },
    {
     "name": "stdout",
     "output_type": "stream",
     "text": [
      "-2.8379426003\n"
     ]
    },
    {
     "name": "stderr",
     "output_type": "stream",
     "text": [
      " 77%|██████████████████████████████         | 2310/3000 [00:42<00:12, 54.54it/s]"
     ]
    },
    {
     "name": "stdout",
     "output_type": "stream",
     "text": [
      "-4.0390720367\n"
     ]
    },
    {
     "name": "stderr",
     "output_type": "stream",
     "text": [
      " 80%|███████████████████████████████▍       | 2414/3000 [00:44<00:09, 63.18it/s]"
     ]
    },
    {
     "name": "stdout",
     "output_type": "stream",
     "text": [
      "-2.6968276501\n"
     ]
    },
    {
     "name": "stderr",
     "output_type": "stream",
     "text": [
      " 84%|████████████████████████████████▌      | 2508/3000 [00:46<00:08, 58.91it/s]"
     ]
    },
    {
     "name": "stdout",
     "output_type": "stream",
     "text": [
      "-1.5438503027\n"
     ]
    },
    {
     "name": "stderr",
     "output_type": "stream",
     "text": [
      " 87%|█████████████████████████████████▉     | 2608/3000 [00:47<00:07, 54.86it/s]"
     ]
    },
    {
     "name": "stdout",
     "output_type": "stream",
     "text": [
      "-2.2203018665\n"
     ]
    },
    {
     "name": "stderr",
     "output_type": "stream",
     "text": [
      " 90%|███████████████████████████████████▏   | 2711/3000 [00:49<00:05, 54.60it/s]"
     ]
    },
    {
     "name": "stdout",
     "output_type": "stream",
     "text": [
      "-3.3907206059\n"
     ]
    },
    {
     "name": "stderr",
     "output_type": "stream",
     "text": [
      " 94%|████████████████████████████████████▌  | 2809/3000 [00:51<00:03, 56.06it/s]"
     ]
    },
    {
     "name": "stdout",
     "output_type": "stream",
     "text": [
      "8.2350988388\n"
     ]
    },
    {
     "name": "stderr",
     "output_type": "stream",
     "text": [
      " 97%|█████████████████████████████████████▊ | 2907/3000 [00:53<00:01, 56.74it/s]"
     ]
    },
    {
     "name": "stdout",
     "output_type": "stream",
     "text": [
      "-4.1027903557\n"
     ]
    },
    {
     "name": "stderr",
     "output_type": "stream",
     "text": [
      "100%|███████████████████████████████████████| 3000/3000 [00:55<00:00, 54.51it/s]\n"
     ]
    },
    {
     "name": "stdout",
     "output_type": "stream",
     "text": [
      "\n",
      " Lesson 5:\n"
     ]
    },
    {
     "name": "stderr",
     "output_type": "stream",
     "text": [
      "  0%|                                          | 6/3000 [00:00<00:56, 52.64it/s]"
     ]
    },
    {
     "name": "stdout",
     "output_type": "stream",
     "text": [
      "-1.1953716278\n"
     ]
    },
    {
     "name": "stderr",
     "output_type": "stream",
     "text": [
      "  4%|█▍                                      | 107/3000 [00:02<01:00, 47.63it/s]"
     ]
    },
    {
     "name": "stdout",
     "output_type": "stream",
     "text": [
      "-3.1244866848\n"
     ]
    },
    {
     "name": "stderr",
     "output_type": "stream",
     "text": [
      "  7%|██▊                                     | 207/3000 [00:04<01:01, 45.14it/s]"
     ]
    },
    {
     "name": "stdout",
     "output_type": "stream",
     "text": [
      "-3.6047544479\n"
     ]
    },
    {
     "name": "stderr",
     "output_type": "stream",
     "text": [
      " 10%|████                                    | 308/3000 [00:06<00:50, 53.41it/s]"
     ]
    },
    {
     "name": "stdout",
     "output_type": "stream",
     "text": [
      "-1.6409513950\n"
     ]
    },
    {
     "name": "stderr",
     "output_type": "stream",
     "text": [
      " 14%|█████▍                                  | 407/3000 [00:08<00:59, 43.56it/s]"
     ]
    },
    {
     "name": "stdout",
     "output_type": "stream",
     "text": [
      "-1.1987357140\n"
     ]
    },
    {
     "name": "stderr",
     "output_type": "stream",
     "text": [
      " 17%|██████▋                                 | 505/3000 [00:10<00:56, 43.80it/s]"
     ]
    },
    {
     "name": "stdout",
     "output_type": "stream",
     "text": [
      "-4.2792096138\n"
     ]
    },
    {
     "name": "stderr",
     "output_type": "stream",
     "text": [
      " 20%|████████▏                               | 610/3000 [00:12<00:44, 53.62it/s]"
     ]
    },
    {
     "name": "stdout",
     "output_type": "stream",
     "text": [
      "8.5561923981\n"
     ]
    },
    {
     "name": "stderr",
     "output_type": "stream",
     "text": [
      " 23%|█████████▍                              | 704/3000 [00:14<00:54, 42.52it/s]"
     ]
    },
    {
     "name": "stdout",
     "output_type": "stream",
     "text": [
      "-1.7169680595\n"
     ]
    },
    {
     "name": "stderr",
     "output_type": "stream",
     "text": [
      " 27%|██████████▋                             | 806/3000 [00:16<00:42, 51.46it/s]"
     ]
    },
    {
     "name": "stdout",
     "output_type": "stream",
     "text": [
      "-3.6309022903\n"
     ]
    },
    {
     "name": "stderr",
     "output_type": "stream",
     "text": [
      " 30%|████████████                            | 907/3000 [00:18<00:46, 45.43it/s]"
     ]
    },
    {
     "name": "stdout",
     "output_type": "stream",
     "text": [
      "-2.3246052265\n"
     ]
    },
    {
     "name": "stderr",
     "output_type": "stream",
     "text": [
      " 34%|█████████████                          | 1008/3000 [00:21<00:40, 49.46it/s]"
     ]
    },
    {
     "name": "stdout",
     "output_type": "stream",
     "text": [
      "-0.8412765861\n"
     ]
    },
    {
     "name": "stderr",
     "output_type": "stream",
     "text": [
      " 37%|██████████████▎                        | 1105/3000 [00:23<00:43, 43.16it/s]"
     ]
    },
    {
     "name": "stdout",
     "output_type": "stream",
     "text": [
      "-3.1305799484\n"
     ]
    },
    {
     "name": "stderr",
     "output_type": "stream",
     "text": [
      " 40%|███████████████▋                       | 1208/3000 [00:25<00:39, 45.59it/s]"
     ]
    },
    {
     "name": "stdout",
     "output_type": "stream",
     "text": [
      "-3.7624933720\n"
     ]
    },
    {
     "name": "stderr",
     "output_type": "stream",
     "text": [
      " 44%|█████████████████                      | 1308/3000 [00:27<00:33, 50.53it/s]"
     ]
    },
    {
     "name": "stdout",
     "output_type": "stream",
     "text": [
      "-2.6697340012\n"
     ]
    },
    {
     "name": "stderr",
     "output_type": "stream",
     "text": [
      " 47%|██████████████████▎                    | 1411/3000 [00:29<00:35, 44.72it/s]"
     ]
    },
    {
     "name": "stdout",
     "output_type": "stream",
     "text": [
      "-3.2851393223\n"
     ]
    },
    {
     "name": "stderr",
     "output_type": "stream",
     "text": [
      " 50%|███████████████████▌                   | 1506/3000 [00:31<00:33, 44.68it/s]"
     ]
    },
    {
     "name": "stdout",
     "output_type": "stream",
     "text": [
      "-4.9697690010\n"
     ]
    },
    {
     "name": "stderr",
     "output_type": "stream",
     "text": [
      " 54%|████████████████████▉                  | 1607/3000 [00:34<00:29, 46.51it/s]"
     ]
    },
    {
     "name": "stdout",
     "output_type": "stream",
     "text": [
      "-2.7108676434\n"
     ]
    },
    {
     "name": "stderr",
     "output_type": "stream",
     "text": [
      " 57%|██████████████████████▏                | 1710/3000 [00:36<00:28, 45.53it/s]"
     ]
    },
    {
     "name": "stdout",
     "output_type": "stream",
     "text": [
      "8.8533878326\n"
     ]
    },
    {
     "name": "stderr",
     "output_type": "stream",
     "text": [
      " 60%|███████████████████████▌               | 1810/3000 [00:38<00:25, 46.01it/s]"
     ]
    },
    {
     "name": "stdout",
     "output_type": "stream",
     "text": [
      "-3.2815656662\n"
     ]
    },
    {
     "name": "stderr",
     "output_type": "stream",
     "text": [
      " 64%|████████████████████████▊              | 1909/3000 [00:40<00:23, 46.63it/s]"
     ]
    },
    {
     "name": "stdout",
     "output_type": "stream",
     "text": [
      "-2.7497932911\n"
     ]
    },
    {
     "name": "stderr",
     "output_type": "stream",
     "text": [
      " 67%|██████████████████████████▏            | 2011/3000 [00:43<00:19, 50.01it/s]"
     ]
    },
    {
     "name": "stdout",
     "output_type": "stream",
     "text": [
      "-2.1970238686\n"
     ]
    },
    {
     "name": "stderr",
     "output_type": "stream",
     "text": [
      " 70%|███████████████████████████▍           | 2107/3000 [00:45<00:19, 45.55it/s]"
     ]
    },
    {
     "name": "stdout",
     "output_type": "stream",
     "text": [
      "-3.6923329830\n"
     ]
    },
    {
     "name": "stderr",
     "output_type": "stream",
     "text": [
      " 74%|████████████████████████████▋          | 2205/3000 [00:47<00:18, 43.65it/s]"
     ]
    },
    {
     "name": "stdout",
     "output_type": "stream",
     "text": [
      "-4.9761905670\n"
     ]
    },
    {
     "name": "stderr",
     "output_type": "stream",
     "text": [
      " 77%|██████████████████████████████         | 2308/3000 [00:49<00:15, 43.88it/s]"
     ]
    },
    {
     "name": "stdout",
     "output_type": "stream",
     "text": [
      "-2.6089646816\n"
     ]
    },
    {
     "name": "stderr",
     "output_type": "stream",
     "text": [
      " 80%|███████████████████████████████▎       | 2406/3000 [00:51<00:13, 43.85it/s]"
     ]
    },
    {
     "name": "stdout",
     "output_type": "stream",
     "text": [
      "-2.8396728039\n"
     ]
    },
    {
     "name": "stderr",
     "output_type": "stream",
     "text": [
      " 84%|████████████████████████████████▌      | 2508/3000 [00:53<00:10, 49.10it/s]"
     ]
    },
    {
     "name": "stdout",
     "output_type": "stream",
     "text": [
      "-4.6384568214\n"
     ]
    },
    {
     "name": "stderr",
     "output_type": "stream",
     "text": [
      " 87%|█████████████████████████████████▉     | 2609/3000 [00:55<00:07, 51.25it/s]"
     ]
    },
    {
     "name": "stdout",
     "output_type": "stream",
     "text": [
      "-4.6414747238\n"
     ]
    },
    {
     "name": "stderr",
     "output_type": "stream",
     "text": [
      " 90%|███████████████████████████████████▏   | 2708/3000 [00:57<00:06, 45.05it/s]"
     ]
    },
    {
     "name": "stdout",
     "output_type": "stream",
     "text": [
      "-3.6093237400\n"
     ]
    },
    {
     "name": "stderr",
     "output_type": "stream",
     "text": [
      " 94%|████████████████████████████████████▍  | 2807/3000 [01:00<00:04, 42.31it/s]"
     ]
    },
    {
     "name": "stdout",
     "output_type": "stream",
     "text": [
      "-3.3283479214\n"
     ]
    },
    {
     "name": "stderr",
     "output_type": "stream",
     "text": [
      " 97%|█████████████████████████████████████▊ | 2910/3000 [01:02<00:01, 45.87it/s]"
     ]
    },
    {
     "name": "stdout",
     "output_type": "stream",
     "text": [
      "-4.8326206207\n"
     ]
    },
    {
     "name": "stderr",
     "output_type": "stream",
     "text": [
      "100%|███████████████████████████████████████| 3000/3000 [01:04<00:00, 46.56it/s]\n"
     ]
    },
    {
     "name": "stdout",
     "output_type": "stream",
     "text": [
      "\n",
      " Lesson 6:\n"
     ]
    },
    {
     "name": "stderr",
     "output_type": "stream",
     "text": [
      "  0%|                                          | 5/3000 [00:00<01:11, 41.75it/s]"
     ]
    },
    {
     "name": "stdout",
     "output_type": "stream",
     "text": [
      "-1.9407877922\n"
     ]
    },
    {
     "name": "stderr",
     "output_type": "stream",
     "text": [
      "  4%|█▍                                      | 108/3000 [00:02<01:17, 37.12it/s]"
     ]
    },
    {
     "name": "stdout",
     "output_type": "stream",
     "text": [
      "-4.1378202438\n"
     ]
    },
    {
     "name": "stderr",
     "output_type": "stream",
     "text": [
      "  7%|██▊                                     | 208/3000 [00:05<01:16, 36.67it/s]"
     ]
    },
    {
     "name": "stdout",
     "output_type": "stream",
     "text": [
      "-3.4852962494\n"
     ]
    },
    {
     "name": "stderr",
     "output_type": "stream",
     "text": [
      " 10%|████                                    | 306/3000 [00:08<01:02, 42.95it/s]"
     ]
    },
    {
     "name": "stdout",
     "output_type": "stream",
     "text": [
      "-6.2558336258\n"
     ]
    },
    {
     "name": "stderr",
     "output_type": "stream",
     "text": [
      " 14%|█████▍                                  | 406/3000 [00:10<00:58, 44.51it/s]"
     ]
    },
    {
     "name": "stdout",
     "output_type": "stream",
     "text": [
      "-2.9786591530\n"
     ]
    },
    {
     "name": "stderr",
     "output_type": "stream",
     "text": [
      " 17%|██████▋                                 | 505/3000 [00:12<01:07, 36.84it/s]"
     ]
    },
    {
     "name": "stdout",
     "output_type": "stream",
     "text": [
      "-3.9579622746\n"
     ]
    },
    {
     "name": "stderr",
     "output_type": "stream",
     "text": [
      " 20%|████████                                | 606/3000 [00:15<01:00, 39.40it/s]"
     ]
    },
    {
     "name": "stdout",
     "output_type": "stream",
     "text": [
      "-3.3413414955\n"
     ]
    },
    {
     "name": "stderr",
     "output_type": "stream",
     "text": [
      " 24%|█████████▍                              | 709/3000 [00:17<00:51, 44.46it/s]"
     ]
    },
    {
     "name": "stdout",
     "output_type": "stream",
     "text": [
      "9.2899789810\n"
     ]
    },
    {
     "name": "stderr",
     "output_type": "stream",
     "text": [
      " 27%|██████████▊                             | 812/3000 [00:20<00:47, 46.08it/s]"
     ]
    },
    {
     "name": "stdout",
     "output_type": "stream",
     "text": [
      "-5.1486349106\n"
     ]
    },
    {
     "name": "stderr",
     "output_type": "stream",
     "text": [
      " 30%|████████████                            | 908/3000 [00:22<00:52, 40.07it/s]"
     ]
    },
    {
     "name": "stdout",
     "output_type": "stream",
     "text": [
      "-3.8806133270\n"
     ]
    },
    {
     "name": "stderr",
     "output_type": "stream",
     "text": [
      " 34%|█████████████▏                         | 1010/3000 [00:24<00:42, 47.07it/s]"
     ]
    },
    {
     "name": "stdout",
     "output_type": "stream",
     "text": [
      "-3.2920436859\n"
     ]
    },
    {
     "name": "stderr",
     "output_type": "stream",
     "text": [
      " 37%|██████████████▍                        | 1107/3000 [00:27<00:43, 43.85it/s]"
     ]
    },
    {
     "name": "stdout",
     "output_type": "stream",
     "text": [
      "-4.6048440933\n"
     ]
    },
    {
     "name": "stderr",
     "output_type": "stream",
     "text": [
      " 40%|███████████████▋                       | 1208/3000 [00:29<00:43, 41.61it/s]"
     ]
    },
    {
     "name": "stdout",
     "output_type": "stream",
     "text": [
      "-5.3036813736\n"
     ]
    },
    {
     "name": "stderr",
     "output_type": "stream",
     "text": [
      " 44%|████████████████▉                      | 1306/3000 [00:32<00:40, 41.65it/s]"
     ]
    },
    {
     "name": "stdout",
     "output_type": "stream",
     "text": [
      "-5.5795459747\n"
     ]
    },
    {
     "name": "stderr",
     "output_type": "stream",
     "text": [
      " 47%|██████████████████▎                    | 1408/3000 [00:34<00:43, 36.91it/s]"
     ]
    },
    {
     "name": "stdout",
     "output_type": "stream",
     "text": [
      "-3.7369050980\n"
     ]
    },
    {
     "name": "stderr",
     "output_type": "stream",
     "text": [
      " 50%|███████████████████▌                   | 1508/3000 [00:37<00:37, 39.32it/s]"
     ]
    },
    {
     "name": "stdout",
     "output_type": "stream",
     "text": [
      "-2.8728125095\n"
     ]
    },
    {
     "name": "stderr",
     "output_type": "stream",
     "text": [
      " 54%|████████████████████▊                  | 1605/3000 [00:39<00:36, 38.35it/s]"
     ]
    },
    {
     "name": "stdout",
     "output_type": "stream",
     "text": [
      "-4.2950248718\n"
     ]
    },
    {
     "name": "stderr",
     "output_type": "stream",
     "text": [
      " 57%|██████████████████████▏                | 1706/3000 [00:42<00:32, 39.73it/s]"
     ]
    },
    {
     "name": "stdout",
     "output_type": "stream",
     "text": [
      "-4.1642432213\n"
     ]
    },
    {
     "name": "stderr",
     "output_type": "stream",
     "text": [
      " 60%|███████████████████████▌               | 1808/3000 [00:44<00:29, 40.11it/s]"
     ]
    },
    {
     "name": "stdout",
     "output_type": "stream",
     "text": [
      "9.1730279922\n"
     ]
    },
    {
     "name": "stderr",
     "output_type": "stream",
     "text": [
      " 64%|████████████████████████▊              | 1905/3000 [00:47<00:26, 41.07it/s]"
     ]
    },
    {
     "name": "stdout",
     "output_type": "stream",
     "text": [
      "-4.1454954147\n"
     ]
    },
    {
     "name": "stderr",
     "output_type": "stream",
     "text": [
      " 67%|██████████████████████████▏            | 2010/3000 [00:49<00:21, 45.78it/s]"
     ]
    },
    {
     "name": "stdout",
     "output_type": "stream",
     "text": [
      "-4.0738868713\n"
     ]
    },
    {
     "name": "stderr",
     "output_type": "stream",
     "text": [
      " 70%|███████████████████████████▎           | 2105/3000 [00:51<00:19, 44.89it/s]"
     ]
    },
    {
     "name": "stdout",
     "output_type": "stream",
     "text": [
      "-5.3537673950\n"
     ]
    },
    {
     "name": "stderr",
     "output_type": "stream",
     "text": [
      " 74%|████████████████████████████▋          | 2205/3000 [00:54<00:21, 36.18it/s]"
     ]
    },
    {
     "name": "stdout",
     "output_type": "stream",
     "text": [
      "-4.8691434860\n"
     ]
    },
    {
     "name": "stderr",
     "output_type": "stream",
     "text": [
      " 77%|██████████████████████████████         | 2308/3000 [00:56<00:16, 42.58it/s]"
     ]
    },
    {
     "name": "stdout",
     "output_type": "stream",
     "text": [
      "-4.6069393158\n"
     ]
    },
    {
     "name": "stderr",
     "output_type": "stream",
     "text": [
      " 80%|███████████████████████████████▎       | 2407/3000 [00:59<00:13, 44.22it/s]"
     ]
    },
    {
     "name": "stdout",
     "output_type": "stream",
     "text": [
      "-4.7188029289\n"
     ]
    },
    {
     "name": "stderr",
     "output_type": "stream",
     "text": [
      " 84%|████████████████████████████████▌      | 2506/3000 [01:01<00:13, 37.73it/s]"
     ]
    },
    {
     "name": "stdout",
     "output_type": "stream",
     "text": [
      "-6.2305860519\n"
     ]
    },
    {
     "name": "stderr",
     "output_type": "stream",
     "text": [
      " 87%|█████████████████████████████████▉     | 2607/3000 [01:04<00:10, 37.49it/s]"
     ]
    },
    {
     "name": "stdout",
     "output_type": "stream",
     "text": [
      "-3.8265454769\n"
     ]
    },
    {
     "name": "stderr",
     "output_type": "stream",
     "text": [
      " 90%|███████████████████████████████████▏   | 2706/3000 [01:06<00:06, 42.41it/s]"
     ]
    },
    {
     "name": "stdout",
     "output_type": "stream",
     "text": [
      "-3.6750931740\n"
     ]
    },
    {
     "name": "stderr",
     "output_type": "stream",
     "text": [
      " 94%|████████████████████████████████████▍  | 2807/3000 [01:09<00:05, 37.33it/s]"
     ]
    },
    {
     "name": "stdout",
     "output_type": "stream",
     "text": [
      "-4.6768689156\n"
     ]
    },
    {
     "name": "stderr",
     "output_type": "stream",
     "text": [
      " 97%|█████████████████████████████████████▊ | 2907/3000 [01:11<00:02, 37.50it/s]"
     ]
    },
    {
     "name": "stdout",
     "output_type": "stream",
     "text": [
      "-4.1074833870\n"
     ]
    },
    {
     "name": "stderr",
     "output_type": "stream",
     "text": [
      "100%|███████████████████████████████████████| 3000/3000 [01:14<00:00, 40.43it/s]\n"
     ]
    },
    {
     "name": "stdout",
     "output_type": "stream",
     "text": [
      "\n",
      " Lesson 7:\n"
     ]
    },
    {
     "name": "stderr",
     "output_type": "stream",
     "text": [
      "  0%|                                          | 5/3000 [00:00<01:09, 43.19it/s]"
     ]
    },
    {
     "name": "stdout",
     "output_type": "stream",
     "text": [
      "-2.8189551830\n"
     ]
    },
    {
     "name": "stderr",
     "output_type": "stream",
     "text": [
      "  4%|█▍                                      | 108/3000 [00:02<00:54, 53.27it/s]"
     ]
    },
    {
     "name": "stdout",
     "output_type": "stream",
     "text": [
      "-2.5425565243\n"
     ]
    },
    {
     "name": "stderr",
     "output_type": "stream",
     "text": [
      "  7%|██▋                                     | 205/3000 [00:04<00:56, 49.65it/s]"
     ]
    },
    {
     "name": "stdout",
     "output_type": "stream",
     "text": [
      "9.9266214371\n"
     ]
    },
    {
     "name": "stderr",
     "output_type": "stream",
     "text": [
      " 10%|████                                    | 306/3000 [00:06<01:03, 42.39it/s]"
     ]
    },
    {
     "name": "stdout",
     "output_type": "stream",
     "text": [
      "-2.6320791245\n"
     ]
    },
    {
     "name": "stderr",
     "output_type": "stream",
     "text": [
      " 14%|█████▍                                  | 406/3000 [00:08<01:01, 41.97it/s]"
     ]
    },
    {
     "name": "stdout",
     "output_type": "stream",
     "text": [
      "-2.8480155468\n"
     ]
    },
    {
     "name": "stderr",
     "output_type": "stream",
     "text": [
      " 17%|██████▊                                 | 511/3000 [00:11<00:51, 47.95it/s]"
     ]
    },
    {
     "name": "stdout",
     "output_type": "stream",
     "text": [
      "9.7481155396\n"
     ]
    },
    {
     "name": "stderr",
     "output_type": "stream",
     "text": [
      " 20%|████████                                | 609/3000 [00:13<00:51, 46.05it/s]"
     ]
    },
    {
     "name": "stdout",
     "output_type": "stream",
     "text": [
      "-2.6772682667\n"
     ]
    },
    {
     "name": "stderr",
     "output_type": "stream",
     "text": [
      " 24%|█████████▍                              | 709/3000 [00:16<00:49, 46.47it/s]"
     ]
    },
    {
     "name": "stdout",
     "output_type": "stream",
     "text": [
      "-4.0520234108\n"
     ]
    },
    {
     "name": "stderr",
     "output_type": "stream",
     "text": [
      " 27%|██████████▊                             | 809/3000 [00:18<00:51, 42.17it/s]"
     ]
    },
    {
     "name": "stdout",
     "output_type": "stream",
     "text": [
      "-4.0718932152\n"
     ]
    },
    {
     "name": "stderr",
     "output_type": "stream",
     "text": [
      " 30%|████████████                            | 906/3000 [00:20<00:51, 40.28it/s]"
     ]
    },
    {
     "name": "stdout",
     "output_type": "stream",
     "text": [
      "-4.4778895378\n"
     ]
    },
    {
     "name": "stderr",
     "output_type": "stream",
     "text": [
      " 33%|█████████████                          | 1004/3000 [00:23<00:45, 43.49it/s]"
     ]
    },
    {
     "name": "stdout",
     "output_type": "stream",
     "text": [
      "-3.3988842964\n"
     ]
    },
    {
     "name": "stderr",
     "output_type": "stream",
     "text": [
      " 37%|██████████████▎                        | 1103/3000 [00:25<00:39, 48.63it/s]"
     ]
    },
    {
     "name": "stdout",
     "output_type": "stream",
     "text": [
      "10.0428943634\n"
     ]
    },
    {
     "name": "stderr",
     "output_type": "stream",
     "text": [
      " 40%|███████████████▋                       | 1208/3000 [00:28<00:43, 41.14it/s]"
     ]
    },
    {
     "name": "stdout",
     "output_type": "stream",
     "text": [
      "-4.1533684731\n"
     ]
    },
    {
     "name": "stderr",
     "output_type": "stream",
     "text": [
      " 44%|████████████████▉                      | 1305/3000 [00:30<00:38, 44.60it/s]"
     ]
    },
    {
     "name": "stdout",
     "output_type": "stream",
     "text": [
      "9.3978939056\n"
     ]
    },
    {
     "name": "stderr",
     "output_type": "stream",
     "text": [
      " 47%|██████████████████▎                    | 1410/3000 [00:33<00:38, 41.30it/s]"
     ]
    },
    {
     "name": "stdout",
     "output_type": "stream",
     "text": [
      "-4.3243832588\n"
     ]
    },
    {
     "name": "stderr",
     "output_type": "stream",
     "text": [
      " 50%|███████████████████▌                   | 1506/3000 [00:35<00:33, 44.17it/s]"
     ]
    },
    {
     "name": "stdout",
     "output_type": "stream",
     "text": [
      "-4.6977958679\n"
     ]
    },
    {
     "name": "stderr",
     "output_type": "stream",
     "text": [
      " 54%|████████████████████▉                  | 1609/3000 [00:37<00:31, 44.04it/s]"
     ]
    },
    {
     "name": "stdout",
     "output_type": "stream",
     "text": [
      "-3.9614500999\n"
     ]
    },
    {
     "name": "stderr",
     "output_type": "stream",
     "text": [
      " 57%|██████████████████████▏                | 1707/3000 [00:39<00:28, 45.57it/s]"
     ]
    },
    {
     "name": "stdout",
     "output_type": "stream",
     "text": [
      "-3.2356095314\n"
     ]
    },
    {
     "name": "stderr",
     "output_type": "stream",
     "text": [
      " 60%|███████████████████████▍               | 1804/3000 [00:41<00:28, 41.49it/s]"
     ]
    },
    {
     "name": "stdout",
     "output_type": "stream",
     "text": [
      "-3.5000967979\n"
     ]
    },
    {
     "name": "stderr",
     "output_type": "stream",
     "text": [
      " 64%|████████████████████████▊              | 1910/3000 [00:44<00:22, 49.18it/s]"
     ]
    },
    {
     "name": "stdout",
     "output_type": "stream",
     "text": [
      "-4.1980614662\n"
     ]
    },
    {
     "name": "stderr",
     "output_type": "stream",
     "text": [
      " 67%|██████████████████████████             | 2007/3000 [00:46<00:20, 47.49it/s]"
     ]
    },
    {
     "name": "stdout",
     "output_type": "stream",
     "text": [
      "-1.3347312212\n"
     ]
    },
    {
     "name": "stderr",
     "output_type": "stream",
     "text": [
      " 70%|███████████████████████████▎           | 2105/3000 [00:48<00:18, 47.88it/s]"
     ]
    },
    {
     "name": "stdout",
     "output_type": "stream",
     "text": [
      "9.0893650055\n"
     ]
    },
    {
     "name": "stderr",
     "output_type": "stream",
     "text": [
      " 74%|████████████████████████████▋          | 2205/3000 [00:50<00:20, 38.60it/s]"
     ]
    },
    {
     "name": "stdout",
     "output_type": "stream",
     "text": [
      "-4.0209813118\n"
     ]
    },
    {
     "name": "stderr",
     "output_type": "stream",
     "text": [
      " 77%|██████████████████████████████         | 2309/3000 [00:52<00:15, 44.30it/s]"
     ]
    },
    {
     "name": "stdout",
     "output_type": "stream",
     "text": [
      "-4.9098896980\n"
     ]
    },
    {
     "name": "stderr",
     "output_type": "stream",
     "text": [
      " 80%|███████████████████████████████▎       | 2408/3000 [00:55<00:15, 39.07it/s]"
     ]
    },
    {
     "name": "stdout",
     "output_type": "stream",
     "text": [
      "-5.0214991570\n"
     ]
    },
    {
     "name": "stderr",
     "output_type": "stream",
     "text": [
      " 84%|████████████████████████████████▌      | 2506/3000 [00:57<00:12, 40.01it/s]"
     ]
    },
    {
     "name": "stdout",
     "output_type": "stream",
     "text": [
      "-4.4503970146\n"
     ]
    },
    {
     "name": "stderr",
     "output_type": "stream",
     "text": [
      " 87%|█████████████████████████████████▉     | 2609/3000 [00:59<00:08, 48.66it/s]"
     ]
    },
    {
     "name": "stdout",
     "output_type": "stream",
     "text": [
      "9.7870101929\n"
     ]
    },
    {
     "name": "stderr",
     "output_type": "stream",
     "text": [
      " 90%|███████████████████████████████████▏   | 2708/3000 [01:02<00:06, 43.30it/s]"
     ]
    },
    {
     "name": "stdout",
     "output_type": "stream",
     "text": [
      "-3.4290504456\n"
     ]
    },
    {
     "name": "stderr",
     "output_type": "stream",
     "text": [
      " 94%|████████████████████████████████████▍  | 2805/3000 [01:04<00:04, 43.26it/s]"
     ]
    },
    {
     "name": "stdout",
     "output_type": "stream",
     "text": [
      "9.6667327881\n"
     ]
    },
    {
     "name": "stderr",
     "output_type": "stream",
     "text": [
      " 97%|█████████████████████████████████████▊ | 2908/3000 [01:06<00:02, 36.82it/s]"
     ]
    },
    {
     "name": "stdout",
     "output_type": "stream",
     "text": [
      "-4.1765437126\n"
     ]
    },
    {
     "name": "stderr",
     "output_type": "stream",
     "text": [
      "100%|███████████████████████████████████████| 3000/3000 [01:09<00:00, 43.26it/s]\n"
     ]
    },
    {
     "name": "stdout",
     "output_type": "stream",
     "text": [
      "\n",
      " Lesson 8:\n"
     ]
    },
    {
     "name": "stderr",
     "output_type": "stream",
     "text": [
      "  0%|                                          | 3/3000 [00:00<02:10, 22.97it/s]"
     ]
    },
    {
     "name": "stdout",
     "output_type": "stream",
     "text": [
      "10.1907539368\n"
     ]
    },
    {
     "name": "stderr",
     "output_type": "stream",
     "text": [
      "  3%|█▍                                      | 104/3000 [00:03<01:45, 27.49it/s]"
     ]
    },
    {
     "name": "stdout",
     "output_type": "stream",
     "text": [
      "-3.2120802402\n"
     ]
    },
    {
     "name": "stderr",
     "output_type": "stream",
     "text": [
      "  7%|██▋                                     | 203/3000 [00:07<02:02, 22.75it/s]"
     ]
    },
    {
     "name": "stdout",
     "output_type": "stream",
     "text": [
      "-1.8804339170\n"
     ]
    },
    {
     "name": "stderr",
     "output_type": "stream",
     "text": [
      " 10%|████                                    | 305/3000 [00:10<01:30, 29.73it/s]"
     ]
    },
    {
     "name": "stdout",
     "output_type": "stream",
     "text": [
      "-1.3639025688\n"
     ]
    },
    {
     "name": "stderr",
     "output_type": "stream",
     "text": [
      " 13%|█████▎                                  | 403/3000 [00:13<01:33, 27.70it/s]"
     ]
    },
    {
     "name": "stdout",
     "output_type": "stream",
     "text": [
      "-2.5648121834\n"
     ]
    },
    {
     "name": "stderr",
     "output_type": "stream",
     "text": [
      " 17%|██████▊                                 | 512/3000 [00:17<00:52, 47.61it/s]"
     ]
    },
    {
     "name": "stdout",
     "output_type": "stream",
     "text": [
      "-2.8577582836\n"
     ]
    },
    {
     "name": "stderr",
     "output_type": "stream",
     "text": [
      " 20%|████████▏                               | 610/3000 [00:19<00:39, 59.89it/s]"
     ]
    },
    {
     "name": "stdout",
     "output_type": "stream",
     "text": [
      "9.8644790649\n"
     ]
    },
    {
     "name": "stderr",
     "output_type": "stream",
     "text": [
      " 24%|█████████▍                              | 705/3000 [00:21<01:19, 28.74it/s]"
     ]
    },
    {
     "name": "stdout",
     "output_type": "stream",
     "text": [
      "-1.9996401072\n"
     ]
    },
    {
     "name": "stderr",
     "output_type": "stream",
     "text": [
      " 27%|██████████▋                             | 805/3000 [00:25<01:08, 31.94it/s]"
     ]
    },
    {
     "name": "stdout",
     "output_type": "stream",
     "text": [
      "-2.7295093536\n"
     ]
    },
    {
     "name": "stderr",
     "output_type": "stream",
     "text": [
      " 30%|████████████▏                           | 910/3000 [00:28<00:45, 45.86it/s]"
     ]
    },
    {
     "name": "stdout",
     "output_type": "stream",
     "text": [
      "-2.5089988708\n"
     ]
    },
    {
     "name": "stderr",
     "output_type": "stream",
     "text": [
      " 34%|█████████████                          | 1005/3000 [00:30<00:36, 54.94it/s]"
     ]
    },
    {
     "name": "stdout",
     "output_type": "stream",
     "text": [
      "10.1942901611\n"
     ]
    },
    {
     "name": "stderr",
     "output_type": "stream",
     "text": [
      " 37%|██████████████▎                        | 1105/3000 [00:32<00:39, 48.48it/s]"
     ]
    },
    {
     "name": "stdout",
     "output_type": "stream",
     "text": [
      "10.2323331833\n"
     ]
    },
    {
     "name": "stderr",
     "output_type": "stream",
     "text": [
      " 40%|███████████████▊                       | 1212/3000 [00:34<00:30, 58.13it/s]"
     ]
    },
    {
     "name": "stdout",
     "output_type": "stream",
     "text": [
      "9.4239721298\n"
     ]
    },
    {
     "name": "stderr",
     "output_type": "stream",
     "text": [
      " 44%|█████████████████                      | 1309/3000 [00:37<00:42, 39.57it/s]"
     ]
    },
    {
     "name": "stdout",
     "output_type": "stream",
     "text": [
      "-1.4072197676\n"
     ]
    },
    {
     "name": "stderr",
     "output_type": "stream",
     "text": [
      " 47%|██████████████████▎                    | 1406/3000 [00:40<00:45, 35.17it/s]"
     ]
    },
    {
     "name": "stdout",
     "output_type": "stream",
     "text": [
      "8.9575233459\n"
     ]
    },
    {
     "name": "stderr",
     "output_type": "stream",
     "text": [
      " 50%|███████████████████▌                   | 1509/3000 [00:42<00:31, 47.95it/s]"
     ]
    },
    {
     "name": "stdout",
     "output_type": "stream",
     "text": [
      "-2.9985442162\n"
     ]
    },
    {
     "name": "stderr",
     "output_type": "stream",
     "text": [
      " 54%|████████████████████▊                  | 1605/3000 [00:45<00:53, 25.88it/s]"
     ]
    },
    {
     "name": "stdout",
     "output_type": "stream",
     "text": [
      "-2.4035482407\n"
     ]
    },
    {
     "name": "stderr",
     "output_type": "stream",
     "text": [
      " 57%|██████████████████████▏                | 1709/3000 [00:47<00:27, 47.16it/s]"
     ]
    },
    {
     "name": "stdout",
     "output_type": "stream",
     "text": [
      "10.2491254807\n"
     ]
    },
    {
     "name": "stderr",
     "output_type": "stream",
     "text": [
      " 60%|███████████████████████▍               | 1806/3000 [00:49<00:24, 48.40it/s]"
     ]
    },
    {
     "name": "stdout",
     "output_type": "stream",
     "text": [
      "0.7099629045\n"
     ]
    },
    {
     "name": "stderr",
     "output_type": "stream",
     "text": [
      " 64%|████████████████████████▊              | 1910/3000 [00:52<00:21, 50.07it/s]"
     ]
    },
    {
     "name": "stdout",
     "output_type": "stream",
     "text": [
      "10.2118902206\n"
     ]
    },
    {
     "name": "stderr",
     "output_type": "stream",
     "text": [
      " 67%|██████████████████████████             | 2005/3000 [00:54<00:26, 37.97it/s]"
     ]
    },
    {
     "name": "stdout",
     "output_type": "stream",
     "text": [
      "-1.5742548704\n"
     ]
    },
    {
     "name": "stderr",
     "output_type": "stream",
     "text": [
      " 70%|███████████████████████████▍           | 2111/3000 [00:56<00:17, 49.94it/s]"
     ]
    },
    {
     "name": "stdout",
     "output_type": "stream",
     "text": [
      "-1.7819373608\n"
     ]
    },
    {
     "name": "stderr",
     "output_type": "stream",
     "text": [
      " 73%|████████████████████████████▋          | 2203/3000 [00:58<00:18, 42.12it/s]"
     ]
    },
    {
     "name": "stdout",
     "output_type": "stream",
     "text": [
      "9.1755027771\n"
     ]
    },
    {
     "name": "stderr",
     "output_type": "stream",
     "text": [
      " 77%|█████████████████████████████▉         | 2307/3000 [01:00<00:16, 42.14it/s]"
     ]
    },
    {
     "name": "stdout",
     "output_type": "stream",
     "text": [
      "8.0718393326\n"
     ]
    },
    {
     "name": "stderr",
     "output_type": "stream",
     "text": [
      " 80%|███████████████████████████████▎       | 2409/3000 [01:03<00:14, 42.10it/s]"
     ]
    },
    {
     "name": "stdout",
     "output_type": "stream",
     "text": [
      "-2.1658542156\n"
     ]
    },
    {
     "name": "stderr",
     "output_type": "stream",
     "text": [
      " 84%|████████████████████████████████▋      | 2512/3000 [01:05<00:11, 43.07it/s]"
     ]
    },
    {
     "name": "stdout",
     "output_type": "stream",
     "text": [
      "9.9716033936\n"
     ]
    },
    {
     "name": "stderr",
     "output_type": "stream",
     "text": [
      " 87%|█████████████████████████████████▊     | 2604/3000 [01:07<00:09, 39.96it/s]"
     ]
    },
    {
     "name": "stdout",
     "output_type": "stream",
     "text": [
      "9.0866003036\n"
     ]
    },
    {
     "name": "stderr",
     "output_type": "stream",
     "text": [
      " 90%|███████████████████████████████████▏   | 2708/3000 [01:10<00:06, 44.94it/s]"
     ]
    },
    {
     "name": "stdout",
     "output_type": "stream",
     "text": [
      "-4.0865826607\n"
     ]
    },
    {
     "name": "stderr",
     "output_type": "stream",
     "text": [
      " 93%|████████████████████████████████████▍  | 2804/3000 [01:12<00:03, 51.65it/s]"
     ]
    },
    {
     "name": "stdout",
     "output_type": "stream",
     "text": [
      "10.0653686523\n"
     ]
    },
    {
     "name": "stderr",
     "output_type": "stream",
     "text": [
      " 97%|█████████████████████████████████████▊ | 2909/3000 [01:14<00:01, 50.22it/s]"
     ]
    },
    {
     "name": "stdout",
     "output_type": "stream",
     "text": [
      "8.7909975052\n"
     ]
    },
    {
     "name": "stderr",
     "output_type": "stream",
     "text": [
      "100%|███████████████████████████████████████| 3000/3000 [01:16<00:00, 39.01it/s]\n"
     ]
    },
    {
     "name": "stdout",
     "output_type": "stream",
     "text": [
      "\n",
      " Lesson 9:\n"
     ]
    },
    {
     "name": "stderr",
     "output_type": "stream",
     "text": [
      "  0%|                                          | 6/3000 [00:00<00:54, 55.02it/s]"
     ]
    },
    {
     "name": "stdout",
     "output_type": "stream",
     "text": [
      "10.3242330551\n"
     ]
    },
    {
     "name": "stderr",
     "output_type": "stream",
     "text": [
      "  4%|█▍                                      | 110/3000 [00:02<01:06, 43.60it/s]"
     ]
    },
    {
     "name": "stdout",
     "output_type": "stream",
     "text": [
      "-1.8907206059\n"
     ]
    },
    {
     "name": "stderr",
     "output_type": "stream",
     "text": [
      "  7%|██▋                                     | 206/3000 [00:04<01:13, 37.86it/s]"
     ]
    },
    {
     "name": "stdout",
     "output_type": "stream",
     "text": [
      "10.4380903244\n"
     ]
    },
    {
     "name": "stderr",
     "output_type": "stream",
     "text": [
      " 10%|████                                    | 308/3000 [00:06<01:03, 42.38it/s]"
     ]
    },
    {
     "name": "stdout",
     "output_type": "stream",
     "text": [
      "-1.7569724321\n"
     ]
    },
    {
     "name": "stderr",
     "output_type": "stream",
     "text": [
      " 13%|█████▍                                  | 404/3000 [00:08<00:55, 46.79it/s]"
     ]
    },
    {
     "name": "stdout",
     "output_type": "stream",
     "text": [
      "9.2236700058\n"
     ]
    },
    {
     "name": "stderr",
     "output_type": "stream",
     "text": [
      " 17%|██████▊                                 | 509/3000 [00:11<00:50, 49.70it/s]"
     ]
    },
    {
     "name": "stdout",
     "output_type": "stream",
     "text": [
      "8.5516662598\n"
     ]
    },
    {
     "name": "stderr",
     "output_type": "stream",
     "text": [
      " 20%|████████                                | 603/3000 [00:13<01:09, 34.25it/s]"
     ]
    },
    {
     "name": "stdout",
     "output_type": "stream",
     "text": [
      "-1.4615679979\n"
     ]
    },
    {
     "name": "stderr",
     "output_type": "stream",
     "text": [
      " 23%|█████████▎                              | 703/3000 [00:15<00:49, 46.77it/s]"
     ]
    },
    {
     "name": "stdout",
     "output_type": "stream",
     "text": [
      "10.0552625656\n"
     ]
    },
    {
     "name": "stderr",
     "output_type": "stream",
     "text": [
      " 27%|██████████▉                             | 819/3000 [00:18<00:32, 67.13it/s]"
     ]
    },
    {
     "name": "stdout",
     "output_type": "stream",
     "text": [
      "9.2930068970\n"
     ]
    },
    {
     "name": "stderr",
     "output_type": "stream",
     "text": [
      " 30%|████████████▏                           | 910/3000 [00:20<00:53, 39.30it/s]"
     ]
    },
    {
     "name": "stdout",
     "output_type": "stream",
     "text": [
      "9.8615083694\n"
     ]
    },
    {
     "name": "stderr",
     "output_type": "stream",
     "text": [
      " 34%|█████████████                          | 1006/3000 [00:22<00:38, 51.76it/s]"
     ]
    },
    {
     "name": "stdout",
     "output_type": "stream",
     "text": [
      "-1.4748258591\n"
     ]
    },
    {
     "name": "stderr",
     "output_type": "stream",
     "text": [
      " 37%|██████████████▎                        | 1104/3000 [00:24<00:39, 48.53it/s]"
     ]
    },
    {
     "name": "stdout",
     "output_type": "stream",
     "text": [
      "-0.5826359987\n"
     ]
    },
    {
     "name": "stderr",
     "output_type": "stream",
     "text": [
      " 40%|███████████████▋                       | 1205/3000 [00:27<00:56, 31.68it/s]"
     ]
    },
    {
     "name": "stdout",
     "output_type": "stream",
     "text": [
      "10.6292781830\n"
     ]
    },
    {
     "name": "stderr",
     "output_type": "stream",
     "text": [
      " 43%|████████████████▉                      | 1303/3000 [00:30<00:49, 34.45it/s]"
     ]
    },
    {
     "name": "stdout",
     "output_type": "stream",
     "text": [
      "-2.5603084564\n"
     ]
    },
    {
     "name": "stderr",
     "output_type": "stream",
     "text": [
      " 47%|██████████████████▏                    | 1403/3000 [00:32<00:44, 35.63it/s]"
     ]
    },
    {
     "name": "stdout",
     "output_type": "stream",
     "text": [
      "-1.3914178610\n"
     ]
    },
    {
     "name": "stderr",
     "output_type": "stream",
     "text": [
      " 50%|███████████████████▌                   | 1509/3000 [00:35<00:34, 43.55it/s]"
     ]
    },
    {
     "name": "stdout",
     "output_type": "stream",
     "text": [
      "-0.9304621220\n"
     ]
    },
    {
     "name": "stderr",
     "output_type": "stream",
     "text": [
      " 54%|████████████████████▉                  | 1606/3000 [00:37<00:38, 36.47it/s]"
     ]
    },
    {
     "name": "stdout",
     "output_type": "stream",
     "text": [
      "-0.6851298809\n"
     ]
    },
    {
     "name": "stderr",
     "output_type": "stream",
     "text": [
      " 57%|██████████████████████▏                | 1707/3000 [00:40<00:31, 41.42it/s]"
     ]
    },
    {
     "name": "stdout",
     "output_type": "stream",
     "text": [
      "9.8422193527\n"
     ]
    },
    {
     "name": "stderr",
     "output_type": "stream",
     "text": [
      " 60%|███████████████████████▍               | 1804/3000 [00:42<00:42, 28.24it/s]"
     ]
    },
    {
     "name": "stdout",
     "output_type": "stream",
     "text": [
      "-1.7868133783\n"
     ]
    },
    {
     "name": "stderr",
     "output_type": "stream",
     "text": [
      " 64%|████████████████████████▊              | 1907/3000 [00:45<00:27, 40.17it/s]"
     ]
    },
    {
     "name": "stdout",
     "output_type": "stream",
     "text": [
      "10.0785636902\n"
     ]
    },
    {
     "name": "stderr",
     "output_type": "stream",
     "text": [
      " 67%|██████████████████████████             | 2009/3000 [00:47<00:24, 39.65it/s]"
     ]
    },
    {
     "name": "stdout",
     "output_type": "stream",
     "text": [
      "-1.5042070150\n"
     ]
    },
    {
     "name": "stderr",
     "output_type": "stream",
     "text": [
      " 70%|███████████████████████████▎           | 2104/3000 [00:49<00:27, 32.24it/s]"
     ]
    },
    {
     "name": "stdout",
     "output_type": "stream",
     "text": [
      "8.6951971054\n"
     ]
    },
    {
     "name": "stderr",
     "output_type": "stream",
     "text": [
      " 74%|████████████████████████████▊          | 2213/3000 [00:52<00:17, 45.33it/s]"
     ]
    },
    {
     "name": "stdout",
     "output_type": "stream",
     "text": [
      "8.4209585190\n"
     ]
    },
    {
     "name": "stderr",
     "output_type": "stream",
     "text": [
      " 77%|█████████████████████████████▉         | 2304/3000 [00:55<00:20, 33.86it/s]"
     ]
    },
    {
     "name": "stdout",
     "output_type": "stream",
     "text": [
      "10.4193553925\n"
     ]
    },
    {
     "name": "stderr",
     "output_type": "stream",
     "text": [
      " 80%|███████████████████████████████▎       | 2406/3000 [00:58<00:16, 35.22it/s]"
     ]
    },
    {
     "name": "stdout",
     "output_type": "stream",
     "text": [
      "10.8227605820\n"
     ]
    },
    {
     "name": "stderr",
     "output_type": "stream",
     "text": [
      " 84%|████████████████████████████████▌      | 2506/3000 [01:00<00:13, 37.97it/s]"
     ]
    },
    {
     "name": "stdout",
     "output_type": "stream",
     "text": [
      "10.5429019928\n"
     ]
    },
    {
     "name": "stderr",
     "output_type": "stream",
     "text": [
      " 87%|█████████████████████████████████▉     | 2610/3000 [01:03<00:09, 42.98it/s]"
     ]
    },
    {
     "name": "stdout",
     "output_type": "stream",
     "text": [
      "10.4450168610\n"
     ]
    },
    {
     "name": "stderr",
     "output_type": "stream",
     "text": [
      " 90%|███████████████████████████████████▎   | 2713/3000 [01:05<00:04, 65.72it/s]"
     ]
    },
    {
     "name": "stdout",
     "output_type": "stream",
     "text": [
      "10.2265233994\n"
     ]
    },
    {
     "name": "stderr",
     "output_type": "stream",
     "text": [
      " 94%|████████████████████████████████████▌  | 2814/3000 [01:07<00:03, 53.65it/s]"
     ]
    },
    {
     "name": "stdout",
     "output_type": "stream",
     "text": [
      "8.7992858887\n"
     ]
    },
    {
     "name": "stderr",
     "output_type": "stream",
     "text": [
      " 97%|█████████████████████████████████████▊ | 2908/3000 [01:10<00:02, 34.65it/s]"
     ]
    },
    {
     "name": "stdout",
     "output_type": "stream",
     "text": [
      "-1.3753873110\n"
     ]
    },
    {
     "name": "stderr",
     "output_type": "stream",
     "text": [
      "100%|███████████████████████████████████████| 3000/3000 [01:12<00:00, 41.50it/s]\n"
     ]
    },
    {
     "name": "stdout",
     "output_type": "stream",
     "text": [
      "\n",
      " Lesson 10:\n"
     ]
    },
    {
     "name": "stderr",
     "output_type": "stream",
     "text": [
      "  0%|                                          | 4/3000 [00:00<01:25, 35.23it/s]"
     ]
    },
    {
     "name": "stdout",
     "output_type": "stream",
     "text": [
      "-0.1997312754\n"
     ]
    },
    {
     "name": "stderr",
     "output_type": "stream",
     "text": [
      "  3%|█▍                                      | 104/3000 [00:03<01:26, 33.47it/s]"
     ]
    },
    {
     "name": "stdout",
     "output_type": "stream",
     "text": [
      "10.9805049896\n"
     ]
    },
    {
     "name": "stderr",
     "output_type": "stream",
     "text": [
      "  7%|██▊                                     | 207/3000 [00:05<01:01, 45.53it/s]"
     ]
    },
    {
     "name": "stdout",
     "output_type": "stream",
     "text": [
      "10.7100896835\n"
     ]
    },
    {
     "name": "stderr",
     "output_type": "stream",
     "text": [
      " 10%|████                                    | 309/3000 [00:08<01:03, 42.14it/s]"
     ]
    },
    {
     "name": "stdout",
     "output_type": "stream",
     "text": [
      "-1.5609407425\n"
     ]
    },
    {
     "name": "stderr",
     "output_type": "stream",
     "text": [
      " 14%|█████▍                                  | 408/3000 [00:10<00:54, 47.65it/s]"
     ]
    },
    {
     "name": "stdout",
     "output_type": "stream",
     "text": [
      "11.0670728683\n"
     ]
    },
    {
     "name": "stderr",
     "output_type": "stream",
     "text": [
      " 17%|██████▊                                 | 508/3000 [00:12<00:59, 42.10it/s]"
     ]
    },
    {
     "name": "stdout",
     "output_type": "stream",
     "text": [
      "10.9902906418\n"
     ]
    },
    {
     "name": "stderr",
     "output_type": "stream",
     "text": [
      " 20%|████████▏                               | 610/3000 [00:15<00:51, 46.46it/s]"
     ]
    },
    {
     "name": "stdout",
     "output_type": "stream",
     "text": [
      "-0.7913892269\n"
     ]
    },
    {
     "name": "stderr",
     "output_type": "stream",
     "text": [
      " 24%|█████████▍                              | 711/3000 [00:17<00:40, 56.44it/s]"
     ]
    },
    {
     "name": "stdout",
     "output_type": "stream",
     "text": [
      "10.7578306198\n"
     ]
    },
    {
     "name": "stderr",
     "output_type": "stream",
     "text": [
      " 27%|██████████▋                             | 805/3000 [00:19<00:41, 52.38it/s]"
     ]
    },
    {
     "name": "stdout",
     "output_type": "stream",
     "text": [
      "-1.8111145496\n"
     ]
    },
    {
     "name": "stderr",
     "output_type": "stream",
     "text": [
      " 30%|████████████                            | 905/3000 [00:21<00:51, 40.70it/s]"
     ]
    },
    {
     "name": "stdout",
     "output_type": "stream",
     "text": [
      "-2.0100905895\n"
     ]
    },
    {
     "name": "stderr",
     "output_type": "stream",
     "text": [
      " 34%|█████████████                          | 1008/3000 [00:23<00:40, 49.45it/s]"
     ]
    },
    {
     "name": "stdout",
     "output_type": "stream",
     "text": [
      "10.9394350052\n"
     ]
    },
    {
     "name": "stderr",
     "output_type": "stream",
     "text": [
      " 37%|██████████████▎                        | 1104/3000 [00:25<00:33, 56.10it/s]"
     ]
    },
    {
     "name": "stdout",
     "output_type": "stream",
     "text": [
      "9.3906879425\n"
     ]
    },
    {
     "name": "stderr",
     "output_type": "stream",
     "text": [
      " 40%|███████████████▋                       | 1208/3000 [00:27<00:43, 41.67it/s]"
     ]
    },
    {
     "name": "stdout",
     "output_type": "stream",
     "text": [
      "-2.8351264000\n"
     ]
    },
    {
     "name": "stderr",
     "output_type": "stream",
     "text": [
      " 43%|████████████████▉                      | 1303/3000 [00:29<00:31, 54.70it/s]"
     ]
    },
    {
     "name": "stdout",
     "output_type": "stream",
     "text": [
      "10.6913423538\n"
     ]
    },
    {
     "name": "stderr",
     "output_type": "stream",
     "text": [
      " 47%|██████████████████▎                    | 1410/3000 [00:31<00:31, 50.88it/s]"
     ]
    },
    {
     "name": "stdout",
     "output_type": "stream",
     "text": [
      "-1.9817595482\n"
     ]
    },
    {
     "name": "stderr",
     "output_type": "stream",
     "text": [
      " 50%|███████████████████▋                   | 1512/3000 [00:33<00:23, 63.93it/s]"
     ]
    },
    {
     "name": "stdout",
     "output_type": "stream",
     "text": [
      "-3.0647027493\n"
     ]
    },
    {
     "name": "stderr",
     "output_type": "stream",
     "text": [
      " 54%|████████████████████▉                  | 1611/3000 [00:35<00:28, 47.92it/s]"
     ]
    },
    {
     "name": "stdout",
     "output_type": "stream",
     "text": [
      "-3.5077576637\n"
     ]
    },
    {
     "name": "stderr",
     "output_type": "stream",
     "text": [
      " 57%|██████████████████████▏                | 1708/3000 [00:37<00:28, 44.65it/s]"
     ]
    },
    {
     "name": "stdout",
     "output_type": "stream",
     "text": [
      "-1.6935446262\n"
     ]
    },
    {
     "name": "stderr",
     "output_type": "stream",
     "text": [
      " 60%|███████████████████████▌               | 1815/3000 [00:39<00:18, 64.32it/s]"
     ]
    },
    {
     "name": "stdout",
     "output_type": "stream",
     "text": [
      "10.8461284637\n"
     ]
    },
    {
     "name": "stderr",
     "output_type": "stream",
     "text": [
      " 64%|████████████████████████▊              | 1905/3000 [00:41<00:25, 42.22it/s]"
     ]
    },
    {
     "name": "stdout",
     "output_type": "stream",
     "text": [
      "10.8449993134\n"
     ]
    },
    {
     "name": "stderr",
     "output_type": "stream",
     "text": [
      " 67%|██████████████████████████             | 2007/3000 [00:43<00:20, 48.71it/s]"
     ]
    },
    {
     "name": "stdout",
     "output_type": "stream",
     "text": [
      "-2.7574636936\n"
     ]
    },
    {
     "name": "stderr",
     "output_type": "stream",
     "text": [
      " 70%|███████████████████████████▎           | 2104/3000 [00:45<00:17, 50.32it/s]"
     ]
    },
    {
     "name": "stdout",
     "output_type": "stream",
     "text": [
      "10.8696918488\n"
     ]
    },
    {
     "name": "stderr",
     "output_type": "stream",
     "text": [
      " 74%|████████████████████████████▋          | 2208/3000 [00:47<00:15, 52.19it/s]"
     ]
    },
    {
     "name": "stdout",
     "output_type": "stream",
     "text": [
      "10.4299678802\n"
     ]
    },
    {
     "name": "stderr",
     "output_type": "stream",
     "text": [
      " 77%|█████████████████████████████▉         | 2306/3000 [00:49<00:11, 58.59it/s]"
     ]
    },
    {
     "name": "stdout",
     "output_type": "stream",
     "text": [
      "10.7093181610\n"
     ]
    },
    {
     "name": "stderr",
     "output_type": "stream",
     "text": [
      " 80%|███████████████████████████████▎       | 2405/3000 [00:51<00:12, 48.52it/s]"
     ]
    },
    {
     "name": "stdout",
     "output_type": "stream",
     "text": [
      "-2.5084757805\n"
     ]
    },
    {
     "name": "stderr",
     "output_type": "stream",
     "text": [
      " 84%|████████████████████████████████▌      | 2509/3000 [00:52<00:07, 66.17it/s]"
     ]
    },
    {
     "name": "stdout",
     "output_type": "stream",
     "text": [
      "-2.1494426727\n"
     ]
    },
    {
     "name": "stderr",
     "output_type": "stream",
     "text": [
      " 87%|█████████████████████████████████▊     | 2604/3000 [00:54<00:08, 49.32it/s]"
     ]
    },
    {
     "name": "stdout",
     "output_type": "stream",
     "text": [
      "10.7700796127\n"
     ]
    },
    {
     "name": "stderr",
     "output_type": "stream",
     "text": [
      " 90%|███████████████████████████████████▎   | 2712/3000 [00:57<00:04, 61.86it/s]"
     ]
    },
    {
     "name": "stdout",
     "output_type": "stream",
     "text": [
      "10.5852766037\n"
     ]
    },
    {
     "name": "stderr",
     "output_type": "stream",
     "text": [
      " 94%|████████████████████████████████████▌  | 2812/3000 [00:59<00:03, 50.47it/s]"
     ]
    },
    {
     "name": "stdout",
     "output_type": "stream",
     "text": [
      "10.9320173264\n"
     ]
    },
    {
     "name": "stderr",
     "output_type": "stream",
     "text": [
      " 97%|█████████████████████████████████████▊ | 2905/3000 [01:01<00:01, 53.05it/s]"
     ]
    },
    {
     "name": "stdout",
     "output_type": "stream",
     "text": [
      "-4.0030674934\n"
     ]
    },
    {
     "name": "stderr",
     "output_type": "stream",
     "text": [
      "100%|███████████████████████████████████████| 3000/3000 [01:03<00:00, 47.62it/s]\n"
     ]
    },
    {
     "name": "stdout",
     "output_type": "stream",
     "text": [
      "\n",
      " Lesson 11:\n"
     ]
    },
    {
     "name": "stderr",
     "output_type": "stream",
     "text": [
      "  0%|                                          | 5/3000 [00:00<01:01, 48.73it/s]"
     ]
    },
    {
     "name": "stdout",
     "output_type": "stream",
     "text": [
      "-0.7452473044\n"
     ]
    },
    {
     "name": "stderr",
     "output_type": "stream",
     "text": [
      "  4%|█▍                                      | 107/3000 [00:01<00:42, 68.34it/s]"
     ]
    },
    {
     "name": "stdout",
     "output_type": "stream",
     "text": [
      "10.4222860336\n"
     ]
    },
    {
     "name": "stderr",
     "output_type": "stream",
     "text": [
      "  7%|██▊                                     | 210/3000 [00:03<00:41, 66.97it/s]"
     ]
    },
    {
     "name": "stdout",
     "output_type": "stream",
     "text": [
      "-2.3854365349\n"
     ]
    },
    {
     "name": "stderr",
     "output_type": "stream",
     "text": [
      " 10%|████                                    | 306/3000 [00:04<00:49, 54.43it/s]"
     ]
    },
    {
     "name": "stdout",
     "output_type": "stream",
     "text": [
      "7.9491009712\n"
     ]
    },
    {
     "name": "stderr",
     "output_type": "stream",
     "text": [
      " 14%|█████▌                                  | 414/3000 [00:06<00:42, 60.55it/s]"
     ]
    },
    {
     "name": "stdout",
     "output_type": "stream",
     "text": [
      "10.1149168015\n"
     ]
    },
    {
     "name": "stderr",
     "output_type": "stream",
     "text": [
      " 17%|██████▊                                 | 509/3000 [00:08<00:39, 63.16it/s]"
     ]
    },
    {
     "name": "stdout",
     "output_type": "stream",
     "text": [
      "7.8214645386\n"
     ]
    },
    {
     "name": "stderr",
     "output_type": "stream",
     "text": [
      " 20%|████████                                | 606/3000 [00:10<00:40, 59.07it/s]"
     ]
    },
    {
     "name": "stdout",
     "output_type": "stream",
     "text": [
      "-3.0682568550\n"
     ]
    },
    {
     "name": "stderr",
     "output_type": "stream",
     "text": [
      " 24%|█████████▍                              | 706/3000 [00:11<00:42, 53.72it/s]"
     ]
    },
    {
     "name": "stdout",
     "output_type": "stream",
     "text": [
      "-2.0706913471\n"
     ]
    },
    {
     "name": "stderr",
     "output_type": "stream",
     "text": [
      " 27%|██████████▊                             | 807/3000 [00:13<00:33, 66.33it/s]"
     ]
    },
    {
     "name": "stdout",
     "output_type": "stream",
     "text": [
      "-3.0327308178\n"
     ]
    },
    {
     "name": "stderr",
     "output_type": "stream",
     "text": [
      " 30%|████████████▏                           | 911/3000 [00:15<00:36, 57.03it/s]"
     ]
    },
    {
     "name": "stdout",
     "output_type": "stream",
     "text": [
      "-3.9874331951\n"
     ]
    },
    {
     "name": "stderr",
     "output_type": "stream",
     "text": [
      " 34%|█████████████▏                         | 1010/3000 [00:16<00:28, 70.24it/s]"
     ]
    },
    {
     "name": "stdout",
     "output_type": "stream",
     "text": [
      "9.7021341324\n"
     ]
    },
    {
     "name": "stderr",
     "output_type": "stream",
     "text": [
      " 37%|██████████████▍                        | 1106/3000 [00:18<00:35, 53.83it/s]"
     ]
    },
    {
     "name": "stdout",
     "output_type": "stream",
     "text": [
      "9.3098945618\n"
     ]
    },
    {
     "name": "stderr",
     "output_type": "stream",
     "text": [
      " 40%|███████████████▋                       | 1205/3000 [00:20<00:33, 53.03it/s]"
     ]
    },
    {
     "name": "stdout",
     "output_type": "stream",
     "text": [
      "-2.6633071899\n"
     ]
    },
    {
     "name": "stderr",
     "output_type": "stream",
     "text": [
      " 44%|█████████████████                      | 1310/3000 [00:22<00:26, 64.98it/s]"
     ]
    },
    {
     "name": "stdout",
     "output_type": "stream",
     "text": [
      "-3.0887987614\n"
     ]
    },
    {
     "name": "stderr",
     "output_type": "stream",
     "text": [
      " 47%|██████████████████▎                    | 1406/3000 [00:23<00:19, 81.37it/s]"
     ]
    },
    {
     "name": "stdout",
     "output_type": "stream",
     "text": [
      "-2.4993922710\n"
     ]
    },
    {
     "name": "stderr",
     "output_type": "stream",
     "text": [
      " 50%|███████████████████▋                   | 1514/3000 [00:25<00:23, 62.88it/s]"
     ]
    },
    {
     "name": "stdout",
     "output_type": "stream",
     "text": [
      "-3.7619955540\n"
     ]
    },
    {
     "name": "stderr",
     "output_type": "stream",
     "text": [
      " 54%|████████████████████▉                  | 1607/3000 [00:26<00:22, 63.04it/s]"
     ]
    },
    {
     "name": "stdout",
     "output_type": "stream",
     "text": [
      "-3.1121335030\n"
     ]
    },
    {
     "name": "stderr",
     "output_type": "stream",
     "text": [
      " 57%|██████████████████████▏                | 1709/3000 [00:28<00:20, 62.33it/s]"
     ]
    },
    {
     "name": "stdout",
     "output_type": "stream",
     "text": [
      "-3.3728067875\n"
     ]
    },
    {
     "name": "stderr",
     "output_type": "stream",
     "text": [
      " 60%|███████████████████████▍               | 1807/3000 [00:30<00:20, 58.26it/s]"
     ]
    },
    {
     "name": "stdout",
     "output_type": "stream",
     "text": [
      "9.6125478745\n"
     ]
    },
    {
     "name": "stderr",
     "output_type": "stream",
     "text": [
      " 64%|████████████████████████▊              | 1905/3000 [00:31<00:18, 59.93it/s]"
     ]
    },
    {
     "name": "stdout",
     "output_type": "stream",
     "text": [
      "9.2332382202\n"
     ]
    },
    {
     "name": "stderr",
     "output_type": "stream",
     "text": [
      " 67%|██████████████████████████             | 2009/3000 [00:33<00:17, 57.61it/s]"
     ]
    },
    {
     "name": "stdout",
     "output_type": "stream",
     "text": [
      "-3.4220046997\n"
     ]
    },
    {
     "name": "stderr",
     "output_type": "stream",
     "text": [
      " 70%|███████████████████████████▍           | 2110/3000 [00:35<00:16, 53.63it/s]"
     ]
    },
    {
     "name": "stdout",
     "output_type": "stream",
     "text": [
      "-2.6718471050\n"
     ]
    },
    {
     "name": "stderr",
     "output_type": "stream",
     "text": [
      " 73%|████████████████████████████▋          | 2202/3000 [00:36<00:11, 69.03it/s]"
     ]
    },
    {
     "name": "stdout",
     "output_type": "stream",
     "text": [
      "8.3955383301\n"
     ]
    },
    {
     "name": "stderr",
     "output_type": "stream",
     "text": [
      " 77%|██████████████████████████████         | 2308/3000 [00:38<00:12, 57.22it/s]"
     ]
    },
    {
     "name": "stdout",
     "output_type": "stream",
     "text": [
      "10.0805854797\n"
     ]
    },
    {
     "name": "stderr",
     "output_type": "stream",
     "text": [
      " 80%|███████████████████████████████▎       | 2405/3000 [00:40<00:08, 71.78it/s]"
     ]
    },
    {
     "name": "stdout",
     "output_type": "stream",
     "text": [
      "-3.9560680389\n"
     ]
    },
    {
     "name": "stderr",
     "output_type": "stream",
     "text": [
      " 84%|████████████████████████████████▋      | 2512/3000 [00:41<00:07, 69.37it/s]"
     ]
    },
    {
     "name": "stdout",
     "output_type": "stream",
     "text": [
      "10.4666776657\n"
     ]
    },
    {
     "name": "stderr",
     "output_type": "stream",
     "text": [
      " 87%|██████████████████████████████████     | 2617/3000 [00:43<00:04, 77.06it/s]"
     ]
    },
    {
     "name": "stdout",
     "output_type": "stream",
     "text": [
      "-3.3194403648\n"
     ]
    },
    {
     "name": "stderr",
     "output_type": "stream",
     "text": [
      " 90%|███████████████████████████████████▏   | 2709/3000 [00:45<00:04, 67.82it/s]"
     ]
    },
    {
     "name": "stdout",
     "output_type": "stream",
     "text": [
      "10.5698213577\n"
     ]
    },
    {
     "name": "stderr",
     "output_type": "stream",
     "text": [
      " 94%|████████████████████████████████████▍  | 2807/3000 [00:46<00:02, 72.90it/s]"
     ]
    },
    {
     "name": "stdout",
     "output_type": "stream",
     "text": [
      "10.8144731522\n"
     ]
    },
    {
     "name": "stderr",
     "output_type": "stream",
     "text": [
      " 97%|█████████████████████████████████████▊ | 2907/3000 [00:48<00:01, 51.98it/s]"
     ]
    },
    {
     "name": "stdout",
     "output_type": "stream",
     "text": [
      "-3.1433212757\n"
     ]
    },
    {
     "name": "stderr",
     "output_type": "stream",
     "text": [
      "100%|███████████████████████████████████████| 3000/3000 [00:50<00:00, 59.96it/s]"
     ]
    },
    {
     "name": "stdout",
     "output_type": "stream",
     "text": [
      "\n"
     ]
    },
    {
     "name": "stderr",
     "output_type": "stream",
     "text": [
      "\n"
     ]
    }
   ],
   "source": [
    "controller = initialize_controller()\n",
    "\n",
    "for lesson in range(1, num_lessons + 2): \n",
    "    print(\" Lesson {}:\".format(lesson))\n",
    "    controller = train_controller(lesson = lesson, \n",
    "                                  controller = controller, \n",
    "                                  epochs = 3000,\n",
    "                                  max_steps = 400)\n",
    "    print()"
   ]
  },
  {
   "cell_type": "markdown",
   "metadata": {},
   "source": [
    "# Testing Results"
   ]
  },
  {
   "cell_type": "code",
   "execution_count": 15,
   "metadata": {},
   "outputs": [
    {
     "data": {
      "application/javascript": [
       "/* Put everything inside the global mpl namespace */\n",
       "/* global mpl */\n",
       "window.mpl = {};\n",
       "\n",
       "mpl.get_websocket_type = function () {\n",
       "    if (typeof WebSocket !== 'undefined') {\n",
       "        return WebSocket;\n",
       "    } else if (typeof MozWebSocket !== 'undefined') {\n",
       "        return MozWebSocket;\n",
       "    } else {\n",
       "        alert(\n",
       "            'Your browser does not have WebSocket support. ' +\n",
       "                'Please try Chrome, Safari or Firefox ≥ 6. ' +\n",
       "                'Firefox 4 and 5 are also supported but you ' +\n",
       "                'have to enable WebSockets in about:config.'\n",
       "        );\n",
       "    }\n",
       "};\n",
       "\n",
       "mpl.figure = function (figure_id, websocket, ondownload, parent_element) {\n",
       "    this.id = figure_id;\n",
       "\n",
       "    this.ws = websocket;\n",
       "\n",
       "    this.supports_binary = this.ws.binaryType !== undefined;\n",
       "\n",
       "    if (!this.supports_binary) {\n",
       "        var warnings = document.getElementById('mpl-warnings');\n",
       "        if (warnings) {\n",
       "            warnings.style.display = 'block';\n",
       "            warnings.textContent =\n",
       "                'This browser does not support binary websocket messages. ' +\n",
       "                'Performance may be slow.';\n",
       "        }\n",
       "    }\n",
       "\n",
       "    this.imageObj = new Image();\n",
       "\n",
       "    this.context = undefined;\n",
       "    this.message = undefined;\n",
       "    this.canvas = undefined;\n",
       "    this.rubberband_canvas = undefined;\n",
       "    this.rubberband_context = undefined;\n",
       "    this.format_dropdown = undefined;\n",
       "\n",
       "    this.image_mode = 'full';\n",
       "\n",
       "    this.root = document.createElement('div');\n",
       "    this.root.setAttribute('style', 'display: inline-block');\n",
       "    this._root_extra_style(this.root);\n",
       "\n",
       "    parent_element.appendChild(this.root);\n",
       "\n",
       "    this._init_header(this);\n",
       "    this._init_canvas(this);\n",
       "    this._init_toolbar(this);\n",
       "\n",
       "    var fig = this;\n",
       "\n",
       "    this.waiting = false;\n",
       "\n",
       "    this.ws.onopen = function () {\n",
       "        fig.send_message('supports_binary', { value: fig.supports_binary });\n",
       "        fig.send_message('send_image_mode', {});\n",
       "        if (fig.ratio !== 1) {\n",
       "            fig.send_message('set_device_pixel_ratio', {\n",
       "                device_pixel_ratio: fig.ratio,\n",
       "            });\n",
       "        }\n",
       "        fig.send_message('refresh', {});\n",
       "    };\n",
       "\n",
       "    this.imageObj.onload = function () {\n",
       "        if (fig.image_mode === 'full') {\n",
       "            // Full images could contain transparency (where diff images\n",
       "            // almost always do), so we need to clear the canvas so that\n",
       "            // there is no ghosting.\n",
       "            fig.context.clearRect(0, 0, fig.canvas.width, fig.canvas.height);\n",
       "        }\n",
       "        fig.context.drawImage(fig.imageObj, 0, 0);\n",
       "    };\n",
       "\n",
       "    this.imageObj.onunload = function () {\n",
       "        fig.ws.close();\n",
       "    };\n",
       "\n",
       "    this.ws.onmessage = this._make_on_message_function(this);\n",
       "\n",
       "    this.ondownload = ondownload;\n",
       "};\n",
       "\n",
       "mpl.figure.prototype._init_header = function () {\n",
       "    var titlebar = document.createElement('div');\n",
       "    titlebar.classList =\n",
       "        'ui-dialog-titlebar ui-widget-header ui-corner-all ui-helper-clearfix';\n",
       "    var titletext = document.createElement('div');\n",
       "    titletext.classList = 'ui-dialog-title';\n",
       "    titletext.setAttribute(\n",
       "        'style',\n",
       "        'width: 100%; text-align: center; padding: 3px;'\n",
       "    );\n",
       "    titlebar.appendChild(titletext);\n",
       "    this.root.appendChild(titlebar);\n",
       "    this.header = titletext;\n",
       "};\n",
       "\n",
       "mpl.figure.prototype._canvas_extra_style = function (_canvas_div) {};\n",
       "\n",
       "mpl.figure.prototype._root_extra_style = function (_canvas_div) {};\n",
       "\n",
       "mpl.figure.prototype._init_canvas = function () {\n",
       "    var fig = this;\n",
       "\n",
       "    var canvas_div = (this.canvas_div = document.createElement('div'));\n",
       "    canvas_div.setAttribute('tabindex', '0');\n",
       "    canvas_div.setAttribute(\n",
       "        'style',\n",
       "        'border: 1px solid #ddd;' +\n",
       "            'box-sizing: content-box;' +\n",
       "            'clear: both;' +\n",
       "            'min-height: 1px;' +\n",
       "            'min-width: 1px;' +\n",
       "            'outline: 0;' +\n",
       "            'overflow: hidden;' +\n",
       "            'position: relative;' +\n",
       "            'resize: both;' +\n",
       "            'z-index: 2;'\n",
       "    );\n",
       "\n",
       "    function on_keyboard_event_closure(name) {\n",
       "        return function (event) {\n",
       "            return fig.key_event(event, name);\n",
       "        };\n",
       "    }\n",
       "\n",
       "    canvas_div.addEventListener(\n",
       "        'keydown',\n",
       "        on_keyboard_event_closure('key_press')\n",
       "    );\n",
       "    canvas_div.addEventListener(\n",
       "        'keyup',\n",
       "        on_keyboard_event_closure('key_release')\n",
       "    );\n",
       "\n",
       "    this._canvas_extra_style(canvas_div);\n",
       "    this.root.appendChild(canvas_div);\n",
       "\n",
       "    var canvas = (this.canvas = document.createElement('canvas'));\n",
       "    canvas.classList.add('mpl-canvas');\n",
       "    canvas.setAttribute(\n",
       "        'style',\n",
       "        'box-sizing: content-box;' +\n",
       "            'pointer-events: none;' +\n",
       "            'position: relative;' +\n",
       "            'z-index: 0;'\n",
       "    );\n",
       "\n",
       "    this.context = canvas.getContext('2d');\n",
       "\n",
       "    var backingStore =\n",
       "        this.context.backingStorePixelRatio ||\n",
       "        this.context.webkitBackingStorePixelRatio ||\n",
       "        this.context.mozBackingStorePixelRatio ||\n",
       "        this.context.msBackingStorePixelRatio ||\n",
       "        this.context.oBackingStorePixelRatio ||\n",
       "        this.context.backingStorePixelRatio ||\n",
       "        1;\n",
       "\n",
       "    this.ratio = (window.devicePixelRatio || 1) / backingStore;\n",
       "\n",
       "    var rubberband_canvas = (this.rubberband_canvas = document.createElement(\n",
       "        'canvas'\n",
       "    ));\n",
       "    rubberband_canvas.setAttribute(\n",
       "        'style',\n",
       "        'box-sizing: content-box;' +\n",
       "            'left: 0;' +\n",
       "            'pointer-events: none;' +\n",
       "            'position: absolute;' +\n",
       "            'top: 0;' +\n",
       "            'z-index: 1;'\n",
       "    );\n",
       "\n",
       "    // Apply a ponyfill if ResizeObserver is not implemented by browser.\n",
       "    if (this.ResizeObserver === undefined) {\n",
       "        if (window.ResizeObserver !== undefined) {\n",
       "            this.ResizeObserver = window.ResizeObserver;\n",
       "        } else {\n",
       "            var obs = _JSXTOOLS_RESIZE_OBSERVER({});\n",
       "            this.ResizeObserver = obs.ResizeObserver;\n",
       "        }\n",
       "    }\n",
       "\n",
       "    this.resizeObserverInstance = new this.ResizeObserver(function (entries) {\n",
       "        // There's no need to resize if the WebSocket is not connected:\n",
       "        // - If it is still connecting, then we will get an initial resize from\n",
       "        //   Python once it connects.\n",
       "        // - If it has disconnected, then resizing will clear the canvas and\n",
       "        //   never get anything back to refill it, so better to not resize and\n",
       "        //   keep something visible.\n",
       "        if (fig.ws.readyState != 1) {\n",
       "            return;\n",
       "        }\n",
       "        var nentries = entries.length;\n",
       "        for (var i = 0; i < nentries; i++) {\n",
       "            var entry = entries[i];\n",
       "            var width, height;\n",
       "            if (entry.contentBoxSize) {\n",
       "                if (entry.contentBoxSize instanceof Array) {\n",
       "                    // Chrome 84 implements new version of spec.\n",
       "                    width = entry.contentBoxSize[0].inlineSize;\n",
       "                    height = entry.contentBoxSize[0].blockSize;\n",
       "                } else {\n",
       "                    // Firefox implements old version of spec.\n",
       "                    width = entry.contentBoxSize.inlineSize;\n",
       "                    height = entry.contentBoxSize.blockSize;\n",
       "                }\n",
       "            } else {\n",
       "                // Chrome <84 implements even older version of spec.\n",
       "                width = entry.contentRect.width;\n",
       "                height = entry.contentRect.height;\n",
       "            }\n",
       "\n",
       "            // Keep the size of the canvas and rubber band canvas in sync with\n",
       "            // the canvas container.\n",
       "            if (entry.devicePixelContentBoxSize) {\n",
       "                // Chrome 84 implements new version of spec.\n",
       "                canvas.setAttribute(\n",
       "                    'width',\n",
       "                    entry.devicePixelContentBoxSize[0].inlineSize\n",
       "                );\n",
       "                canvas.setAttribute(\n",
       "                    'height',\n",
       "                    entry.devicePixelContentBoxSize[0].blockSize\n",
       "                );\n",
       "            } else {\n",
       "                canvas.setAttribute('width', width * fig.ratio);\n",
       "                canvas.setAttribute('height', height * fig.ratio);\n",
       "            }\n",
       "            /* This rescales the canvas back to display pixels, so that it\n",
       "             * appears correct on HiDPI screens. */\n",
       "            canvas.style.width = width + 'px';\n",
       "            canvas.style.height = height + 'px';\n",
       "\n",
       "            rubberband_canvas.setAttribute('width', width);\n",
       "            rubberband_canvas.setAttribute('height', height);\n",
       "\n",
       "            // And update the size in Python. We ignore the initial 0/0 size\n",
       "            // that occurs as the element is placed into the DOM, which should\n",
       "            // otherwise not happen due to the minimum size styling.\n",
       "            if (width != 0 && height != 0) {\n",
       "                fig.request_resize(width, height);\n",
       "            }\n",
       "        }\n",
       "    });\n",
       "    this.resizeObserverInstance.observe(canvas_div);\n",
       "\n",
       "    function on_mouse_event_closure(name) {\n",
       "        /* User Agent sniffing is bad, but WebKit is busted:\n",
       "         * https://bugs.webkit.org/show_bug.cgi?id=144526\n",
       "         * https://bugs.webkit.org/show_bug.cgi?id=181818\n",
       "         * The worst that happens here is that they get an extra browser\n",
       "         * selection when dragging, if this check fails to catch them.\n",
       "         */\n",
       "        var UA = navigator.userAgent;\n",
       "        var isWebKit = /AppleWebKit/.test(UA) && !/Chrome/.test(UA);\n",
       "        if(isWebKit) {\n",
       "            return function (event) {\n",
       "                /* This prevents the web browser from automatically changing to\n",
       "                 * the text insertion cursor when the button is pressed. We\n",
       "                 * want to control all of the cursor setting manually through\n",
       "                 * the 'cursor' event from matplotlib */\n",
       "                event.preventDefault()\n",
       "                return fig.mouse_event(event, name);\n",
       "            };\n",
       "        } else {\n",
       "            return function (event) {\n",
       "                return fig.mouse_event(event, name);\n",
       "            };\n",
       "        }\n",
       "    }\n",
       "\n",
       "    canvas_div.addEventListener(\n",
       "        'mousedown',\n",
       "        on_mouse_event_closure('button_press')\n",
       "    );\n",
       "    canvas_div.addEventListener(\n",
       "        'mouseup',\n",
       "        on_mouse_event_closure('button_release')\n",
       "    );\n",
       "    canvas_div.addEventListener(\n",
       "        'dblclick',\n",
       "        on_mouse_event_closure('dblclick')\n",
       "    );\n",
       "    // Throttle sequential mouse events to 1 every 20ms.\n",
       "    canvas_div.addEventListener(\n",
       "        'mousemove',\n",
       "        on_mouse_event_closure('motion_notify')\n",
       "    );\n",
       "\n",
       "    canvas_div.addEventListener(\n",
       "        'mouseenter',\n",
       "        on_mouse_event_closure('figure_enter')\n",
       "    );\n",
       "    canvas_div.addEventListener(\n",
       "        'mouseleave',\n",
       "        on_mouse_event_closure('figure_leave')\n",
       "    );\n",
       "\n",
       "    canvas_div.addEventListener('wheel', function (event) {\n",
       "        if (event.deltaY < 0) {\n",
       "            event.step = 1;\n",
       "        } else {\n",
       "            event.step = -1;\n",
       "        }\n",
       "        on_mouse_event_closure('scroll')(event);\n",
       "    });\n",
       "\n",
       "    canvas_div.appendChild(canvas);\n",
       "    canvas_div.appendChild(rubberband_canvas);\n",
       "\n",
       "    this.rubberband_context = rubberband_canvas.getContext('2d');\n",
       "    this.rubberband_context.strokeStyle = '#000000';\n",
       "\n",
       "    this._resize_canvas = function (width, height, forward) {\n",
       "        if (forward) {\n",
       "            canvas_div.style.width = width + 'px';\n",
       "            canvas_div.style.height = height + 'px';\n",
       "        }\n",
       "    };\n",
       "\n",
       "    // Disable right mouse context menu.\n",
       "    canvas_div.addEventListener('contextmenu', function (_e) {\n",
       "        event.preventDefault();\n",
       "        return false;\n",
       "    });\n",
       "\n",
       "    function set_focus() {\n",
       "        canvas.focus();\n",
       "        canvas_div.focus();\n",
       "    }\n",
       "\n",
       "    window.setTimeout(set_focus, 100);\n",
       "};\n",
       "\n",
       "mpl.figure.prototype._init_toolbar = function () {\n",
       "    var fig = this;\n",
       "\n",
       "    var toolbar = document.createElement('div');\n",
       "    toolbar.classList = 'mpl-toolbar';\n",
       "    this.root.appendChild(toolbar);\n",
       "\n",
       "    function on_click_closure(name) {\n",
       "        return function (_event) {\n",
       "            return fig.toolbar_button_onclick(name);\n",
       "        };\n",
       "    }\n",
       "\n",
       "    function on_mouseover_closure(tooltip) {\n",
       "        return function (event) {\n",
       "            if (!event.currentTarget.disabled) {\n",
       "                return fig.toolbar_button_onmouseover(tooltip);\n",
       "            }\n",
       "        };\n",
       "    }\n",
       "\n",
       "    fig.buttons = {};\n",
       "    var buttonGroup = document.createElement('div');\n",
       "    buttonGroup.classList = 'mpl-button-group';\n",
       "    for (var toolbar_ind in mpl.toolbar_items) {\n",
       "        var name = mpl.toolbar_items[toolbar_ind][0];\n",
       "        var tooltip = mpl.toolbar_items[toolbar_ind][1];\n",
       "        var image = mpl.toolbar_items[toolbar_ind][2];\n",
       "        var method_name = mpl.toolbar_items[toolbar_ind][3];\n",
       "\n",
       "        if (!name) {\n",
       "            /* Instead of a spacer, we start a new button group. */\n",
       "            if (buttonGroup.hasChildNodes()) {\n",
       "                toolbar.appendChild(buttonGroup);\n",
       "            }\n",
       "            buttonGroup = document.createElement('div');\n",
       "            buttonGroup.classList = 'mpl-button-group';\n",
       "            continue;\n",
       "        }\n",
       "\n",
       "        var button = (fig.buttons[name] = document.createElement('button'));\n",
       "        button.classList = 'mpl-widget';\n",
       "        button.setAttribute('role', 'button');\n",
       "        button.setAttribute('aria-disabled', 'false');\n",
       "        button.addEventListener('click', on_click_closure(method_name));\n",
       "        button.addEventListener('mouseover', on_mouseover_closure(tooltip));\n",
       "\n",
       "        var icon_img = document.createElement('img');\n",
       "        icon_img.src = '_images/' + image + '.png';\n",
       "        icon_img.srcset = '_images/' + image + '_large.png 2x';\n",
       "        icon_img.alt = tooltip;\n",
       "        button.appendChild(icon_img);\n",
       "\n",
       "        buttonGroup.appendChild(button);\n",
       "    }\n",
       "\n",
       "    if (buttonGroup.hasChildNodes()) {\n",
       "        toolbar.appendChild(buttonGroup);\n",
       "    }\n",
       "\n",
       "    var fmt_picker = document.createElement('select');\n",
       "    fmt_picker.classList = 'mpl-widget';\n",
       "    toolbar.appendChild(fmt_picker);\n",
       "    this.format_dropdown = fmt_picker;\n",
       "\n",
       "    for (var ind in mpl.extensions) {\n",
       "        var fmt = mpl.extensions[ind];\n",
       "        var option = document.createElement('option');\n",
       "        option.selected = fmt === mpl.default_extension;\n",
       "        option.innerHTML = fmt;\n",
       "        fmt_picker.appendChild(option);\n",
       "    }\n",
       "\n",
       "    var status_bar = document.createElement('span');\n",
       "    status_bar.classList = 'mpl-message';\n",
       "    toolbar.appendChild(status_bar);\n",
       "    this.message = status_bar;\n",
       "};\n",
       "\n",
       "mpl.figure.prototype.request_resize = function (x_pixels, y_pixels) {\n",
       "    // Request matplotlib to resize the figure. Matplotlib will then trigger a resize in the client,\n",
       "    // which will in turn request a refresh of the image.\n",
       "    this.send_message('resize', { width: x_pixels, height: y_pixels });\n",
       "};\n",
       "\n",
       "mpl.figure.prototype.send_message = function (type, properties) {\n",
       "    properties['type'] = type;\n",
       "    properties['figure_id'] = this.id;\n",
       "    this.ws.send(JSON.stringify(properties));\n",
       "};\n",
       "\n",
       "mpl.figure.prototype.send_draw_message = function () {\n",
       "    if (!this.waiting) {\n",
       "        this.waiting = true;\n",
       "        this.ws.send(JSON.stringify({ type: 'draw', figure_id: this.id }));\n",
       "    }\n",
       "};\n",
       "\n",
       "mpl.figure.prototype.handle_save = function (fig, _msg) {\n",
       "    var format_dropdown = fig.format_dropdown;\n",
       "    var format = format_dropdown.options[format_dropdown.selectedIndex].value;\n",
       "    fig.ondownload(fig, format);\n",
       "};\n",
       "\n",
       "mpl.figure.prototype.handle_resize = function (fig, msg) {\n",
       "    var size = msg['size'];\n",
       "    if (size[0] !== fig.canvas.width || size[1] !== fig.canvas.height) {\n",
       "        fig._resize_canvas(size[0], size[1], msg['forward']);\n",
       "        fig.send_message('refresh', {});\n",
       "    }\n",
       "};\n",
       "\n",
       "mpl.figure.prototype.handle_rubberband = function (fig, msg) {\n",
       "    var x0 = msg['x0'] / fig.ratio;\n",
       "    var y0 = (fig.canvas.height - msg['y0']) / fig.ratio;\n",
       "    var x1 = msg['x1'] / fig.ratio;\n",
       "    var y1 = (fig.canvas.height - msg['y1']) / fig.ratio;\n",
       "    x0 = Math.floor(x0) + 0.5;\n",
       "    y0 = Math.floor(y0) + 0.5;\n",
       "    x1 = Math.floor(x1) + 0.5;\n",
       "    y1 = Math.floor(y1) + 0.5;\n",
       "    var min_x = Math.min(x0, x1);\n",
       "    var min_y = Math.min(y0, y1);\n",
       "    var width = Math.abs(x1 - x0);\n",
       "    var height = Math.abs(y1 - y0);\n",
       "\n",
       "    fig.rubberband_context.clearRect(\n",
       "        0,\n",
       "        0,\n",
       "        fig.canvas.width / fig.ratio,\n",
       "        fig.canvas.height / fig.ratio\n",
       "    );\n",
       "\n",
       "    fig.rubberband_context.strokeRect(min_x, min_y, width, height);\n",
       "};\n",
       "\n",
       "mpl.figure.prototype.handle_figure_label = function (fig, msg) {\n",
       "    // Updates the figure title.\n",
       "    fig.header.textContent = msg['label'];\n",
       "};\n",
       "\n",
       "mpl.figure.prototype.handle_cursor = function (fig, msg) {\n",
       "    fig.canvas_div.style.cursor = msg['cursor'];\n",
       "};\n",
       "\n",
       "mpl.figure.prototype.handle_message = function (fig, msg) {\n",
       "    fig.message.textContent = msg['message'];\n",
       "};\n",
       "\n",
       "mpl.figure.prototype.handle_draw = function (fig, _msg) {\n",
       "    // Request the server to send over a new figure.\n",
       "    fig.send_draw_message();\n",
       "};\n",
       "\n",
       "mpl.figure.prototype.handle_image_mode = function (fig, msg) {\n",
       "    fig.image_mode = msg['mode'];\n",
       "};\n",
       "\n",
       "mpl.figure.prototype.handle_history_buttons = function (fig, msg) {\n",
       "    for (var key in msg) {\n",
       "        if (!(key in fig.buttons)) {\n",
       "            continue;\n",
       "        }\n",
       "        fig.buttons[key].disabled = !msg[key];\n",
       "        fig.buttons[key].setAttribute('aria-disabled', !msg[key]);\n",
       "    }\n",
       "};\n",
       "\n",
       "mpl.figure.prototype.handle_navigate_mode = function (fig, msg) {\n",
       "    if (msg['mode'] === 'PAN') {\n",
       "        fig.buttons['Pan'].classList.add('active');\n",
       "        fig.buttons['Zoom'].classList.remove('active');\n",
       "    } else if (msg['mode'] === 'ZOOM') {\n",
       "        fig.buttons['Pan'].classList.remove('active');\n",
       "        fig.buttons['Zoom'].classList.add('active');\n",
       "    } else {\n",
       "        fig.buttons['Pan'].classList.remove('active');\n",
       "        fig.buttons['Zoom'].classList.remove('active');\n",
       "    }\n",
       "};\n",
       "\n",
       "mpl.figure.prototype.updated_canvas_event = function () {\n",
       "    // Called whenever the canvas gets updated.\n",
       "    this.send_message('ack', {});\n",
       "};\n",
       "\n",
       "// A function to construct a web socket function for onmessage handling.\n",
       "// Called in the figure constructor.\n",
       "mpl.figure.prototype._make_on_message_function = function (fig) {\n",
       "    return function socket_on_message(evt) {\n",
       "        if (evt.data instanceof Blob) {\n",
       "            var img = evt.data;\n",
       "            if (img.type !== 'image/png') {\n",
       "                /* FIXME: We get \"Resource interpreted as Image but\n",
       "                 * transferred with MIME type text/plain:\" errors on\n",
       "                 * Chrome.  But how to set the MIME type?  It doesn't seem\n",
       "                 * to be part of the websocket stream */\n",
       "                img.type = 'image/png';\n",
       "            }\n",
       "\n",
       "            /* Free the memory for the previous frames */\n",
       "            if (fig.imageObj.src) {\n",
       "                (window.URL || window.webkitURL).revokeObjectURL(\n",
       "                    fig.imageObj.src\n",
       "                );\n",
       "            }\n",
       "\n",
       "            fig.imageObj.src = (window.URL || window.webkitURL).createObjectURL(\n",
       "                img\n",
       "            );\n",
       "            fig.updated_canvas_event();\n",
       "            fig.waiting = false;\n",
       "            return;\n",
       "        } else if (\n",
       "            typeof evt.data === 'string' &&\n",
       "            evt.data.slice(0, 21) === 'data:image/png;base64'\n",
       "        ) {\n",
       "            fig.imageObj.src = evt.data;\n",
       "            fig.updated_canvas_event();\n",
       "            fig.waiting = false;\n",
       "            return;\n",
       "        }\n",
       "\n",
       "        var msg = JSON.parse(evt.data);\n",
       "        var msg_type = msg['type'];\n",
       "\n",
       "        // Call the  \"handle_{type}\" callback, which takes\n",
       "        // the figure and JSON message as its only arguments.\n",
       "        try {\n",
       "            var callback = fig['handle_' + msg_type];\n",
       "        } catch (e) {\n",
       "            console.log(\n",
       "                \"No handler for the '\" + msg_type + \"' message type: \",\n",
       "                msg\n",
       "            );\n",
       "            return;\n",
       "        }\n",
       "\n",
       "        if (callback) {\n",
       "            try {\n",
       "                // console.log(\"Handling '\" + msg_type + \"' message: \", msg);\n",
       "                callback(fig, msg);\n",
       "            } catch (e) {\n",
       "                console.log(\n",
       "                    \"Exception inside the 'handler_\" + msg_type + \"' callback:\",\n",
       "                    e,\n",
       "                    e.stack,\n",
       "                    msg\n",
       "                );\n",
       "            }\n",
       "        }\n",
       "    };\n",
       "};\n",
       "\n",
       "function getModifiers(event) {\n",
       "    var mods = [];\n",
       "    if (event.ctrlKey) {\n",
       "        mods.push('ctrl');\n",
       "    }\n",
       "    if (event.altKey) {\n",
       "        mods.push('alt');\n",
       "    }\n",
       "    if (event.shiftKey) {\n",
       "        mods.push('shift');\n",
       "    }\n",
       "    if (event.metaKey) {\n",
       "        mods.push('meta');\n",
       "    }\n",
       "    return mods;\n",
       "}\n",
       "\n",
       "/*\n",
       " * return a copy of an object with only non-object keys\n",
       " * we need this to avoid circular references\n",
       " * https://stackoverflow.com/a/24161582/3208463\n",
       " */\n",
       "function simpleKeys(original) {\n",
       "    return Object.keys(original).reduce(function (obj, key) {\n",
       "        if (typeof original[key] !== 'object') {\n",
       "            obj[key] = original[key];\n",
       "        }\n",
       "        return obj;\n",
       "    }, {});\n",
       "}\n",
       "\n",
       "mpl.figure.prototype.mouse_event = function (event, name) {\n",
       "    if (name === 'button_press') {\n",
       "        this.canvas.focus();\n",
       "        this.canvas_div.focus();\n",
       "    }\n",
       "\n",
       "    // from https://stackoverflow.com/q/1114465\n",
       "    var boundingRect = this.canvas.getBoundingClientRect();\n",
       "    var x = (event.clientX - boundingRect.left) * this.ratio;\n",
       "    var y = (event.clientY - boundingRect.top) * this.ratio;\n",
       "\n",
       "    this.send_message(name, {\n",
       "        x: x,\n",
       "        y: y,\n",
       "        button: event.button,\n",
       "        step: event.step,\n",
       "        modifiers: getModifiers(event),\n",
       "        guiEvent: simpleKeys(event),\n",
       "    });\n",
       "\n",
       "    return false;\n",
       "};\n",
       "\n",
       "mpl.figure.prototype._key_event_extra = function (_event, _name) {\n",
       "    // Handle any extra behaviour associated with a key event\n",
       "};\n",
       "\n",
       "mpl.figure.prototype.key_event = function (event, name) {\n",
       "    // Prevent repeat events\n",
       "    if (name === 'key_press') {\n",
       "        if (event.key === this._key) {\n",
       "            return;\n",
       "        } else {\n",
       "            this._key = event.key;\n",
       "        }\n",
       "    }\n",
       "    if (name === 'key_release') {\n",
       "        this._key = null;\n",
       "    }\n",
       "\n",
       "    var value = '';\n",
       "    if (event.ctrlKey && event.key !== 'Control') {\n",
       "        value += 'ctrl+';\n",
       "    }\n",
       "    else if (event.altKey && event.key !== 'Alt') {\n",
       "        value += 'alt+';\n",
       "    }\n",
       "    else if (event.shiftKey && event.key !== 'Shift') {\n",
       "        value += 'shift+';\n",
       "    }\n",
       "\n",
       "    value += 'k' + event.key;\n",
       "\n",
       "    this._key_event_extra(event, name);\n",
       "\n",
       "    this.send_message(name, { key: value, guiEvent: simpleKeys(event) });\n",
       "    return false;\n",
       "};\n",
       "\n",
       "mpl.figure.prototype.toolbar_button_onclick = function (name) {\n",
       "    if (name === 'download') {\n",
       "        this.handle_save(this, null);\n",
       "    } else {\n",
       "        this.send_message('toolbar_button', { name: name });\n",
       "    }\n",
       "};\n",
       "\n",
       "mpl.figure.prototype.toolbar_button_onmouseover = function (tooltip) {\n",
       "    this.message.textContent = tooltip;\n",
       "};\n",
       "\n",
       "///////////////// REMAINING CONTENT GENERATED BY embed_js.py /////////////////\n",
       "// prettier-ignore\n",
       "var _JSXTOOLS_RESIZE_OBSERVER=function(A){var t,i=new WeakMap,n=new WeakMap,a=new WeakMap,r=new WeakMap,o=new Set;function s(e){if(!(this instanceof s))throw new TypeError(\"Constructor requires 'new' operator\");i.set(this,e)}function h(){throw new TypeError(\"Function is not a constructor\")}function c(e,t,i,n){e=0 in arguments?Number(arguments[0]):0,t=1 in arguments?Number(arguments[1]):0,i=2 in arguments?Number(arguments[2]):0,n=3 in arguments?Number(arguments[3]):0,this.right=(this.x=this.left=e)+(this.width=i),this.bottom=(this.y=this.top=t)+(this.height=n),Object.freeze(this)}function d(){t=requestAnimationFrame(d);var s=new WeakMap,p=new Set;o.forEach((function(t){r.get(t).forEach((function(i){var r=t instanceof window.SVGElement,o=a.get(t),d=r?0:parseFloat(o.paddingTop),f=r?0:parseFloat(o.paddingRight),l=r?0:parseFloat(o.paddingBottom),u=r?0:parseFloat(o.paddingLeft),g=r?0:parseFloat(o.borderTopWidth),m=r?0:parseFloat(o.borderRightWidth),w=r?0:parseFloat(o.borderBottomWidth),b=u+f,F=d+l,v=(r?0:parseFloat(o.borderLeftWidth))+m,W=g+w,y=r?0:t.offsetHeight-W-t.clientHeight,E=r?0:t.offsetWidth-v-t.clientWidth,R=b+v,z=F+W,M=r?t.width:parseFloat(o.width)-R-E,O=r?t.height:parseFloat(o.height)-z-y;if(n.has(t)){var k=n.get(t);if(k[0]===M&&k[1]===O)return}n.set(t,[M,O]);var S=Object.create(h.prototype);S.target=t,S.contentRect=new c(u,d,M,O),s.has(i)||(s.set(i,[]),p.add(i)),s.get(i).push(S)}))})),p.forEach((function(e){i.get(e).call(e,s.get(e),e)}))}return s.prototype.observe=function(i){if(i instanceof window.Element){r.has(i)||(r.set(i,new Set),o.add(i),a.set(i,window.getComputedStyle(i)));var n=r.get(i);n.has(this)||n.add(this),cancelAnimationFrame(t),t=requestAnimationFrame(d)}},s.prototype.unobserve=function(i){if(i instanceof window.Element&&r.has(i)){var n=r.get(i);n.has(this)&&(n.delete(this),n.size||(r.delete(i),o.delete(i))),n.size||r.delete(i),o.size||cancelAnimationFrame(t)}},A.DOMRectReadOnly=c,A.ResizeObserver=s,A.ResizeObserverEntry=h,A}; // eslint-disable-line\n",
       "mpl.toolbar_items = [[\"Home\", \"Reset original view\", \"fa fa-home\", \"home\"], [\"Back\", \"Back to previous view\", \"fa fa-arrow-left\", \"back\"], [\"Forward\", \"Forward to next view\", \"fa fa-arrow-right\", \"forward\"], [\"\", \"\", \"\", \"\"], [\"Pan\", \"Left button pans, Right button zooms\\nx/y fixes axis, CTRL fixes aspect\", \"fa fa-arrows\", \"pan\"], [\"Zoom\", \"Zoom to rectangle\\nx/y fixes axis\", \"fa fa-square-o\", \"zoom\"], [\"\", \"\", \"\", \"\"], [\"Download\", \"Download plot\", \"fa fa-floppy-o\", \"download\"]];\n",
       "\n",
       "mpl.extensions = [\"eps\", \"jpeg\", \"pgf\", \"pdf\", \"png\", \"ps\", \"raw\", \"svg\", \"tif\", \"webp\"];\n",
       "\n",
       "mpl.default_extension = \"png\";/* global mpl */\n",
       "\n",
       "var comm_websocket_adapter = function (comm) {\n",
       "    // Create a \"websocket\"-like object which calls the given IPython comm\n",
       "    // object with the appropriate methods. Currently this is a non binary\n",
       "    // socket, so there is still some room for performance tuning.\n",
       "    var ws = {};\n",
       "\n",
       "    ws.binaryType = comm.kernel.ws.binaryType;\n",
       "    ws.readyState = comm.kernel.ws.readyState;\n",
       "    function updateReadyState(_event) {\n",
       "        if (comm.kernel.ws) {\n",
       "            ws.readyState = comm.kernel.ws.readyState;\n",
       "        } else {\n",
       "            ws.readyState = 3; // Closed state.\n",
       "        }\n",
       "    }\n",
       "    comm.kernel.ws.addEventListener('open', updateReadyState);\n",
       "    comm.kernel.ws.addEventListener('close', updateReadyState);\n",
       "    comm.kernel.ws.addEventListener('error', updateReadyState);\n",
       "\n",
       "    ws.close = function () {\n",
       "        comm.close();\n",
       "    };\n",
       "    ws.send = function (m) {\n",
       "        //console.log('sending', m);\n",
       "        comm.send(m);\n",
       "    };\n",
       "    // Register the callback with on_msg.\n",
       "    comm.on_msg(function (msg) {\n",
       "        //console.log('receiving', msg['content']['data'], msg);\n",
       "        var data = msg['content']['data'];\n",
       "        if (data['blob'] !== undefined) {\n",
       "            data = {\n",
       "                data: new Blob(msg['buffers'], { type: data['blob'] }),\n",
       "            };\n",
       "        }\n",
       "        // Pass the mpl event to the overridden (by mpl) onmessage function.\n",
       "        ws.onmessage(data);\n",
       "    });\n",
       "    return ws;\n",
       "};\n",
       "\n",
       "mpl.mpl_figure_comm = function (comm, msg) {\n",
       "    // This is the function which gets called when the mpl process\n",
       "    // starts-up an IPython Comm through the \"matplotlib\" channel.\n",
       "\n",
       "    var id = msg.content.data.id;\n",
       "    // Get hold of the div created by the display call when the Comm\n",
       "    // socket was opened in Python.\n",
       "    var element = document.getElementById(id);\n",
       "    var ws_proxy = comm_websocket_adapter(comm);\n",
       "\n",
       "    function ondownload(figure, _format) {\n",
       "        window.open(figure.canvas.toDataURL());\n",
       "    }\n",
       "\n",
       "    var fig = new mpl.figure(id, ws_proxy, ondownload, element);\n",
       "\n",
       "    // Call onopen now - mpl needs it, as it is assuming we've passed it a real\n",
       "    // web socket which is closed, not our websocket->open comm proxy.\n",
       "    ws_proxy.onopen();\n",
       "\n",
       "    fig.parent_element = element;\n",
       "    fig.cell_info = mpl.find_output_cell(\"<div id='\" + id + \"'></div>\");\n",
       "    if (!fig.cell_info) {\n",
       "        console.error('Failed to find cell for figure', id, fig);\n",
       "        return;\n",
       "    }\n",
       "    fig.cell_info[0].output_area.element.on(\n",
       "        'cleared',\n",
       "        { fig: fig },\n",
       "        fig._remove_fig_handler\n",
       "    );\n",
       "};\n",
       "\n",
       "mpl.figure.prototype.handle_close = function (fig, msg) {\n",
       "    var width = fig.canvas.width / fig.ratio;\n",
       "    fig.cell_info[0].output_area.element.off(\n",
       "        'cleared',\n",
       "        fig._remove_fig_handler\n",
       "    );\n",
       "    fig.resizeObserverInstance.unobserve(fig.canvas_div);\n",
       "\n",
       "    // Update the output cell to use the data from the current canvas.\n",
       "    fig.push_to_output();\n",
       "    var dataURL = fig.canvas.toDataURL();\n",
       "    // Re-enable the keyboard manager in IPython - without this line, in FF,\n",
       "    // the notebook keyboard shortcuts fail.\n",
       "    IPython.keyboard_manager.enable();\n",
       "    fig.parent_element.innerHTML =\n",
       "        '<img src=\"' + dataURL + '\" width=\"' + width + '\">';\n",
       "    fig.close_ws(fig, msg);\n",
       "};\n",
       "\n",
       "mpl.figure.prototype.close_ws = function (fig, msg) {\n",
       "    fig.send_message('closing', msg);\n",
       "    // fig.ws.close()\n",
       "};\n",
       "\n",
       "mpl.figure.prototype.push_to_output = function (_remove_interactive) {\n",
       "    // Turn the data on the canvas into data in the output cell.\n",
       "    var width = this.canvas.width / this.ratio;\n",
       "    var dataURL = this.canvas.toDataURL();\n",
       "    this.cell_info[1]['text/html'] =\n",
       "        '<img src=\"' + dataURL + '\" width=\"' + width + '\">';\n",
       "};\n",
       "\n",
       "mpl.figure.prototype.updated_canvas_event = function () {\n",
       "    // Tell IPython that the notebook contents must change.\n",
       "    IPython.notebook.set_dirty(true);\n",
       "    this.send_message('ack', {});\n",
       "    var fig = this;\n",
       "    // Wait a second, then push the new image to the DOM so\n",
       "    // that it is saved nicely (might be nice to debounce this).\n",
       "    setTimeout(function () {\n",
       "        fig.push_to_output();\n",
       "    }, 1000);\n",
       "};\n",
       "\n",
       "mpl.figure.prototype._init_toolbar = function () {\n",
       "    var fig = this;\n",
       "\n",
       "    var toolbar = document.createElement('div');\n",
       "    toolbar.classList = 'btn-toolbar';\n",
       "    this.root.appendChild(toolbar);\n",
       "\n",
       "    function on_click_closure(name) {\n",
       "        return function (_event) {\n",
       "            return fig.toolbar_button_onclick(name);\n",
       "        };\n",
       "    }\n",
       "\n",
       "    function on_mouseover_closure(tooltip) {\n",
       "        return function (event) {\n",
       "            if (!event.currentTarget.disabled) {\n",
       "                return fig.toolbar_button_onmouseover(tooltip);\n",
       "            }\n",
       "        };\n",
       "    }\n",
       "\n",
       "    fig.buttons = {};\n",
       "    var buttonGroup = document.createElement('div');\n",
       "    buttonGroup.classList = 'btn-group';\n",
       "    var button;\n",
       "    for (var toolbar_ind in mpl.toolbar_items) {\n",
       "        var name = mpl.toolbar_items[toolbar_ind][0];\n",
       "        var tooltip = mpl.toolbar_items[toolbar_ind][1];\n",
       "        var image = mpl.toolbar_items[toolbar_ind][2];\n",
       "        var method_name = mpl.toolbar_items[toolbar_ind][3];\n",
       "\n",
       "        if (!name) {\n",
       "            /* Instead of a spacer, we start a new button group. */\n",
       "            if (buttonGroup.hasChildNodes()) {\n",
       "                toolbar.appendChild(buttonGroup);\n",
       "            }\n",
       "            buttonGroup = document.createElement('div');\n",
       "            buttonGroup.classList = 'btn-group';\n",
       "            continue;\n",
       "        }\n",
       "\n",
       "        button = fig.buttons[name] = document.createElement('button');\n",
       "        button.classList = 'btn btn-default';\n",
       "        button.href = '#';\n",
       "        button.title = name;\n",
       "        button.innerHTML = '<i class=\"fa ' + image + ' fa-lg\"></i>';\n",
       "        button.addEventListener('click', on_click_closure(method_name));\n",
       "        button.addEventListener('mouseover', on_mouseover_closure(tooltip));\n",
       "        buttonGroup.appendChild(button);\n",
       "    }\n",
       "\n",
       "    if (buttonGroup.hasChildNodes()) {\n",
       "        toolbar.appendChild(buttonGroup);\n",
       "    }\n",
       "\n",
       "    // Add the status bar.\n",
       "    var status_bar = document.createElement('span');\n",
       "    status_bar.classList = 'mpl-message pull-right';\n",
       "    toolbar.appendChild(status_bar);\n",
       "    this.message = status_bar;\n",
       "\n",
       "    // Add the close button to the window.\n",
       "    var buttongrp = document.createElement('div');\n",
       "    buttongrp.classList = 'btn-group inline pull-right';\n",
       "    button = document.createElement('button');\n",
       "    button.classList = 'btn btn-mini btn-primary';\n",
       "    button.href = '#';\n",
       "    button.title = 'Stop Interaction';\n",
       "    button.innerHTML = '<i class=\"fa fa-power-off icon-remove icon-large\"></i>';\n",
       "    button.addEventListener('click', function (_evt) {\n",
       "        fig.handle_close(fig, {});\n",
       "    });\n",
       "    button.addEventListener(\n",
       "        'mouseover',\n",
       "        on_mouseover_closure('Stop Interaction')\n",
       "    );\n",
       "    buttongrp.appendChild(button);\n",
       "    var titlebar = this.root.querySelector('.ui-dialog-titlebar');\n",
       "    titlebar.insertBefore(buttongrp, titlebar.firstChild);\n",
       "};\n",
       "\n",
       "mpl.figure.prototype._remove_fig_handler = function (event) {\n",
       "    var fig = event.data.fig;\n",
       "    if (event.target !== this) {\n",
       "        // Ignore bubbled events from children.\n",
       "        return;\n",
       "    }\n",
       "    fig.close_ws(fig, {});\n",
       "};\n",
       "\n",
       "mpl.figure.prototype._root_extra_style = function (el) {\n",
       "    el.style.boxSizing = 'content-box'; // override notebook setting of border-box.\n",
       "};\n",
       "\n",
       "mpl.figure.prototype._canvas_extra_style = function (el) {\n",
       "    // this is important to make the div 'focusable\n",
       "    el.setAttribute('tabindex', 0);\n",
       "    // reach out to IPython and tell the keyboard manager to turn it's self\n",
       "    // off when our div gets focus\n",
       "\n",
       "    // location in version 3\n",
       "    if (IPython.notebook.keyboard_manager) {\n",
       "        IPython.notebook.keyboard_manager.register_events(el);\n",
       "    } else {\n",
       "        // location in version 2\n",
       "        IPython.keyboard_manager.register_events(el);\n",
       "    }\n",
       "};\n",
       "\n",
       "mpl.figure.prototype._key_event_extra = function (event, _name) {\n",
       "    // Check for shift+enter\n",
       "    if (event.shiftKey && event.which === 13) {\n",
       "        this.canvas_div.blur();\n",
       "        // select the cell after this one\n",
       "        var index = IPython.notebook.find_cell_index(this.cell_info[0]);\n",
       "        IPython.notebook.select(index + 1);\n",
       "    }\n",
       "};\n",
       "\n",
       "mpl.figure.prototype.handle_save = function (fig, _msg) {\n",
       "    fig.ondownload(fig, null);\n",
       "};\n",
       "\n",
       "mpl.find_output_cell = function (html_output) {\n",
       "    // Return the cell and output element which can be found *uniquely* in the notebook.\n",
       "    // Note - this is a bit hacky, but it is done because the \"notebook_saving.Notebook\"\n",
       "    // IPython event is triggered only after the cells have been serialised, which for\n",
       "    // our purposes (turning an active figure into a static one), is too late.\n",
       "    var cells = IPython.notebook.get_cells();\n",
       "    var ncells = cells.length;\n",
       "    for (var i = 0; i < ncells; i++) {\n",
       "        var cell = cells[i];\n",
       "        if (cell.cell_type === 'code') {\n",
       "            for (var j = 0; j < cell.output_area.outputs.length; j++) {\n",
       "                var data = cell.output_area.outputs[j];\n",
       "                if (data.data) {\n",
       "                    // IPython >= 3 moved mimebundle to data attribute of output\n",
       "                    data = data.data;\n",
       "                }\n",
       "                if (data['text/html'] === html_output) {\n",
       "                    return [cell, data, j];\n",
       "                }\n",
       "            }\n",
       "        }\n",
       "    }\n",
       "};\n",
       "\n",
       "// Register the function which deals with the matplotlib target/channel.\n",
       "// The kernel may be null if the page has been refreshed.\n",
       "if (IPython.notebook.kernel !== null) {\n",
       "    IPython.notebook.kernel.comm_manager.register_target(\n",
       "        'matplotlib',\n",
       "        mpl.mpl_figure_comm\n",
       "    );\n",
       "}\n"
      ],
      "text/plain": [
       "<IPython.core.display.Javascript object>"
      ]
     },
     "metadata": {},
     "output_type": "display_data"
    },
    {
     "data": {
      "text/html": [
       "<img src=\"data:image/png;base64,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\" width=\"600\">"
      ],
      "text/plain": [
       "<IPython.core.display.HTML object>"
      ]
     },
     "metadata": {},
     "output_type": "display_data"
    }
   ],
   "source": [
    "final_lesson = num_lessons + 1\n",
    "test_controller = torch.load('models/controllers/controller_lesson_{}.pth'.format(final_lesson), weights_only = False)\n",
    "\n",
    "truck = Truck(lesson = final_lesson, display = True)\n",
    "truck.reset()"
   ]
  },
  {
   "cell_type": "code",
   "execution_count": 29,
   "metadata": {},
   "outputs": [
    {
     "name": "stdout",
     "output_type": "stream",
     "text": [
      "Number of Steps: 182\n"
     ]
    }
   ],
   "source": [
    "with torch.no_grad():\n",
    "    truck.reset()\n",
    "    i = 0\n",
    "    while truck.valid():\n",
    "        t1 = torch.tensor([truck.ϕ],dtype=torch.float32)\n",
    "        state = truck.state()      \n",
    "        t2 = torch.Tensor(state)\n",
    "        state = torch.cat((t1,t2))\n",
    "        ϕ = test_controller(state)\n",
    "        truck.step(ϕ.item())\n",
    "        truck.draw()\n",
    "        i += 1\n",
    "    print(\"Number of Steps: {}\".format(i))"
   ]
  }
 ],
 "metadata": {
  "kernelspec": {
   "display_name": "Python (venv)",
   "language": "python",
   "name": "venv"
  },
  "language_info": {
   "codemirror_mode": {
    "name": "ipython",
    "version": 3
   },
   "file_extension": ".py",
   "mimetype": "text/x-python",
   "name": "python",
   "nbconvert_exporter": "python",
   "pygments_lexer": "ipython3",
   "version": "3.12.0"
  }
 },
 "nbformat": 4,
 "nbformat_minor": 4
}
