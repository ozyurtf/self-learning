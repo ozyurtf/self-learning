{
 "cells": [
  {
   "cell_type": "markdown",
   "metadata": {},
   "source": [
    "# Libraries"
   ]
  },
  {
   "cell_type": "code",
   "execution_count": 1,
   "metadata": {},
   "outputs": [
    {
     "name": "stderr",
     "output_type": "stream",
     "text": [
      "/var/folders/v4/yrd75qc17mg4cnlp5kqz6zcw0000gn/T/ipykernel_6621/3631861505.py:14: MatplotlibDeprecationWarning: MatplotlibDeprecationWarning was deprecated in Matplotlib 3.6 and will be removed two minor releases later. Use matplotlib.MatplotlibDeprecationWarning instead.\n",
      "  from matplotlib.cbook import MatplotlibDeprecationWarning\n"
     ]
    }
   ],
   "source": [
    "from matplotlib.pylab import *\n",
    "from matplotlib.patches import Rectangle\n",
    "from matplotlib.collections import PatchCollection\n",
    "from matplotlib.lines import Line2D\n",
    "import torch\n",
    "import torch.nn as nn\n",
    "from torch.optim import SGD\n",
    "from tqdm import tqdm\n",
    "from random import uniform\n",
    "import plotly.graph_objects as go\n",
    "import plotly.io as pio\n",
    "import wandb\n",
    "import warnings\n",
    "from matplotlib.cbook import MatplotlibDeprecationWarning\n",
    "from torchviz import make_dot\n",
    "from datetime import datetime\n",
    "\n",
    "num_lessons = 10\n",
    "current_time = datetime.now().strftime(\"%Y-%m-%d_%I-%M%p\")\n",
    "π = pi\n",
    "pio.renderers.default = 'notebook'\n",
    "warnings.filterwarnings(\"ignore\", category=MatplotlibDeprecationWarning)\n",
    "style.use(['dark_background', 'bmh'])\n",
    "%matplotlib notebook"
   ]
  },
  {
   "cell_type": "markdown",
   "metadata": {},
   "source": [
    "![car-trailer](figures/truck-backer-upper.png)\n",
    "\n",
    "\n",
    "\\begin{align}\n",
    "\\dot x &= s \\cos \\theta_0 \\\\\n",
    "\\dot y &= s \\sin \\theta_0 \\\\\n",
    "\\dot \\theta_0 &= \\frac{s}{L} \\tan \\phi \\\\\n",
    "\\dot \\theta_1 &= \\frac{s}{d_1} \\sin(\\theta_1 - \\theta_0)\n",
    "\\end{align}"
   ]
  },
  {
   "cell_type": "markdown",
   "metadata": {},
   "source": [
    "# Preparing Lessons"
   ]
  },
  {
   "cell_type": "code",
   "execution_count": 2,
   "metadata": {},
   "outputs": [],
   "source": [
    "def create_lesson_configs(num_lessons):\n",
    "    configs = {}\n",
    "\n",
    "    first_lesson = {\"θ0_range\": (0, 10),\n",
    "                    \"Δθ1_range\": (-10, 10),\n",
    "                    \"x_range\": (10, 10),\n",
    "                    \"y_range\": (-2, 2)}\n",
    "    \n",
    "    final_lesson = {\"θ0_range\": (0, 120),\n",
    "                    \"Δθ1_range\": (-45, 45),\n",
    "                    \"x_range\": (10, 35),\n",
    "                    \"y_range\": (-7, 7)}\n",
    "\n",
    "    x_min = first_lesson[\"x_range\"][0]\n",
    "\n",
    "    for i in range(1, num_lessons + 1):\n",
    "\n",
    "        θ0_max = first_lesson[\"θ0_range\"][1] + (final_lesson[\"θ0_range\"][1] - \n",
    "                                                first_lesson[\"θ0_range\"][1]) * (i - 1) // (num_lessons - 1)\n",
    "        \n",
    "        Δθ1_max = first_lesson[\"Δθ1_range\"][1] + (final_lesson[\"Δθ1_range\"][1] - \n",
    "                                                  first_lesson[\"Δθ1_range\"][1]) * (i - 1) // (num_lessons - 1)\n",
    "        \n",
    "        x_max = first_lesson[\"x_range\"][1] + (final_lesson[\"x_range\"][1] - \n",
    "                                              first_lesson[\"x_range\"][1]) * (i - 1) // (num_lessons - 1)\n",
    "        \n",
    "        y_max = first_lesson[\"y_range\"][1] + (final_lesson[\"y_range\"][1] - \n",
    "                                              first_lesson[\"y_range\"][1]) * (i - 1) // (num_lessons - 1)\n",
    "\n",
    "        configs[i] = {\"θ0_range\": (0, θ0_max),\n",
    "                      \"Δθ1_range\": (-Δθ1_max, Δθ1_max),\n",
    "                      \"x_range\": (x_min, x_max),\n",
    "                      \"y_range\": (-y_max, y_max)}\n",
    "        x_min = x_max\n",
    "        \n",
    "    configs[num_lessons+1] = final_lesson\n",
    "    return configs\n",
    "\n",
    "LESSON_CONFIGS = create_lesson_configs(num_lessons)"
   ]
  },
  {
   "cell_type": "markdown",
   "metadata": {},
   "source": [
    "# Initializing Truck"
   ]
  },
  {
   "cell_type": "code",
   "execution_count": 3,
   "metadata": {},
   "outputs": [],
   "source": [
    "class Truck:\n",
    "    def __init__(self, lesson, display=False):\n",
    "\n",
    "        self.W = 1 \n",
    "        self.L = 1 * self.W \n",
    "        self.d = 4 * self.L \n",
    "        self.s = -0.1  \n",
    "        self.display = display\n",
    "        self.lesson = lesson\n",
    "        \n",
    "        self.box = [0, 40, -10, 10]\n",
    "        if self.display:\n",
    "            self.f = figure(figsize=(6, 3), num='The Truck Backer-Upper', facecolor='none')\n",
    "            self.ax = self.f.add_axes([0.01, 0.01, 0.98, 0.98], facecolor='black')\n",
    "            self.patches = list()\n",
    "            \n",
    "            self.ax.axis('equal')\n",
    "            b = self.box\n",
    "            self.ax.axis([b[0] - 1, b[1], b[2], b[3]])\n",
    "            self.ax.set_xticks([]); self.ax.set_yticks([])\n",
    "            self.ax.axhline(); self.ax.axvline()\n",
    "            \n",
    "    def reset(self, ϕ=0):\n",
    "        self.ϕ = ϕ \n",
    "        config = LESSON_CONFIGS.get(self.lesson)\n",
    "        \n",
    "        if config is None: \n",
    "            raise ValueError(f\"No configuration found for lesson {self.lesson}\")       \n",
    "            \n",
    "        self.θ0 = deg2rad(uniform(*config[\"θ0_range\"]))\n",
    "        self.θ1 = deg2rad(uniform(*config[\"Δθ1_range\"])) + self.θ0\n",
    "        self.x = uniform(*config[\"x_range\"])\n",
    "        self.y = uniform(*config[\"y_range\"])      \n",
    "        \n",
    "        # If poorly initialise, then re-initialise\n",
    "        if not self.valid():\n",
    "            self.reset(ϕ)\n",
    "        \n",
    "        # Draw, if display is True\n",
    "        if self.display: \n",
    "            self.draw()        \n",
    "    \n",
    "    def step(self, ϕ=0, dt=1):\n",
    "        \n",
    "        # Check for illegal conditions\n",
    "        if self.is_jackknifed():\n",
    "            print('The truck is jackknifed!')\n",
    "            return\n",
    "        \n",
    "        if self.is_offscreen():\n",
    "            print('The car or trailer is off screen')\n",
    "            return\n",
    "        \n",
    "        self.ϕ = ϕ\n",
    "        x, y, W, L, d, s, θ0, θ1, ϕ = self._get_atributes()\n",
    "        \n",
    "        # Perform state update\n",
    "        self.x += s * cos(θ0) * dt\n",
    "        self.y += s * sin(θ0) * dt\n",
    "        self.θ0 += s / L * tan(ϕ) * dt\n",
    "        self.θ1 += s / d * sin(θ0 - θ1) * dt   \n",
    "                        \n",
    "        return (self.x, self.y, self.θ0, *self._trailer_xy(), self.θ1)\n",
    "    \n",
    "    def state(self):\n",
    "        return (self.x, self.y, self.θ0, *self._trailer_xy(), self.θ1)\n",
    "    \n",
    "    def _get_atributes(self):\n",
    "        return (\n",
    "            self.x, self.y, self.W, self.L, self.d, self.s,\n",
    "            self.θ0, self.θ1, self.ϕ\n",
    "        )\n",
    "    \n",
    "    def _trailer_xy(self):\n",
    "        x, y, W, L, d, s, θ0, θ1, ϕ = self._get_atributes()\n",
    "        return x - d * cos(θ1), y - d * sin(θ1)\n",
    "        \n",
    "    def is_jackknifed(self):\n",
    "        x, y, W, L, d, s, θ0, θ1, ϕ = self._get_atributes()\n",
    "        angle_diff_rad = abs(θ0 - θ1)\n",
    "        angle_diff_deg = rad2deg(angle_diff_rad)\n",
    "        return angle_diff_deg > 90\n",
    "    \n",
    "    def is_offscreen(self):\n",
    "        x, y, W, L, d, s, θ0, θ1, ϕ = self._get_atributes()\n",
    "        \n",
    "        x1, y1 = x + 1.5 * L * cos(θ0), y + 1.5 * L * sin(θ0)\n",
    "        x2, y2 = self._trailer_xy()\n",
    "        \n",
    "        b = self.box\n",
    "        return not (\n",
    "            b[0] <= x1 <= b[1] and b[2] <= y1 <= b[3] and\n",
    "            b[0] <= x2 <= b[1] and b[2] <= y2 <= b[3]\n",
    "        )\n",
    "        \n",
    "    def valid(self):\n",
    "        return not self.is_jackknifed() and not self.is_offscreen()\n",
    "        \n",
    "    def draw(self):\n",
    "        if not self.display: return\n",
    "        if self.patches: self.clear()\n",
    "        self._draw_car()\n",
    "        self._draw_trailer()\n",
    "        self.f.canvas.draw()\n",
    "            \n",
    "    def clear(self):\n",
    "        for p in self.patches:\n",
    "            p.remove()\n",
    "        self.patches = list()\n",
    "        \n",
    "    def _draw_car(self):\n",
    "        x, y, W, L, d, s, θ0, θ1, ϕ = self._get_atributes()\n",
    "\n",
    "        ax = self.ax\n",
    "        \n",
    "        x1, y1 = x + L / 2 * cos(θ0), y + L / 2 * sin(θ0)\n",
    "        bar = Line2D((x, x1), (y, y1), lw=5, color='C2', alpha=1)\n",
    "        ax.add_line(bar)\n",
    "\n",
    "        car = Rectangle(\n",
    "            (x1, y1 - W / 2), L, W, 0, color='C2', alpha=1, transform=\n",
    "            matplotlib.transforms.Affine2D().rotate_deg_around(x1, y1, rad2deg(θ0)) +\n",
    "            ax.transData\n",
    "        )\n",
    "        ax.add_patch(car)\n",
    "\n",
    "        x2, y2 = x1 + L / 2 ** 0.5 * cos(θ0 + π / 4), y1 + L / 2 ** 0.5 * sin(θ0 + π / 4)\n",
    "        left_wheel = Line2D(\n",
    "            (x2 - L / 4 * cos(θ0 + ϕ), x2 + L / 4 * cos(θ0 + ϕ)),\n",
    "            (y2 - L / 4 * sin(θ0 + ϕ), y2 + L / 4 * sin(θ0 + ϕ)),\n",
    "            lw=3, color='C5', alpha=1)\n",
    "        ax.add_line(left_wheel)\n",
    "\n",
    "        x3, y3 = x1 + L / 2 ** 0.5 * cos(π / 4 - θ0), y1 - L / 2 ** 0.5 * sin(π / 4 - θ0)\n",
    "        right_wheel = Line2D(\n",
    "            (x3 - L / 4 * cos(θ0 + ϕ), x3 + L / 4 * cos(θ0 + ϕ)),\n",
    "            (y3 - L / 4 * sin(θ0 + ϕ), y3 + L / 4 * sin(θ0 + ϕ)),\n",
    "            lw=3, color='C5', alpha=1)\n",
    "        ax.add_line(right_wheel)\n",
    "        \n",
    "        self.patches += [car, bar, left_wheel, right_wheel]\n",
    "        \n",
    "    def _draw_trailer(self):\n",
    "        x, y, W, L, d, s, θ0, θ1, ϕ = self._get_atributes()    \n",
    "        ax = self.ax\n",
    "             \n",
    "        x, y = x - d * cos(θ1), y - d * sin(θ1) - W / 2\n",
    "        trailer = Rectangle(\n",
    "            (x, y), d, W, 0, color='C0', alpha=1, transform =\n",
    "            matplotlib.transforms.Affine2D().rotate_deg_around(x, y + W/2, rad2deg(θ1)) +\n",
    "            ax.transData\n",
    "        )\n",
    "        ax.add_patch(trailer)\n",
    "        \n",
    "        self.patches += [trailer]\n",
    "        \n",
    "    def update_state(self, state): \n",
    "        self.ϕ, self.x, self.y, self.θ0, _, _, self.θ1 = state.tolist()"
   ]
  },
  {
   "cell_type": "markdown",
   "metadata": {},
   "source": [
    "# Defining Functions to Train Emulator and Controller"
   ]
  },
  {
   "cell_type": "code",
   "execution_count": 4,
   "metadata": {},
   "outputs": [],
   "source": [
    "def generate_random_deg(mean, std, scale_lower, scale_upper): \n",
    "    random_num = np.random.normal(loc = mean, scale = std)\n",
    "    random_num_scaled = np.clip(random_num, scale_lower, scale_upper)\n",
    "    return random_num_scaled"
   ]
  },
  {
   "cell_type": "code",
   "execution_count": 5,
   "metadata": {},
   "outputs": [],
   "source": [
    "def initialize_emulator(): \n",
    "    emulator = nn.Sequential(\n",
    "        nn.Linear(7, 100),\n",
    "        nn.GELU(),\n",
    "        nn.Linear(100, 100),\n",
    "        nn.GELU(),\n",
    "        nn.Linear(100, 6)\n",
    "    )\n",
    "\n",
    "    torch.save(emulator, 'models/emulators/emulator_lesson_0.pth')\n",
    "    return emulator\n",
    "\n",
    "\n",
    "def initialize_controller():\n",
    "    controller = nn.Sequential( \n",
    "        nn.Linear(7, 50),\n",
    "        nn.Tanh(),\n",
    "        nn.Linear(50, 1)\n",
    "    )\n",
    "          \n",
    "    torch.save(controller, 'models/controllers/controller_lesson_0.pth')\n",
    "    return controller"
   ]
  },
  {
   "cell_type": "code",
   "execution_count": 6,
   "metadata": {},
   "outputs": [],
   "source": [
    "criterion_emulator = nn.MSELoss()  \n",
    "\n",
    "def criterion_controller(ϕ_state, step):\n",
    "    _, _, _, θ0, x, y, θ1 = ϕ_state \n",
    "    angle_diff_rad = torch.abs(θ1 - θ0)\n",
    "    angle_diff_deg = torch.rad2deg(angle_diff_rad)\n",
    "    angle_diff_relu = nn.functional.relu((angle_diff_deg - 30)/30)\n",
    "    x_relu = nn.functional.relu(x)\n",
    "    min_θ1 = torch.min(torch.abs(θ1), torch.abs(torch.abs(θ1) - torch.deg2rad(torch.tensor(360.0))))\n",
    "    part1 = x_relu + torch.abs(y) + min_θ1\n",
    "    part2 = (x_relu**2 + y**2 + min_θ1**2 + angle_diff_relu**2 + step * 0.01)\n",
    "    return -torch.log(1 / (part1 * part2))"
   ]
  },
  {
   "cell_type": "code",
   "execution_count": 7,
   "metadata": {
    "scrolled": true
   },
   "outputs": [],
   "source": [
    "def train_emulator(emulator, \n",
    "                   episodes, \n",
    "                   learning_rate, \n",
    "                   lesson, \n",
    "                   wandb_log = False):\n",
    "    \n",
    "    if wandb_log:\n",
    "        wandb.init(project='emulator-training', save_code = True, name=f'lesson_{lesson}_run_{current_time}')\n",
    "        \n",
    "    inputs = list()\n",
    "    outputs = list()\n",
    "    truck = Truck(lesson)\n",
    "    for episode in tqdm(range(episodes)):\n",
    "        truck.reset()\n",
    "        while truck.valid():\n",
    "            initial_state = truck.state()\n",
    "            random_deg = generate_random_deg(mean = 0, \n",
    "                                             std = 35, \n",
    "                                             scale_lower = -70, \n",
    "                                             scale_upper = 70)\n",
    "            ϕ = deg2rad(random_deg)\n",
    "            inputs.append((ϕ, *initial_state))\n",
    "            outputs.append(truck.step(ϕ))\n",
    "            \n",
    "    tensor_inputs = torch.Tensor(inputs)\n",
    "    tensor_outputs = torch.Tensor(outputs)\n",
    "    \n",
    "    test_size = int(len(tensor_inputs) * 0.8)\n",
    "    \n",
    "    train_inputs = tensor_inputs[:test_size]\n",
    "    train_outputs = tensor_outputs[:test_size]\n",
    "    \n",
    "    test_inputs = tensor_inputs[test_size:]\n",
    "    test_outputs = tensor_outputs[test_size:]\n",
    "    \n",
    "    print(\"Train Size:\", len(train_inputs))\n",
    "    print(\"Test Size:\", len(test_inputs))\n",
    "    \n",
    "    optimizer = torch.optim.Adam(emulator.parameters(), lr=learning_rate)\n",
    "    \n",
    "    global_step = 0\n",
    "    for i in torch.randperm(len(train_inputs)):\n",
    "        ϕ_state = train_inputs[i]\n",
    "        \n",
    "        next_state_prediction = emulator(ϕ_state)\n",
    "        next_state = train_outputs[i]\n",
    "        \n",
    "        optimizer.zero_grad()\n",
    "        \n",
    "        loss = criterion_emulator(next_state_prediction, next_state)\n",
    "        loss.backward()\n",
    "        \n",
    "        if wandb_log:\n",
    "            wandb.log({'train_loss': loss.item(),\n",
    "                       'gradients': {name: param.grad.norm().item() for name, param in emulator.named_parameters() if param.grad is not None}}, step=global_step)\n",
    "        \n",
    "        optimizer.step()\n",
    "        global_step += 1\n",
    "\n",
    "    with torch.no_grad():\n",
    "        total_loss = 0\n",
    "        for j in range(len(test_inputs)):\n",
    "            ϕ_state = test_inputs[j]\n",
    "            next_state = test_outputs[j]\n",
    "            \n",
    "            next_state_prediction = emulator(ϕ_state)\n",
    "            \n",
    "            loss = criterion_emulator(next_state_prediction, next_state)\n",
    "            total_loss += loss.item()\n",
    "            \n",
    "            if wandb_log:\n",
    "                wandb.log({'test_loss': loss.item()}, step = global_step)\n",
    "                \n",
    "            global_step += 1\n",
    "\n",
    "    test_size = len(test_inputs)\n",
    "    avg_test_loss = total_loss / test_size\n",
    "    \n",
    "    print()\n",
    "    print(f'Test loss: {avg_test_loss:.10f}')\n",
    "    \n",
    "    torch.save(emulator, f'models/emulators/emulator_lesson_{lesson}.pth')\n",
    "    \n",
    "    if wandb_log:\n",
    "        wandb.finish()\n",
    "    \n",
    "    return emulator"
   ]
  },
  {
   "cell_type": "code",
   "execution_count": 8,
   "metadata": {
    "scrolled": true
   },
   "outputs": [],
   "source": [
    "def train_controller(lesson, \n",
    "                     controller, \n",
    "                     epochs, \n",
    "                     max_steps,\n",
    "                     wandb_log = False,\n",
    "                     save_computational_graph = False,\n",
    "                     learning_rate = 0.0001):\n",
    "      \n",
    "    if wandb_log: \n",
    "        wandb.init(project='controller-training', save_code = True, name=f'lesson_{lesson}_run_{current_time}')\n",
    "      \n",
    "    emulator = torch.load('models/emulators/emulator_lesson_{}.pth'.format(lesson), weights_only=False)\n",
    "    optimizer = torch.optim.Adam(controller.parameters(), lr=learning_rate, weight_decay=0.0001)\n",
    "    scheduler = torch.optim.lr_scheduler.StepLR(optimizer, step_size=1000, gamma=0.9)\n",
    "    truck = Truck(lesson, display=False)\n",
    "    \n",
    "    for i in tqdm(range(epochs)):\n",
    "        truck.reset()\n",
    "        random_deg = generate_random_deg(mean = 0, \n",
    "                                         std = 70, \n",
    "                                         scale_lower = -70, \n",
    "                                         scale_upper = 70)\n",
    "        ϕ = deg2rad(random_deg)\n",
    "        state = truck.state()\n",
    "        ϕ_state = torch.cat((torch.tensor([ϕ], dtype=torch.float32), \n",
    "                             torch.tensor(state, dtype=torch.float32))) \n",
    "        step = torch.tensor(0.0)\n",
    "        \n",
    "        while step <= max_steps and truck.valid():\n",
    "            ϕ_prediction = controller(ϕ_state)\n",
    "            next_state_prediction = emulator(ϕ_state)\n",
    "            ϕ_state = torch.cat((ϕ_prediction, next_state_prediction))\n",
    "            truck.update_state(ϕ_state)\n",
    "            step += 1\n",
    "        \n",
    "        optimizer.zero_grad()\n",
    "        loss = criterion_controller(ϕ_state, step)\n",
    "        loss.backward()\n",
    "        \n",
    "        torch.nn.utils.clip_grad_norm_(parameters = controller.parameters(),               \n",
    "                                       max_norm = 1, \n",
    "                                       error_if_nonfinite = True)        \n",
    "        \n",
    "        if wandb_log:\n",
    "            wandb.log({'loss': loss.item(),\n",
    "                       'gradients': {name: param.grad.norm().item() for name, param in controller.named_parameters() if param.grad is not None}}, step=i)\n",
    "\n",
    "        \n",
    "        if save_computational_graph and i == 0 and lesson == 1: \n",
    "            dot = make_dot(loss, params=dict(controller.named_parameters()))\n",
    "            dot.format = 'png'\n",
    "            dot.render('computational-graphs/controller_computational_graph')\n",
    "        \n",
    "        optimizer.step()\n",
    "        scheduler.step()\n",
    "        \n",
    "        if i % 100 == 0:\n",
    "            torch.save(controller, 'models/controllers/controller_lesson_{}.pth'.format(lesson))\n",
    "            loss_value = loss.item()\n",
    "            print(f'{loss_value:.10f}')\n",
    "    \n",
    "    if wandb_log:\n",
    "        wandb.finish()\n",
    "            \n",
    "    return controller"
   ]
  },
  {
   "cell_type": "markdown",
   "metadata": {},
   "source": [
    "# Training Emulators"
   ]
  },
  {
   "cell_type": "code",
   "execution_count": 9,
   "metadata": {},
   "outputs": [],
   "source": [
    "!rm -r models/emulators\n",
    "!mkdir models/emulators"
   ]
  },
  {
   "cell_type": "code",
   "execution_count": 10,
   "metadata": {
    "scrolled": true
   },
   "outputs": [
    {
     "name": "stdout",
     "output_type": "stream",
     "text": [
      " Lesson 1:\n"
     ]
    },
    {
     "name": "stderr",
     "output_type": "stream",
     "text": [
      "100%|████████████████████████████████████| 10000/10000 [00:10<00:00, 934.88it/s]\n"
     ]
    },
    {
     "name": "stdout",
     "output_type": "stream",
     "text": [
      "Train Size: 512283\n",
      "Test Size: 128071\n",
      "\n",
      "Test loss: 0.0003104712\n",
      "\n",
      " Lesson 2:\n"
     ]
    },
    {
     "name": "stderr",
     "output_type": "stream",
     "text": [
      "100%|████████████████████████████████████| 10000/10000 [00:11<00:00, 892.03it/s]\n"
     ]
    },
    {
     "name": "stdout",
     "output_type": "stream",
     "text": [
      "Train Size: 556455\n",
      "Test Size: 139114\n",
      "\n",
      "Test loss: 0.0003117172\n",
      "\n",
      " Lesson 3:\n"
     ]
    },
    {
     "name": "stderr",
     "output_type": "stream",
     "text": [
      "100%|████████████████████████████████████| 10000/10000 [00:12<00:00, 813.57it/s]\n"
     ]
    },
    {
     "name": "stdout",
     "output_type": "stream",
     "text": [
      "Train Size: 610116\n",
      "Test Size: 152529\n",
      "\n",
      "Test loss: 0.0001782809\n",
      "\n",
      " Lesson 4:\n"
     ]
    },
    {
     "name": "stderr",
     "output_type": "stream",
     "text": [
      "100%|████████████████████████████████████| 10000/10000 [00:12<00:00, 793.56it/s]\n"
     ]
    },
    {
     "name": "stdout",
     "output_type": "stream",
     "text": [
      "Train Size: 617266\n",
      "Test Size: 154317\n",
      "\n",
      "Test loss: 0.0001499343\n",
      "\n",
      " Lesson 5:\n"
     ]
    },
    {
     "name": "stderr",
     "output_type": "stream",
     "text": [
      "100%|████████████████████████████████████| 10000/10000 [00:11<00:00, 856.94it/s]\n"
     ]
    },
    {
     "name": "stdout",
     "output_type": "stream",
     "text": [
      "Train Size: 587661\n",
      "Test Size: 146916\n",
      "\n",
      "Test loss: 0.0001505527\n",
      "\n",
      " Lesson 6:\n"
     ]
    },
    {
     "name": "stderr",
     "output_type": "stream",
     "text": [
      "100%|████████████████████████████████████| 10000/10000 [00:11<00:00, 871.98it/s]\n"
     ]
    },
    {
     "name": "stdout",
     "output_type": "stream",
     "text": [
      "Train Size: 566728\n",
      "Test Size: 141682\n",
      "\n",
      "Test loss: 0.0002209881\n",
      "\n",
      " Lesson 7:\n"
     ]
    },
    {
     "name": "stderr",
     "output_type": "stream",
     "text": [
      "100%|████████████████████████████████████| 10000/10000 [00:10<00:00, 924.75it/s]\n"
     ]
    },
    {
     "name": "stdout",
     "output_type": "stream",
     "text": [
      "Train Size: 533597\n",
      "Test Size: 133400\n",
      "\n",
      "Test loss: 0.0001424523\n",
      "\n",
      " Lesson 8:\n"
     ]
    },
    {
     "name": "stderr",
     "output_type": "stream",
     "text": [
      "100%|████████████████████████████████████| 10000/10000 [00:10<00:00, 951.68it/s]\n"
     ]
    },
    {
     "name": "stdout",
     "output_type": "stream",
     "text": [
      "Train Size: 507425\n",
      "Test Size: 126857\n",
      "\n",
      "Test loss: 0.0001385444\n",
      "\n",
      " Lesson 9:\n"
     ]
    },
    {
     "name": "stderr",
     "output_type": "stream",
     "text": [
      "100%|███████████████████████████████████| 10000/10000 [00:09<00:00, 1049.04it/s]\n"
     ]
    },
    {
     "name": "stdout",
     "output_type": "stream",
     "text": [
      "Train Size: 472823\n",
      "Test Size: 118206\n",
      "\n",
      "Test loss: 0.0002466074\n",
      "\n",
      " Lesson 10:\n"
     ]
    },
    {
     "name": "stderr",
     "output_type": "stream",
     "text": [
      "100%|███████████████████████████████████| 10000/10000 [00:08<00:00, 1138.20it/s]\n"
     ]
    },
    {
     "name": "stdout",
     "output_type": "stream",
     "text": [
      "Train Size: 442325\n",
      "Test Size: 110582\n",
      "\n",
      "Test loss: 0.0001775543\n",
      "\n",
      " Lesson 11:\n"
     ]
    },
    {
     "name": "stderr",
     "output_type": "stream",
     "text": [
      "100%|███████████████████████████████████| 10000/10000 [00:09<00:00, 1096.79it/s]\n"
     ]
    },
    {
     "name": "stdout",
     "output_type": "stream",
     "text": [
      "Train Size: 451093\n",
      "Test Size: 112774\n",
      "\n",
      "Test loss: 0.0001582910\n",
      "\n"
     ]
    }
   ],
   "source": [
    "emulator = initialize_emulator()\n",
    "\n",
    "for lesson in range(1, num_lessons + 2): \n",
    "    print(\" Lesson {}:\".format(lesson))\n",
    "    emulator = train_emulator(lesson = lesson,\n",
    "                              emulator = emulator, \n",
    "                              episodes = 10_000,\n",
    "                              learning_rate = 0.00001)\n",
    "    print()"
   ]
  },
  {
   "cell_type": "markdown",
   "metadata": {},
   "source": [
    " # Training Controllers"
   ]
  },
  {
   "cell_type": "code",
   "execution_count": 11,
   "metadata": {},
   "outputs": [],
   "source": [
    "!rm -rf models/controllers\n",
    "!mkdir models/controllers"
   ]
  },
  {
   "cell_type": "code",
   "execution_count": 12,
   "metadata": {
    "scrolled": true
   },
   "outputs": [
    {
     "name": "stdout",
     "output_type": "stream",
     "text": [
      " Lesson 1:\n"
     ]
    },
    {
     "name": "stderr",
     "output_type": "stream",
     "text": [
      "\r",
      "  0%|                                                  | 0/3000 [00:00<?, ?it/s]"
     ]
    },
    {
     "name": "stdout",
     "output_type": "stream",
     "text": [
      "5.0562877655\n"
     ]
    },
    {
     "name": "stderr",
     "output_type": "stream",
     "text": [
      "  4%|█▌                                      | 113/3000 [00:01<00:37, 78.01it/s]"
     ]
    },
    {
     "name": "stdout",
     "output_type": "stream",
     "text": [
      "2.4743862152\n"
     ]
    },
    {
     "name": "stderr",
     "output_type": "stream",
     "text": [
      "  7%|██▊                                     | 214/3000 [00:02<00:40, 69.41it/s]"
     ]
    },
    {
     "name": "stdout",
     "output_type": "stream",
     "text": [
      "3.0198242664\n"
     ]
    },
    {
     "name": "stderr",
     "output_type": "stream",
     "text": [
      " 11%|████▏                                   | 316/3000 [00:04<00:35, 75.41it/s]"
     ]
    },
    {
     "name": "stdout",
     "output_type": "stream",
     "text": [
      "3.0281717777\n"
     ]
    },
    {
     "name": "stderr",
     "output_type": "stream",
     "text": [
      " 14%|█████▌                                  | 414/3000 [00:05<00:34, 74.21it/s]"
     ]
    },
    {
     "name": "stdout",
     "output_type": "stream",
     "text": [
      "2.5019590855\n"
     ]
    },
    {
     "name": "stderr",
     "output_type": "stream",
     "text": [
      " 17%|██████▊                                 | 511/3000 [00:06<00:32, 77.35it/s]"
     ]
    },
    {
     "name": "stdout",
     "output_type": "stream",
     "text": [
      "1.8523361683\n"
     ]
    },
    {
     "name": "stderr",
     "output_type": "stream",
     "text": [
      " 20%|████████▏                               | 611/3000 [00:08<00:29, 80.07it/s]"
     ]
    },
    {
     "name": "stdout",
     "output_type": "stream",
     "text": [
      "0.3466370702\n"
     ]
    },
    {
     "name": "stderr",
     "output_type": "stream",
     "text": [
      " 24%|█████████▍                              | 711/3000 [00:09<00:29, 77.30it/s]"
     ]
    },
    {
     "name": "stdout",
     "output_type": "stream",
     "text": [
      "-0.9925630689\n"
     ]
    },
    {
     "name": "stderr",
     "output_type": "stream",
     "text": [
      " 27%|██████████▊                             | 810/3000 [00:10<00:28, 77.96it/s]"
     ]
    },
    {
     "name": "stdout",
     "output_type": "stream",
     "text": [
      "3.2282958031\n"
     ]
    },
    {
     "name": "stderr",
     "output_type": "stream",
     "text": [
      " 30%|████████████▏                           | 914/3000 [00:12<00:27, 74.95it/s]"
     ]
    },
    {
     "name": "stdout",
     "output_type": "stream",
     "text": [
      "2.0263047218\n"
     ]
    },
    {
     "name": "stderr",
     "output_type": "stream",
     "text": [
      " 34%|█████████████                          | 1009/3000 [00:13<00:26, 74.54it/s]"
     ]
    },
    {
     "name": "stdout",
     "output_type": "stream",
     "text": [
      "1.3354228735\n"
     ]
    },
    {
     "name": "stderr",
     "output_type": "stream",
     "text": [
      " 37%|██████████████▍                        | 1110/3000 [00:14<00:24, 77.01it/s]"
     ]
    },
    {
     "name": "stdout",
     "output_type": "stream",
     "text": [
      "-1.1798530817\n"
     ]
    },
    {
     "name": "stderr",
     "output_type": "stream",
     "text": [
      " 40%|███████████████▋                       | 1211/3000 [00:15<00:22, 78.62it/s]"
     ]
    },
    {
     "name": "stdout",
     "output_type": "stream",
     "text": [
      "0.2927203774\n"
     ]
    },
    {
     "name": "stderr",
     "output_type": "stream",
     "text": [
      " 44%|█████████████████                      | 1310/3000 [00:17<00:20, 81.49it/s]"
     ]
    },
    {
     "name": "stdout",
     "output_type": "stream",
     "text": [
      "-1.8992778063\n"
     ]
    },
    {
     "name": "stderr",
     "output_type": "stream",
     "text": [
      " 47%|██████████████████▎                    | 1409/3000 [00:18<00:19, 81.56it/s]"
     ]
    },
    {
     "name": "stdout",
     "output_type": "stream",
     "text": [
      "1.1419589520\n"
     ]
    },
    {
     "name": "stderr",
     "output_type": "stream",
     "text": [
      " 51%|███████████████████▋                   | 1517/3000 [00:19<00:17, 82.72it/s]"
     ]
    },
    {
     "name": "stdout",
     "output_type": "stream",
     "text": [
      "-2.8405566216\n"
     ]
    },
    {
     "name": "stderr",
     "output_type": "stream",
     "text": [
      " 54%|█████████████████████                  | 1616/3000 [00:20<00:17, 80.51it/s]"
     ]
    },
    {
     "name": "stdout",
     "output_type": "stream",
     "text": [
      "0.1786063015\n"
     ]
    },
    {
     "name": "stderr",
     "output_type": "stream",
     "text": [
      " 57%|██████████████████████▎                | 1714/3000 [00:22<00:16, 77.47it/s]"
     ]
    },
    {
     "name": "stdout",
     "output_type": "stream",
     "text": [
      "1.6420860291\n"
     ]
    },
    {
     "name": "stderr",
     "output_type": "stream",
     "text": [
      " 60%|███████████████████████▌               | 1815/3000 [00:23<00:14, 80.05it/s]"
     ]
    },
    {
     "name": "stdout",
     "output_type": "stream",
     "text": [
      "-1.7451831102\n"
     ]
    },
    {
     "name": "stderr",
     "output_type": "stream",
     "text": [
      " 64%|████████████████████████▉              | 1914/3000 [00:24<00:13, 81.61it/s]"
     ]
    },
    {
     "name": "stdout",
     "output_type": "stream",
     "text": [
      "1.8709260225\n"
     ]
    },
    {
     "name": "stderr",
     "output_type": "stream",
     "text": [
      " 67%|██████████████████████████▏            | 2012/3000 [00:25<00:12, 81.50it/s]"
     ]
    },
    {
     "name": "stdout",
     "output_type": "stream",
     "text": [
      "2.0470933914\n"
     ]
    },
    {
     "name": "stderr",
     "output_type": "stream",
     "text": [
      " 70%|███████████████████████████▍           | 2111/3000 [00:26<00:10, 81.57it/s]"
     ]
    },
    {
     "name": "stdout",
     "output_type": "stream",
     "text": [
      "-0.1797293127\n"
     ]
    },
    {
     "name": "stderr",
     "output_type": "stream",
     "text": [
      " 74%|████████████████████████████▋          | 2210/3000 [00:28<00:09, 81.85it/s]"
     ]
    },
    {
     "name": "stdout",
     "output_type": "stream",
     "text": [
      "-0.9768279195\n"
     ]
    },
    {
     "name": "stderr",
     "output_type": "stream",
     "text": [
      " 77%|██████████████████████████████         | 2309/3000 [00:29<00:08, 80.62it/s]"
     ]
    },
    {
     "name": "stdout",
     "output_type": "stream",
     "text": [
      "1.6988128424\n"
     ]
    },
    {
     "name": "stderr",
     "output_type": "stream",
     "text": [
      " 81%|███████████████████████████████▍       | 2417/3000 [00:30<00:07, 82.98it/s]"
     ]
    },
    {
     "name": "stdout",
     "output_type": "stream",
     "text": [
      "0.0621129014\n"
     ]
    },
    {
     "name": "stderr",
     "output_type": "stream",
     "text": [
      " 84%|████████████████████████████████▋      | 2510/3000 [00:31<00:06, 79.67it/s]"
     ]
    },
    {
     "name": "stdout",
     "output_type": "stream",
     "text": [
      "0.8492017388\n"
     ]
    },
    {
     "name": "stderr",
     "output_type": "stream",
     "text": [
      " 87%|█████████████████████████████████▉     | 2609/3000 [00:33<00:05, 74.78it/s]"
     ]
    },
    {
     "name": "stdout",
     "output_type": "stream",
     "text": [
      "0.0459635705\n"
     ]
    },
    {
     "name": "stderr",
     "output_type": "stream",
     "text": [
      " 90%|███████████████████████████████████▏   | 2709/3000 [00:34<00:03, 78.51it/s]"
     ]
    },
    {
     "name": "stdout",
     "output_type": "stream",
     "text": [
      "-1.6801342964\n"
     ]
    },
    {
     "name": "stderr",
     "output_type": "stream",
     "text": [
      " 94%|████████████████████████████████████▌  | 2811/3000 [00:35<00:02, 74.15it/s]"
     ]
    },
    {
     "name": "stdout",
     "output_type": "stream",
     "text": [
      "-0.5411517024\n"
     ]
    },
    {
     "name": "stderr",
     "output_type": "stream",
     "text": [
      " 97%|█████████████████████████████████████▉ | 2915/3000 [00:37<00:01, 72.79it/s]"
     ]
    },
    {
     "name": "stdout",
     "output_type": "stream",
     "text": [
      "0.4903275669\n"
     ]
    },
    {
     "name": "stderr",
     "output_type": "stream",
     "text": [
      "100%|███████████████████████████████████████| 3000/3000 [00:38<00:00, 78.14it/s]\n"
     ]
    },
    {
     "name": "stdout",
     "output_type": "stream",
     "text": [
      "\n",
      " Lesson 2:\n"
     ]
    },
    {
     "name": "stderr",
     "output_type": "stream",
     "text": [
      "  0%|                                          | 5/3000 [00:00<01:42, 29.11it/s]"
     ]
    },
    {
     "name": "stdout",
     "output_type": "stream",
     "text": [
      "6.4126472473\n"
     ]
    },
    {
     "name": "stderr",
     "output_type": "stream",
     "text": [
      "  4%|█▍                                      | 109/3000 [00:02<00:49, 58.19it/s]"
     ]
    },
    {
     "name": "stdout",
     "output_type": "stream",
     "text": [
      "0.1888314486\n"
     ]
    },
    {
     "name": "stderr",
     "output_type": "stream",
     "text": [
      "  7%|██▋                                     | 205/3000 [00:03<01:00, 46.09it/s]"
     ]
    },
    {
     "name": "stdout",
     "output_type": "stream",
     "text": [
      "0.4368452132\n"
     ]
    },
    {
     "name": "stderr",
     "output_type": "stream",
     "text": [
      " 10%|████▏                                   | 310/3000 [00:05<00:46, 58.01it/s]"
     ]
    },
    {
     "name": "stdout",
     "output_type": "stream",
     "text": [
      "-0.4845378995\n"
     ]
    },
    {
     "name": "stderr",
     "output_type": "stream",
     "text": [
      " 14%|█████▍                                  | 409/3000 [00:07<00:45, 57.46it/s]"
     ]
    },
    {
     "name": "stdout",
     "output_type": "stream",
     "text": [
      "0.8232285976\n"
     ]
    },
    {
     "name": "stderr",
     "output_type": "stream",
     "text": [
      " 17%|██████▋                                 | 506/3000 [00:09<00:49, 50.75it/s]"
     ]
    },
    {
     "name": "stdout",
     "output_type": "stream",
     "text": [
      "6.7700462341\n"
     ]
    },
    {
     "name": "stderr",
     "output_type": "stream",
     "text": [
      " 20%|████████                                | 609/3000 [00:11<00:42, 56.06it/s]"
     ]
    },
    {
     "name": "stdout",
     "output_type": "stream",
     "text": [
      "-0.2521273196\n"
     ]
    },
    {
     "name": "stderr",
     "output_type": "stream",
     "text": [
      " 24%|█████████▍                              | 709/3000 [00:12<00:37, 60.63it/s]"
     ]
    },
    {
     "name": "stdout",
     "output_type": "stream",
     "text": [
      "-0.7302714586\n"
     ]
    },
    {
     "name": "stderr",
     "output_type": "stream",
     "text": [
      " 27%|██████████▋                             | 805/3000 [00:14<00:35, 61.11it/s]"
     ]
    },
    {
     "name": "stdout",
     "output_type": "stream",
     "text": [
      "2.8179531097\n"
     ]
    },
    {
     "name": "stderr",
     "output_type": "stream",
     "text": [
      " 30%|████████████                            | 905/3000 [00:16<00:36, 58.08it/s]"
     ]
    },
    {
     "name": "stdout",
     "output_type": "stream",
     "text": [
      "-1.7901456356\n"
     ]
    },
    {
     "name": "stderr",
     "output_type": "stream",
     "text": [
      " 34%|█████████████▏                         | 1013/3000 [00:17<00:32, 61.99it/s]"
     ]
    },
    {
     "name": "stdout",
     "output_type": "stream",
     "text": [
      "1.5843189955\n"
     ]
    },
    {
     "name": "stderr",
     "output_type": "stream",
     "text": [
      " 37%|██████████████▍                        | 1112/3000 [00:19<00:31, 59.89it/s]"
     ]
    },
    {
     "name": "stdout",
     "output_type": "stream",
     "text": [
      "-0.2901543677\n"
     ]
    },
    {
     "name": "stderr",
     "output_type": "stream",
     "text": [
      " 40%|███████████████▋                       | 1209/3000 [00:21<00:29, 60.07it/s]"
     ]
    },
    {
     "name": "stdout",
     "output_type": "stream",
     "text": [
      "-0.2692322731\n"
     ]
    },
    {
     "name": "stderr",
     "output_type": "stream",
     "text": [
      " 44%|████████████████▉                      | 1307/3000 [00:22<00:30, 55.49it/s]"
     ]
    },
    {
     "name": "stdout",
     "output_type": "stream",
     "text": [
      "-0.1629383862\n"
     ]
    },
    {
     "name": "stderr",
     "output_type": "stream",
     "text": [
      " 47%|██████████████████▎                    | 1407/3000 [00:24<00:30, 52.77it/s]"
     ]
    },
    {
     "name": "stdout",
     "output_type": "stream",
     "text": [
      "-0.7347108722\n"
     ]
    },
    {
     "name": "stderr",
     "output_type": "stream",
     "text": [
      " 50%|███████████████████▌                   | 1508/3000 [00:26<00:24, 59.92it/s]"
     ]
    },
    {
     "name": "stdout",
     "output_type": "stream",
     "text": [
      "-2.2886352539\n"
     ]
    },
    {
     "name": "stderr",
     "output_type": "stream",
     "text": [
      " 54%|████████████████████▉                  | 1607/3000 [00:27<00:21, 64.08it/s]"
     ]
    },
    {
     "name": "stdout",
     "output_type": "stream",
     "text": [
      "-1.6830983162\n"
     ]
    },
    {
     "name": "stderr",
     "output_type": "stream",
     "text": [
      " 57%|██████████████████████▏                | 1707/3000 [00:29<00:20, 62.10it/s]"
     ]
    },
    {
     "name": "stdout",
     "output_type": "stream",
     "text": [
      "-0.9471153021\n"
     ]
    },
    {
     "name": "stderr",
     "output_type": "stream",
     "text": [
      " 60%|███████████████████████▌               | 1812/3000 [00:31<00:19, 61.94it/s]"
     ]
    },
    {
     "name": "stdout",
     "output_type": "stream",
     "text": [
      "-0.7827417850\n"
     ]
    },
    {
     "name": "stderr",
     "output_type": "stream",
     "text": [
      " 64%|████████████████████████▊              | 1909/3000 [00:32<00:17, 61.60it/s]"
     ]
    },
    {
     "name": "stdout",
     "output_type": "stream",
     "text": [
      "-0.6838687658\n"
     ]
    },
    {
     "name": "stderr",
     "output_type": "stream",
     "text": [
      " 67%|██████████████████████████             | 2009/3000 [00:34<00:15, 62.20it/s]"
     ]
    },
    {
     "name": "stdout",
     "output_type": "stream",
     "text": [
      "-2.6693763733\n"
     ]
    },
    {
     "name": "stderr",
     "output_type": "stream",
     "text": [
      " 70%|███████████████████████████▍           | 2113/3000 [00:36<00:14, 60.51it/s]"
     ]
    },
    {
     "name": "stdout",
     "output_type": "stream",
     "text": [
      "-0.4762504697\n"
     ]
    },
    {
     "name": "stderr",
     "output_type": "stream",
     "text": [
      " 74%|████████████████████████████▋          | 2211/3000 [00:37<00:13, 60.46it/s]"
     ]
    },
    {
     "name": "stdout",
     "output_type": "stream",
     "text": [
      "2.0102052689\n"
     ]
    },
    {
     "name": "stderr",
     "output_type": "stream",
     "text": [
      " 77%|██████████████████████████████         | 2310/3000 [00:39<00:11, 62.12it/s]"
     ]
    },
    {
     "name": "stdout",
     "output_type": "stream",
     "text": [
      "-1.7669572830\n"
     ]
    },
    {
     "name": "stderr",
     "output_type": "stream",
     "text": [
      " 80%|███████████████████████████████▎       | 2410/3000 [00:41<00:09, 60.56it/s]"
     ]
    },
    {
     "name": "stdout",
     "output_type": "stream",
     "text": [
      "-2.4545910358\n"
     ]
    },
    {
     "name": "stderr",
     "output_type": "stream",
     "text": [
      " 84%|████████████████████████████████▌      | 2506/3000 [00:42<00:08, 59.74it/s]"
     ]
    },
    {
     "name": "stdout",
     "output_type": "stream",
     "text": [
      "-0.8586742878\n"
     ]
    },
    {
     "name": "stderr",
     "output_type": "stream",
     "text": [
      " 87%|█████████████████████████████████▉     | 2615/3000 [00:44<00:05, 66.14it/s]"
     ]
    },
    {
     "name": "stdout",
     "output_type": "stream",
     "text": [
      "-2.3107359409\n"
     ]
    },
    {
     "name": "stderr",
     "output_type": "stream",
     "text": [
      " 90%|███████████████████████████████████▏   | 2709/3000 [00:45<00:04, 65.24it/s]"
     ]
    },
    {
     "name": "stdout",
     "output_type": "stream",
     "text": [
      "-1.6266239882\n"
     ]
    },
    {
     "name": "stderr",
     "output_type": "stream",
     "text": [
      " 94%|████████████████████████████████████▍  | 2807/3000 [00:47<00:02, 68.26it/s]"
     ]
    },
    {
     "name": "stdout",
     "output_type": "stream",
     "text": [
      "0.0843521282\n"
     ]
    },
    {
     "name": "stderr",
     "output_type": "stream",
     "text": [
      " 97%|█████████████████████████████████████▊ | 2910/3000 [00:48<00:01, 67.45it/s]"
     ]
    },
    {
     "name": "stdout",
     "output_type": "stream",
     "text": [
      "-0.3988267779\n"
     ]
    },
    {
     "name": "stderr",
     "output_type": "stream",
     "text": [
      "100%|███████████████████████████████████████| 3000/3000 [00:50<00:00, 59.70it/s]\n"
     ]
    },
    {
     "name": "stdout",
     "output_type": "stream",
     "text": [
      "\n",
      " Lesson 3:\n"
     ]
    },
    {
     "name": "stderr",
     "output_type": "stream",
     "text": [
      "  0%|                                          | 6/3000 [00:00<01:01, 48.48it/s]"
     ]
    },
    {
     "name": "stdout",
     "output_type": "stream",
     "text": [
      "1.6324900389\n"
     ]
    },
    {
     "name": "stderr",
     "output_type": "stream",
     "text": [
      "  4%|█▍                                      | 108/3000 [00:02<00:52, 55.25it/s]"
     ]
    },
    {
     "name": "stdout",
     "output_type": "stream",
     "text": [
      "-0.6473845243\n"
     ]
    },
    {
     "name": "stderr",
     "output_type": "stream",
     "text": [
      "  7%|██▊                                     | 208/3000 [00:03<00:48, 57.39it/s]"
     ]
    },
    {
     "name": "stdout",
     "output_type": "stream",
     "text": [
      "6.6970009804\n"
     ]
    },
    {
     "name": "stderr",
     "output_type": "stream",
     "text": [
      " 10%|████▏                                   | 310/3000 [00:05<00:46, 58.44it/s]"
     ]
    },
    {
     "name": "stdout",
     "output_type": "stream",
     "text": [
      "-0.1375970244\n"
     ]
    },
    {
     "name": "stderr",
     "output_type": "stream",
     "text": [
      " 14%|█████▍                                  | 409/3000 [00:07<00:48, 53.13it/s]"
     ]
    },
    {
     "name": "stdout",
     "output_type": "stream",
     "text": [
      "-0.9097872376\n"
     ]
    },
    {
     "name": "stderr",
     "output_type": "stream",
     "text": [
      " 17%|██████▊                                 | 510/3000 [00:09<00:47, 52.60it/s]"
     ]
    },
    {
     "name": "stdout",
     "output_type": "stream",
     "text": [
      "-0.7075413465\n"
     ]
    },
    {
     "name": "stderr",
     "output_type": "stream",
     "text": [
      " 20%|████████                                | 608/3000 [00:11<00:41, 57.50it/s]"
     ]
    },
    {
     "name": "stdout",
     "output_type": "stream",
     "text": [
      "-0.1534819603\n"
     ]
    },
    {
     "name": "stderr",
     "output_type": "stream",
     "text": [
      " 24%|█████████▍                              | 712/3000 [00:13<00:43, 52.63it/s]"
     ]
    },
    {
     "name": "stdout",
     "output_type": "stream",
     "text": [
      "0.2371007204\n"
     ]
    },
    {
     "name": "stderr",
     "output_type": "stream",
     "text": [
      " 27%|██████████▋                             | 805/3000 [00:15<00:42, 51.32it/s]"
     ]
    },
    {
     "name": "stdout",
     "output_type": "stream",
     "text": [
      "-0.9400199056\n"
     ]
    },
    {
     "name": "stderr",
     "output_type": "stream",
     "text": [
      " 30%|████████████                            | 906/3000 [00:17<00:45, 46.53it/s]"
     ]
    },
    {
     "name": "stdout",
     "output_type": "stream",
     "text": [
      "-1.2914336920\n"
     ]
    },
    {
     "name": "stderr",
     "output_type": "stream",
     "text": [
      " 34%|█████████████▏                         | 1010/3000 [00:19<00:41, 47.68it/s]"
     ]
    },
    {
     "name": "stdout",
     "output_type": "stream",
     "text": [
      "-1.4623465538\n"
     ]
    },
    {
     "name": "stderr",
     "output_type": "stream",
     "text": [
      " 37%|██████████████▍                        | 1107/3000 [00:21<00:38, 49.05it/s]"
     ]
    },
    {
     "name": "stdout",
     "output_type": "stream",
     "text": [
      "-0.3396600783\n"
     ]
    },
    {
     "name": "stderr",
     "output_type": "stream",
     "text": [
      " 40%|███████████████▋                       | 1205/3000 [00:23<00:40, 44.22it/s]"
     ]
    },
    {
     "name": "stdout",
     "output_type": "stream",
     "text": [
      "0.5923147798\n"
     ]
    },
    {
     "name": "stderr",
     "output_type": "stream",
     "text": [
      " 44%|████████████████▉                      | 1306/3000 [00:25<00:36, 46.51it/s]"
     ]
    },
    {
     "name": "stdout",
     "output_type": "stream",
     "text": [
      "-1.1525573730\n"
     ]
    },
    {
     "name": "stderr",
     "output_type": "stream",
     "text": [
      " 47%|██████████████████▎                    | 1409/3000 [00:27<00:34, 46.37it/s]"
     ]
    },
    {
     "name": "stdout",
     "output_type": "stream",
     "text": [
      "-1.1807904243\n"
     ]
    },
    {
     "name": "stderr",
     "output_type": "stream",
     "text": [
      " 50%|███████████████████▌                   | 1508/3000 [00:29<00:33, 44.95it/s]"
     ]
    },
    {
     "name": "stdout",
     "output_type": "stream",
     "text": [
      "-0.9425747395\n"
     ]
    },
    {
     "name": "stderr",
     "output_type": "stream",
     "text": [
      " 54%|████████████████████▉                  | 1609/3000 [00:31<00:28, 48.28it/s]"
     ]
    },
    {
     "name": "stdout",
     "output_type": "stream",
     "text": [
      "-0.8107504845\n"
     ]
    },
    {
     "name": "stderr",
     "output_type": "stream",
     "text": [
      " 57%|██████████████████████▏                | 1710/3000 [00:34<00:27, 46.09it/s]"
     ]
    },
    {
     "name": "stdout",
     "output_type": "stream",
     "text": [
      "0.0985426828\n"
     ]
    },
    {
     "name": "stderr",
     "output_type": "stream",
     "text": [
      " 60%|███████████████████████▌               | 1810/3000 [00:36<00:23, 49.92it/s]"
     ]
    },
    {
     "name": "stdout",
     "output_type": "stream",
     "text": [
      "6.7249307632\n"
     ]
    },
    {
     "name": "stderr",
     "output_type": "stream",
     "text": [
      " 64%|████████████████████████▊              | 1909/3000 [00:38<00:23, 45.98it/s]"
     ]
    },
    {
     "name": "stdout",
     "output_type": "stream",
     "text": [
      "-1.3149901628\n"
     ]
    },
    {
     "name": "stderr",
     "output_type": "stream",
     "text": [
      " 67%|██████████████████████████▏            | 2011/3000 [00:40<00:19, 49.95it/s]"
     ]
    },
    {
     "name": "stdout",
     "output_type": "stream",
     "text": [
      "-0.3701495230\n"
     ]
    },
    {
     "name": "stderr",
     "output_type": "stream",
     "text": [
      " 70%|███████████████████████████▍           | 2111/3000 [00:42<00:17, 49.68it/s]"
     ]
    },
    {
     "name": "stdout",
     "output_type": "stream",
     "text": [
      "-2.1039893627\n"
     ]
    },
    {
     "name": "stderr",
     "output_type": "stream",
     "text": [
      " 74%|████████████████████████████▋          | 2206/3000 [00:44<00:17, 46.25it/s]"
     ]
    },
    {
     "name": "stdout",
     "output_type": "stream",
     "text": [
      "-1.1324419975\n"
     ]
    },
    {
     "name": "stderr",
     "output_type": "stream",
     "text": [
      " 77%|██████████████████████████████         | 2308/3000 [00:46<00:14, 48.77it/s]"
     ]
    },
    {
     "name": "stdout",
     "output_type": "stream",
     "text": [
      "-2.8158638477\n"
     ]
    },
    {
     "name": "stderr",
     "output_type": "stream",
     "text": [
      " 80%|███████████████████████████████▎       | 2407/3000 [00:48<00:12, 48.83it/s]"
     ]
    },
    {
     "name": "stdout",
     "output_type": "stream",
     "text": [
      "0.5022233129\n"
     ]
    },
    {
     "name": "stderr",
     "output_type": "stream",
     "text": [
      " 84%|████████████████████████████████▌      | 2507/3000 [00:50<00:10, 45.65it/s]"
     ]
    },
    {
     "name": "stdout",
     "output_type": "stream",
     "text": [
      "-0.7333405614\n"
     ]
    },
    {
     "name": "stderr",
     "output_type": "stream",
     "text": [
      " 87%|█████████████████████████████████▊     | 2605/3000 [00:52<00:08, 44.98it/s]"
     ]
    },
    {
     "name": "stdout",
     "output_type": "stream",
     "text": [
      "0.7579705715\n"
     ]
    },
    {
     "name": "stderr",
     "output_type": "stream",
     "text": [
      " 90%|███████████████████████████████████▏   | 2707/3000 [00:55<00:06, 47.34it/s]"
     ]
    },
    {
     "name": "stdout",
     "output_type": "stream",
     "text": [
      "-2.0338959694\n"
     ]
    },
    {
     "name": "stderr",
     "output_type": "stream",
     "text": [
      " 94%|████████████████████████████████████▍  | 2807/3000 [00:57<00:03, 52.24it/s]"
     ]
    },
    {
     "name": "stdout",
     "output_type": "stream",
     "text": [
      "-1.4082539082\n"
     ]
    },
    {
     "name": "stderr",
     "output_type": "stream",
     "text": [
      " 97%|█████████████████████████████████████▊ | 2905/3000 [00:59<00:02, 44.81it/s]"
     ]
    },
    {
     "name": "stdout",
     "output_type": "stream",
     "text": [
      "-1.1573401690\n"
     ]
    },
    {
     "name": "stderr",
     "output_type": "stream",
     "text": [
      "100%|███████████████████████████████████████| 3000/3000 [01:01<00:00, 48.92it/s]\n"
     ]
    },
    {
     "name": "stdout",
     "output_type": "stream",
     "text": [
      "\n",
      " Lesson 4:\n"
     ]
    },
    {
     "name": "stderr",
     "output_type": "stream",
     "text": [
      "  0%|                                          | 5/3000 [00:00<01:03, 47.12it/s]"
     ]
    },
    {
     "name": "stdout",
     "output_type": "stream",
     "text": [
      "-0.1659529507\n"
     ]
    },
    {
     "name": "stderr",
     "output_type": "stream",
     "text": [
      "  3%|█▍                                      | 104/3000 [00:02<01:27, 33.22it/s]"
     ]
    },
    {
     "name": "stdout",
     "output_type": "stream",
     "text": [
      "-0.4948548973\n"
     ]
    },
    {
     "name": "stderr",
     "output_type": "stream",
     "text": [
      "  7%|██▊                                     | 208/3000 [00:05<01:14, 37.44it/s]"
     ]
    },
    {
     "name": "stdout",
     "output_type": "stream",
     "text": [
      "8.2160005569\n"
     ]
    },
    {
     "name": "stderr",
     "output_type": "stream",
     "text": [
      " 10%|████                                    | 306/3000 [00:08<01:15, 35.58it/s]"
     ]
    },
    {
     "name": "stdout",
     "output_type": "stream",
     "text": [
      "-1.3743047714\n"
     ]
    },
    {
     "name": "stderr",
     "output_type": "stream",
     "text": [
      " 14%|█████▍                                  | 405/3000 [00:11<01:12, 35.89it/s]"
     ]
    },
    {
     "name": "stdout",
     "output_type": "stream",
     "text": [
      "-1.1044342518\n"
     ]
    },
    {
     "name": "stderr",
     "output_type": "stream",
     "text": [
      " 17%|██████▋                                 | 505/3000 [00:14<01:13, 34.05it/s]"
     ]
    },
    {
     "name": "stdout",
     "output_type": "stream",
     "text": [
      "-0.7649416924\n"
     ]
    },
    {
     "name": "stderr",
     "output_type": "stream",
     "text": [
      " 20%|████████                                | 607/3000 [00:17<01:05, 36.32it/s]"
     ]
    },
    {
     "name": "stdout",
     "output_type": "stream",
     "text": [
      "-1.5516978502\n"
     ]
    },
    {
     "name": "stderr",
     "output_type": "stream",
     "text": [
      " 23%|█████████▍                              | 704/3000 [00:20<01:09, 32.87it/s]"
     ]
    },
    {
     "name": "stdout",
     "output_type": "stream",
     "text": [
      "-1.3602142334\n"
     ]
    },
    {
     "name": "stderr",
     "output_type": "stream",
     "text": [
      " 27%|██████████▋                             | 805/3000 [00:23<01:06, 32.81it/s]"
     ]
    },
    {
     "name": "stdout",
     "output_type": "stream",
     "text": [
      "-2.0262918472\n"
     ]
    },
    {
     "name": "stderr",
     "output_type": "stream",
     "text": [
      " 30%|████████████                            | 907/3000 [00:26<00:59, 35.11it/s]"
     ]
    },
    {
     "name": "stdout",
     "output_type": "stream",
     "text": [
      "-1.1119401455\n"
     ]
    },
    {
     "name": "stderr",
     "output_type": "stream",
     "text": [
      " 34%|█████████████                          | 1007/3000 [00:29<00:58, 34.04it/s]"
     ]
    },
    {
     "name": "stdout",
     "output_type": "stream",
     "text": [
      "-2.3584318161\n"
     ]
    },
    {
     "name": "stderr",
     "output_type": "stream",
     "text": [
      " 37%|██████████████▍                        | 1106/3000 [00:31<00:50, 37.76it/s]"
     ]
    },
    {
     "name": "stdout",
     "output_type": "stream",
     "text": [
      "-1.0955547094\n"
     ]
    },
    {
     "name": "stderr",
     "output_type": "stream",
     "text": [
      " 40%|███████████████▋                       | 1208/3000 [00:34<00:50, 35.80it/s]"
     ]
    },
    {
     "name": "stdout",
     "output_type": "stream",
     "text": [
      "1.0475724936\n"
     ]
    },
    {
     "name": "stderr",
     "output_type": "stream",
     "text": [
      " 44%|████████████████▉                      | 1307/3000 [00:37<00:45, 36.94it/s]"
     ]
    },
    {
     "name": "stdout",
     "output_type": "stream",
     "text": [
      "-0.2982281744\n"
     ]
    },
    {
     "name": "stderr",
     "output_type": "stream",
     "text": [
      " 47%|██████████████████▎                    | 1405/3000 [00:40<00:47, 33.67it/s]"
     ]
    },
    {
     "name": "stdout",
     "output_type": "stream",
     "text": [
      "-2.5549011230\n"
     ]
    },
    {
     "name": "stderr",
     "output_type": "stream",
     "text": [
      " 50%|███████████████████▌                   | 1506/3000 [00:43<00:42, 35.26it/s]"
     ]
    },
    {
     "name": "stdout",
     "output_type": "stream",
     "text": [
      "-2.9952452183\n"
     ]
    },
    {
     "name": "stderr",
     "output_type": "stream",
     "text": [
      " 54%|████████████████████▊                  | 1605/3000 [00:45<00:39, 35.54it/s]"
     ]
    },
    {
     "name": "stdout",
     "output_type": "stream",
     "text": [
      "-1.5611697435\n"
     ]
    },
    {
     "name": "stderr",
     "output_type": "stream",
     "text": [
      " 57%|██████████████████████▏                | 1705/3000 [00:48<00:37, 34.71it/s]"
     ]
    },
    {
     "name": "stdout",
     "output_type": "stream",
     "text": [
      "-1.6089090109\n"
     ]
    },
    {
     "name": "stderr",
     "output_type": "stream",
     "text": [
      " 60%|███████████████████████▌               | 1808/3000 [00:51<00:32, 37.01it/s]"
     ]
    },
    {
     "name": "stdout",
     "output_type": "stream",
     "text": [
      "-2.3714165688\n"
     ]
    },
    {
     "name": "stderr",
     "output_type": "stream",
     "text": [
      " 64%|████████████████████████▊              | 1907/3000 [00:54<00:29, 36.81it/s]"
     ]
    },
    {
     "name": "stdout",
     "output_type": "stream",
     "text": [
      "-1.8588244915\n"
     ]
    },
    {
     "name": "stderr",
     "output_type": "stream",
     "text": [
      " 67%|██████████████████████████             | 2004/3000 [00:57<00:26, 36.92it/s]"
     ]
    },
    {
     "name": "stdout",
     "output_type": "stream",
     "text": [
      "-2.7392702103\n"
     ]
    },
    {
     "name": "stderr",
     "output_type": "stream",
     "text": [
      " 70%|███████████████████████████▍           | 2107/3000 [00:59<00:24, 36.38it/s]"
     ]
    },
    {
     "name": "stdout",
     "output_type": "stream",
     "text": [
      "-2.8123917580\n"
     ]
    },
    {
     "name": "stderr",
     "output_type": "stream",
     "text": [
      " 74%|████████████████████████████▋          | 2207/3000 [01:02<00:20, 38.57it/s]"
     ]
    },
    {
     "name": "stdout",
     "output_type": "stream",
     "text": [
      "-3.2413263321\n"
     ]
    },
    {
     "name": "stderr",
     "output_type": "stream",
     "text": [
      " 77%|█████████████████████████████▉         | 2306/3000 [01:05<00:18, 36.72it/s]"
     ]
    },
    {
     "name": "stdout",
     "output_type": "stream",
     "text": [
      "-2.9973247051\n"
     ]
    },
    {
     "name": "stderr",
     "output_type": "stream",
     "text": [
      " 80%|███████████████████████████████▎       | 2405/3000 [01:07<00:15, 38.70it/s]"
     ]
    },
    {
     "name": "stdout",
     "output_type": "stream",
     "text": [
      "-1.7678368092\n"
     ]
    },
    {
     "name": "stderr",
     "output_type": "stream",
     "text": [
      " 84%|████████████████████████████████▌      | 2507/3000 [01:10<00:13, 36.99it/s]"
     ]
    },
    {
     "name": "stdout",
     "output_type": "stream",
     "text": [
      "-2.1419212818\n"
     ]
    },
    {
     "name": "stderr",
     "output_type": "stream",
     "text": [
      " 87%|█████████████████████████████████▊     | 2605/3000 [01:13<00:10, 36.58it/s]"
     ]
    },
    {
     "name": "stdout",
     "output_type": "stream",
     "text": [
      "-3.0556056499\n"
     ]
    },
    {
     "name": "stderr",
     "output_type": "stream",
     "text": [
      " 90%|███████████████████████████████████▏   | 2706/3000 [01:15<00:08, 36.71it/s]"
     ]
    },
    {
     "name": "stdout",
     "output_type": "stream",
     "text": [
      "-1.7950853109\n"
     ]
    },
    {
     "name": "stderr",
     "output_type": "stream",
     "text": [
      " 93%|████████████████████████████████████▍  | 2804/3000 [01:18<00:05, 35.32it/s]"
     ]
    },
    {
     "name": "stdout",
     "output_type": "stream",
     "text": [
      "-2.4188671112\n"
     ]
    },
    {
     "name": "stderr",
     "output_type": "stream",
     "text": [
      " 97%|█████████████████████████████████████▊ | 2907/3000 [01:21<00:02, 37.67it/s]"
     ]
    },
    {
     "name": "stdout",
     "output_type": "stream",
     "text": [
      "-1.2889754772\n"
     ]
    },
    {
     "name": "stderr",
     "output_type": "stream",
     "text": [
      "100%|███████████████████████████████████████| 3000/3000 [01:23<00:00, 35.77it/s]\n"
     ]
    },
    {
     "name": "stdout",
     "output_type": "stream",
     "text": [
      "\n",
      " Lesson 5:\n"
     ]
    },
    {
     "name": "stderr",
     "output_type": "stream",
     "text": [
      "  0%|                                          | 4/3000 [00:00<01:25, 35.22it/s]"
     ]
    },
    {
     "name": "stdout",
     "output_type": "stream",
     "text": [
      "0.5893847942\n"
     ]
    },
    {
     "name": "stderr",
     "output_type": "stream",
     "text": [
      "  3%|█▎                                      | 103/3000 [00:02<01:06, 43.86it/s]"
     ]
    },
    {
     "name": "stdout",
     "output_type": "stream",
     "text": [
      "-1.8025907278\n"
     ]
    },
    {
     "name": "stderr",
     "output_type": "stream",
     "text": [
      "  7%|██▋                                     | 204/3000 [00:05<01:23, 33.37it/s]"
     ]
    },
    {
     "name": "stdout",
     "output_type": "stream",
     "text": [
      "-2.4871058464\n"
     ]
    },
    {
     "name": "stderr",
     "output_type": "stream",
     "text": [
      " 10%|████                                    | 307/3000 [00:08<01:21, 32.90it/s]"
     ]
    },
    {
     "name": "stdout",
     "output_type": "stream",
     "text": [
      "-2.5273516178\n"
     ]
    },
    {
     "name": "stderr",
     "output_type": "stream",
     "text": [
      " 14%|█████▍                                  | 405/3000 [00:11<01:13, 35.49it/s]"
     ]
    },
    {
     "name": "stdout",
     "output_type": "stream",
     "text": [
      "-3.0401210785\n"
     ]
    },
    {
     "name": "stderr",
     "output_type": "stream",
     "text": [
      " 17%|██████▋                                 | 505/3000 [00:14<01:09, 35.77it/s]"
     ]
    },
    {
     "name": "stdout",
     "output_type": "stream",
     "text": [
      "8.4760808945\n"
     ]
    },
    {
     "name": "stderr",
     "output_type": "stream",
     "text": [
      " 20%|████████                                | 607/3000 [00:17<01:06, 35.85it/s]"
     ]
    },
    {
     "name": "stdout",
     "output_type": "stream",
     "text": [
      "-2.1341965199\n"
     ]
    },
    {
     "name": "stderr",
     "output_type": "stream",
     "text": [
      " 23%|█████████▎                              | 703/3000 [00:20<01:11, 32.11it/s]"
     ]
    },
    {
     "name": "stdout",
     "output_type": "stream",
     "text": [
      "-2.0804295540\n"
     ]
    },
    {
     "name": "stderr",
     "output_type": "stream",
     "text": [
      " 27%|██████████▋                             | 805/3000 [00:23<01:02, 35.22it/s]"
     ]
    },
    {
     "name": "stdout",
     "output_type": "stream",
     "text": [
      "9.1117610931\n"
     ]
    },
    {
     "name": "stderr",
     "output_type": "stream",
     "text": [
      " 30%|████████████                            | 904/3000 [00:26<01:06, 31.48it/s]"
     ]
    },
    {
     "name": "stdout",
     "output_type": "stream",
     "text": [
      "-1.6862270832\n"
     ]
    },
    {
     "name": "stderr",
     "output_type": "stream",
     "text": [
      " 34%|█████████████                          | 1005/3000 [00:29<00:59, 33.59it/s]"
     ]
    },
    {
     "name": "stdout",
     "output_type": "stream",
     "text": [
      "-2.2636911869\n"
     ]
    },
    {
     "name": "stderr",
     "output_type": "stream",
     "text": [
      " 37%|██████████████▎                        | 1104/3000 [00:32<01:02, 30.52it/s]"
     ]
    },
    {
     "name": "stdout",
     "output_type": "stream",
     "text": [
      "-0.6818763614\n"
     ]
    },
    {
     "name": "stderr",
     "output_type": "stream",
     "text": [
      " 40%|███████████████▋                       | 1207/3000 [00:35<00:57, 31.13it/s]"
     ]
    },
    {
     "name": "stdout",
     "output_type": "stream",
     "text": [
      "-1.9424148798\n"
     ]
    },
    {
     "name": "stderr",
     "output_type": "stream",
     "text": [
      " 44%|████████████████▉                      | 1305/3000 [00:38<00:55, 30.72it/s]"
     ]
    },
    {
     "name": "stdout",
     "output_type": "stream",
     "text": [
      "-2.4004166126\n"
     ]
    },
    {
     "name": "stderr",
     "output_type": "stream",
     "text": [
      " 47%|██████████████████▎                    | 1407/3000 [00:41<00:43, 36.77it/s]"
     ]
    },
    {
     "name": "stdout",
     "output_type": "stream",
     "text": [
      "-2.0303776264\n"
     ]
    },
    {
     "name": "stderr",
     "output_type": "stream",
     "text": [
      " 50%|███████████████████▌                   | 1509/3000 [00:44<00:39, 37.94it/s]"
     ]
    },
    {
     "name": "stdout",
     "output_type": "stream",
     "text": [
      "-2.6444516182\n"
     ]
    },
    {
     "name": "stderr",
     "output_type": "stream",
     "text": [
      " 54%|████████████████████▊                  | 1605/3000 [00:47<00:41, 33.22it/s]"
     ]
    },
    {
     "name": "stdout",
     "output_type": "stream",
     "text": [
      "-2.1203441620\n"
     ]
    },
    {
     "name": "stderr",
     "output_type": "stream",
     "text": [
      " 57%|██████████████████████▏                | 1706/3000 [00:50<00:35, 36.14it/s]"
     ]
    },
    {
     "name": "stdout",
     "output_type": "stream",
     "text": [
      "-2.2939999104\n"
     ]
    },
    {
     "name": "stderr",
     "output_type": "stream",
     "text": [
      " 60%|███████████████████████▍               | 1805/3000 [00:53<00:36, 32.57it/s]"
     ]
    },
    {
     "name": "stdout",
     "output_type": "stream",
     "text": [
      "-2.8832945824\n"
     ]
    },
    {
     "name": "stderr",
     "output_type": "stream",
     "text": [
      " 64%|████████████████████████▊              | 1905/3000 [00:56<00:34, 32.09it/s]"
     ]
    },
    {
     "name": "stdout",
     "output_type": "stream",
     "text": [
      "-2.6495122910\n"
     ]
    },
    {
     "name": "stderr",
     "output_type": "stream",
     "text": [
      " 67%|██████████████████████████             | 2003/3000 [00:59<00:30, 32.78it/s]"
     ]
    },
    {
     "name": "stdout",
     "output_type": "stream",
     "text": [
      "-2.2927842140\n"
     ]
    },
    {
     "name": "stderr",
     "output_type": "stream",
     "text": [
      " 70%|███████████████████████████▍           | 2107/3000 [01:02<00:23, 37.64it/s]"
     ]
    },
    {
     "name": "stdout",
     "output_type": "stream",
     "text": [
      "-2.8940913677\n"
     ]
    },
    {
     "name": "stderr",
     "output_type": "stream",
     "text": [
      " 74%|████████████████████████████▋          | 2206/3000 [01:05<00:24, 32.33it/s]"
     ]
    },
    {
     "name": "stdout",
     "output_type": "stream",
     "text": [
      "-1.6549032927\n"
     ]
    },
    {
     "name": "stderr",
     "output_type": "stream",
     "text": [
      " 77%|█████████████████████████████▉         | 2304/3000 [01:08<00:20, 33.75it/s]"
     ]
    },
    {
     "name": "stdout",
     "output_type": "stream",
     "text": [
      "-2.4222710133\n"
     ]
    },
    {
     "name": "stderr",
     "output_type": "stream",
     "text": [
      " 80%|███████████████████████████████▎       | 2405/3000 [01:11<00:18, 32.79it/s]"
     ]
    },
    {
     "name": "stdout",
     "output_type": "stream",
     "text": [
      "-1.7132072449\n"
     ]
    },
    {
     "name": "stderr",
     "output_type": "stream",
     "text": [
      " 84%|████████████████████████████████▌      | 2509/3000 [01:14<00:12, 38.52it/s]"
     ]
    },
    {
     "name": "stdout",
     "output_type": "stream",
     "text": [
      "8.6378192902\n"
     ]
    },
    {
     "name": "stderr",
     "output_type": "stream",
     "text": [
      " 87%|█████████████████████████████████▊     | 2605/3000 [01:16<00:12, 32.34it/s]"
     ]
    },
    {
     "name": "stdout",
     "output_type": "stream",
     "text": [
      "-4.5806550980\n"
     ]
    },
    {
     "name": "stderr",
     "output_type": "stream",
     "text": [
      " 90%|███████████████████████████████████▏   | 2705/3000 [01:20<00:09, 32.14it/s]"
     ]
    },
    {
     "name": "stdout",
     "output_type": "stream",
     "text": [
      "-3.1563093662\n"
     ]
    },
    {
     "name": "stderr",
     "output_type": "stream",
     "text": [
      " 94%|████████████████████████████████████▌  | 2808/3000 [01:23<00:05, 35.70it/s]"
     ]
    },
    {
     "name": "stdout",
     "output_type": "stream",
     "text": [
      "-2.7068426609\n"
     ]
    },
    {
     "name": "stderr",
     "output_type": "stream",
     "text": [
      " 97%|█████████████████████████████████████▊ | 2904/3000 [01:26<00:02, 33.03it/s]"
     ]
    },
    {
     "name": "stdout",
     "output_type": "stream",
     "text": [
      "-3.6901803017\n"
     ]
    },
    {
     "name": "stderr",
     "output_type": "stream",
     "text": [
      "100%|███████████████████████████████████████| 3000/3000 [01:29<00:00, 33.55it/s]\n"
     ]
    },
    {
     "name": "stdout",
     "output_type": "stream",
     "text": [
      "\n",
      " Lesson 6:\n"
     ]
    },
    {
     "name": "stderr",
     "output_type": "stream",
     "text": [
      "  0%|                                          | 4/3000 [00:00<01:22, 36.16it/s]"
     ]
    },
    {
     "name": "stdout",
     "output_type": "stream",
     "text": [
      "9.1512289047\n"
     ]
    },
    {
     "name": "stderr",
     "output_type": "stream",
     "text": [
      "  3%|█▎                                      | 103/3000 [00:03<01:44, 27.76it/s]"
     ]
    },
    {
     "name": "stdout",
     "output_type": "stream",
     "text": [
      "9.7000303268\n"
     ]
    },
    {
     "name": "stderr",
     "output_type": "stream",
     "text": [
      "  7%|██▋                                     | 205/3000 [00:07<01:37, 28.64it/s]"
     ]
    },
    {
     "name": "stdout",
     "output_type": "stream",
     "text": [
      "9.5307407379\n"
     ]
    },
    {
     "name": "stderr",
     "output_type": "stream",
     "text": [
      " 10%|████                                    | 303/3000 [00:11<01:28, 30.50it/s]"
     ]
    },
    {
     "name": "stdout",
     "output_type": "stream",
     "text": [
      "-3.7144861221\n"
     ]
    },
    {
     "name": "stderr",
     "output_type": "stream",
     "text": [
      " 13%|█████▍                                  | 404/3000 [00:14<01:10, 36.62it/s]"
     ]
    },
    {
     "name": "stdout",
     "output_type": "stream",
     "text": [
      "9.5939579010\n"
     ]
    },
    {
     "name": "stderr",
     "output_type": "stream",
     "text": [
      " 17%|██████▋                                 | 504/3000 [00:17<01:14, 33.38it/s]"
     ]
    },
    {
     "name": "stdout",
     "output_type": "stream",
     "text": [
      "-2.2187988758\n"
     ]
    },
    {
     "name": "stderr",
     "output_type": "stream",
     "text": [
      " 20%|████████                                | 606/3000 [00:20<01:10, 33.78it/s]"
     ]
    },
    {
     "name": "stdout",
     "output_type": "stream",
     "text": [
      "-2.9175906181\n"
     ]
    },
    {
     "name": "stderr",
     "output_type": "stream",
     "text": [
      " 24%|█████████▍                              | 706/3000 [00:23<01:15, 30.35it/s]"
     ]
    },
    {
     "name": "stdout",
     "output_type": "stream",
     "text": [
      "-3.2692451477\n"
     ]
    },
    {
     "name": "stderr",
     "output_type": "stream",
     "text": [
      " 27%|██████████▋                             | 805/3000 [00:26<01:00, 36.14it/s]"
     ]
    },
    {
     "name": "stdout",
     "output_type": "stream",
     "text": [
      "-3.0421895981\n"
     ]
    },
    {
     "name": "stderr",
     "output_type": "stream",
     "text": [
      " 30%|████████████                            | 906/3000 [00:29<01:06, 31.26it/s]"
     ]
    },
    {
     "name": "stdout",
     "output_type": "stream",
     "text": [
      "-2.3603959084\n"
     ]
    },
    {
     "name": "stderr",
     "output_type": "stream",
     "text": [
      " 34%|█████████████                          | 1007/3000 [00:32<01:03, 31.52it/s]"
     ]
    },
    {
     "name": "stdout",
     "output_type": "stream",
     "text": [
      "-3.2449600697\n"
     ]
    },
    {
     "name": "stderr",
     "output_type": "stream",
     "text": [
      " 37%|██████████████▍                        | 1106/3000 [00:35<00:49, 37.91it/s]"
     ]
    },
    {
     "name": "stdout",
     "output_type": "stream",
     "text": [
      "-3.7826151848\n"
     ]
    },
    {
     "name": "stderr",
     "output_type": "stream",
     "text": [
      " 40%|███████████████▋                       | 1203/3000 [00:37<00:40, 44.43it/s]"
     ]
    },
    {
     "name": "stdout",
     "output_type": "stream",
     "text": [
      "9.3760156631\n"
     ]
    },
    {
     "name": "stderr",
     "output_type": "stream",
     "text": [
      " 43%|████████████████▉                      | 1304/3000 [00:40<00:55, 30.67it/s]"
     ]
    },
    {
     "name": "stdout",
     "output_type": "stream",
     "text": [
      "-1.8739762306\n"
     ]
    },
    {
     "name": "stderr",
     "output_type": "stream",
     "text": [
      " 47%|██████████████████▎                    | 1407/3000 [00:43<00:47, 33.52it/s]"
     ]
    },
    {
     "name": "stdout",
     "output_type": "stream",
     "text": [
      "-3.2565119267\n"
     ]
    },
    {
     "name": "stderr",
     "output_type": "stream",
     "text": [
      " 50%|███████████████████▌                   | 1504/3000 [00:46<00:44, 33.85it/s]"
     ]
    },
    {
     "name": "stdout",
     "output_type": "stream",
     "text": [
      "-3.6082525253\n"
     ]
    },
    {
     "name": "stderr",
     "output_type": "stream",
     "text": [
      " 54%|████████████████████▉                  | 1608/3000 [00:48<00:33, 42.11it/s]"
     ]
    },
    {
     "name": "stdout",
     "output_type": "stream",
     "text": [
      "9.2918767929\n"
     ]
    },
    {
     "name": "stderr",
     "output_type": "stream",
     "text": [
      " 57%|██████████████████████▏                | 1708/3000 [00:51<00:33, 38.43it/s]"
     ]
    },
    {
     "name": "stdout",
     "output_type": "stream",
     "text": [
      "-2.5491979122\n"
     ]
    },
    {
     "name": "stderr",
     "output_type": "stream",
     "text": [
      " 60%|███████████████████████▍               | 1803/3000 [00:54<00:35, 33.67it/s]"
     ]
    },
    {
     "name": "stdout",
     "output_type": "stream",
     "text": [
      "-3.9985144138\n"
     ]
    },
    {
     "name": "stderr",
     "output_type": "stream",
     "text": [
      " 63%|████████████████████████▊              | 1904/3000 [00:57<00:32, 33.25it/s]"
     ]
    },
    {
     "name": "stdout",
     "output_type": "stream",
     "text": [
      "-3.5834641457\n"
     ]
    },
    {
     "name": "stderr",
     "output_type": "stream",
     "text": [
      " 67%|██████████████████████████             | 2005/3000 [01:00<00:28, 34.84it/s]"
     ]
    },
    {
     "name": "stdout",
     "output_type": "stream",
     "text": [
      "-2.1021616459\n"
     ]
    },
    {
     "name": "stderr",
     "output_type": "stream",
     "text": [
      " 70%|███████████████████████████▎           | 2103/3000 [01:03<00:24, 37.25it/s]"
     ]
    },
    {
     "name": "stdout",
     "output_type": "stream",
     "text": [
      "-3.3919973373\n"
     ]
    },
    {
     "name": "stderr",
     "output_type": "stream",
     "text": [
      " 74%|████████████████████████████▋          | 2208/3000 [01:06<00:23, 34.31it/s]"
     ]
    },
    {
     "name": "stdout",
     "output_type": "stream",
     "text": [
      "-1.8910000324\n"
     ]
    },
    {
     "name": "stderr",
     "output_type": "stream",
     "text": [
      " 77%|█████████████████████████████▉         | 2304/3000 [01:09<00:21, 32.30it/s]"
     ]
    },
    {
     "name": "stdout",
     "output_type": "stream",
     "text": [
      "-3.7520446777\n"
     ]
    },
    {
     "name": "stderr",
     "output_type": "stream",
     "text": [
      " 80%|███████████████████████████████▎       | 2405/3000 [01:12<00:17, 34.92it/s]"
     ]
    },
    {
     "name": "stdout",
     "output_type": "stream",
     "text": [
      "-2.8653228283\n"
     ]
    },
    {
     "name": "stderr",
     "output_type": "stream",
     "text": [
      " 84%|████████████████████████████████▌      | 2507/3000 [01:15<00:14, 33.79it/s]"
     ]
    },
    {
     "name": "stdout",
     "output_type": "stream",
     "text": [
      "9.6451244354\n"
     ]
    },
    {
     "name": "stderr",
     "output_type": "stream",
     "text": [
      " 87%|█████████████████████████████████▉     | 2608/3000 [01:17<00:10, 36.79it/s]"
     ]
    },
    {
     "name": "stdout",
     "output_type": "stream",
     "text": [
      "-2.8923525810\n"
     ]
    },
    {
     "name": "stderr",
     "output_type": "stream",
     "text": [
      " 90%|███████████████████████████████████▏   | 2702/3000 [01:20<00:07, 39.06it/s]"
     ]
    },
    {
     "name": "stdout",
     "output_type": "stream",
     "text": [
      "9.5568523407\n"
     ]
    },
    {
     "name": "stderr",
     "output_type": "stream",
     "text": [
      " 94%|████████████████████████████████████▍  | 2806/3000 [01:23<00:05, 33.04it/s]"
     ]
    },
    {
     "name": "stdout",
     "output_type": "stream",
     "text": [
      "-2.0620186329\n"
     ]
    },
    {
     "name": "stderr",
     "output_type": "stream",
     "text": [
      " 97%|█████████████████████████████████████▊ | 2904/3000 [01:26<00:02, 42.80it/s]"
     ]
    },
    {
     "name": "stdout",
     "output_type": "stream",
     "text": [
      "9.4436035156\n"
     ]
    },
    {
     "name": "stderr",
     "output_type": "stream",
     "text": [
      "100%|███████████████████████████████████████| 3000/3000 [01:29<00:00, 33.51it/s]\n"
     ]
    },
    {
     "name": "stdout",
     "output_type": "stream",
     "text": [
      "\n",
      " Lesson 7:\n"
     ]
    },
    {
     "name": "stderr",
     "output_type": "stream",
     "text": [
      "  0%|                                          | 4/3000 [00:00<01:36, 31.07it/s]"
     ]
    },
    {
     "name": "stdout",
     "output_type": "stream",
     "text": [
      "10.1392011642\n"
     ]
    },
    {
     "name": "stderr",
     "output_type": "stream",
     "text": [
      "  4%|█▍                                      | 106/3000 [00:03<01:11, 40.57it/s]"
     ]
    },
    {
     "name": "stdout",
     "output_type": "stream",
     "text": [
      "9.9103069305\n"
     ]
    },
    {
     "name": "stderr",
     "output_type": "stream",
     "text": [
      "  7%|██▊                                     | 209/3000 [00:06<01:14, 37.69it/s]"
     ]
    },
    {
     "name": "stdout",
     "output_type": "stream",
     "text": [
      "9.7757368088\n"
     ]
    },
    {
     "name": "stderr",
     "output_type": "stream",
     "text": [
      " 10%|████                                    | 308/3000 [00:09<01:17, 34.75it/s]"
     ]
    },
    {
     "name": "stdout",
     "output_type": "stream",
     "text": [
      "-1.8527611494\n"
     ]
    },
    {
     "name": "stderr",
     "output_type": "stream",
     "text": [
      " 14%|█████▍                                  | 410/3000 [00:12<01:01, 42.20it/s]"
     ]
    },
    {
     "name": "stdout",
     "output_type": "stream",
     "text": [
      "9.7836713791\n"
     ]
    },
    {
     "name": "stderr",
     "output_type": "stream",
     "text": [
      " 17%|██████▋                                 | 503/3000 [00:14<01:08, 36.26it/s]"
     ]
    },
    {
     "name": "stdout",
     "output_type": "stream",
     "text": [
      "9.7475252151\n"
     ]
    },
    {
     "name": "stderr",
     "output_type": "stream",
     "text": [
      " 20%|████████                                | 603/3000 [00:17<01:00, 39.87it/s]"
     ]
    },
    {
     "name": "stdout",
     "output_type": "stream",
     "text": [
      "9.4792032242\n"
     ]
    },
    {
     "name": "stderr",
     "output_type": "stream",
     "text": [
      " 23%|█████████▎                              | 703/3000 [00:20<00:46, 49.45it/s]"
     ]
    },
    {
     "name": "stdout",
     "output_type": "stream",
     "text": [
      "-2.1581931114\n"
     ]
    },
    {
     "name": "stderr",
     "output_type": "stream",
     "text": [
      " 27%|██████████▋                             | 805/3000 [00:22<00:56, 38.64it/s]"
     ]
    },
    {
     "name": "stdout",
     "output_type": "stream",
     "text": [
      "9.7328395844\n"
     ]
    },
    {
     "name": "stderr",
     "output_type": "stream",
     "text": [
      " 30%|████████████                            | 906/3000 [00:25<00:54, 38.40it/s]"
     ]
    },
    {
     "name": "stdout",
     "output_type": "stream",
     "text": [
      "-4.5049872398\n"
     ]
    },
    {
     "name": "stderr",
     "output_type": "stream",
     "text": [
      " 34%|█████████████                          | 1007/3000 [00:28<00:45, 44.04it/s]"
     ]
    },
    {
     "name": "stdout",
     "output_type": "stream",
     "text": [
      "9.7979173660\n"
     ]
    },
    {
     "name": "stderr",
     "output_type": "stream",
     "text": [
      " 37%|██████████████▎                        | 1104/3000 [00:30<00:40, 46.96it/s]"
     ]
    },
    {
     "name": "stdout",
     "output_type": "stream",
     "text": [
      "-2.5741827488\n"
     ]
    },
    {
     "name": "stderr",
     "output_type": "stream",
     "text": [
      " 40%|███████████████▋                       | 1204/3000 [00:33<00:52, 34.37it/s]"
     ]
    },
    {
     "name": "stdout",
     "output_type": "stream",
     "text": [
      "9.6060771942\n"
     ]
    },
    {
     "name": "stderr",
     "output_type": "stream",
     "text": [
      " 44%|█████████████████                      | 1310/3000 [00:36<00:47, 35.62it/s]"
     ]
    },
    {
     "name": "stdout",
     "output_type": "stream",
     "text": [
      "-5.3008799553\n"
     ]
    },
    {
     "name": "stderr",
     "output_type": "stream",
     "text": [
      " 47%|██████████████████▎                    | 1408/3000 [00:38<00:38, 41.43it/s]"
     ]
    },
    {
     "name": "stdout",
     "output_type": "stream",
     "text": [
      "-3.9977524281\n"
     ]
    },
    {
     "name": "stderr",
     "output_type": "stream",
     "text": [
      " 50%|███████████████████▌                   | 1508/3000 [00:41<00:45, 32.68it/s]"
     ]
    },
    {
     "name": "stdout",
     "output_type": "stream",
     "text": [
      "-3.1200459003\n"
     ]
    },
    {
     "name": "stderr",
     "output_type": "stream",
     "text": [
      " 54%|████████████████████▉                  | 1606/3000 [00:44<00:30, 46.46it/s]"
     ]
    },
    {
     "name": "stdout",
     "output_type": "stream",
     "text": [
      "-1.4671511650\n"
     ]
    },
    {
     "name": "stderr",
     "output_type": "stream",
     "text": [
      " 57%|██████████████████████▏                | 1708/3000 [00:46<00:34, 37.12it/s]"
     ]
    },
    {
     "name": "stdout",
     "output_type": "stream",
     "text": [
      "-3.4680519104\n"
     ]
    },
    {
     "name": "stderr",
     "output_type": "stream",
     "text": [
      " 60%|███████████████████████▌               | 1808/3000 [00:49<00:30, 39.47it/s]"
     ]
    },
    {
     "name": "stdout",
     "output_type": "stream",
     "text": [
      "-3.4937107563\n"
     ]
    },
    {
     "name": "stderr",
     "output_type": "stream",
     "text": [
      " 63%|████████████████████████▋              | 1903/3000 [00:51<00:26, 40.96it/s]"
     ]
    },
    {
     "name": "stdout",
     "output_type": "stream",
     "text": [
      "-3.8737127781\n"
     ]
    },
    {
     "name": "stderr",
     "output_type": "stream",
     "text": [
      " 67%|██████████████████████████             | 2006/3000 [00:53<00:29, 33.78it/s]"
     ]
    },
    {
     "name": "stdout",
     "output_type": "stream",
     "text": [
      "-3.3932135105\n"
     ]
    },
    {
     "name": "stderr",
     "output_type": "stream",
     "text": [
      " 70%|███████████████████████████▎           | 2104/3000 [00:56<00:27, 32.83it/s]"
     ]
    },
    {
     "name": "stdout",
     "output_type": "stream",
     "text": [
      "9.6700706482\n"
     ]
    },
    {
     "name": "stderr",
     "output_type": "stream",
     "text": [
      " 74%|████████████████████████████▋          | 2210/3000 [00:59<00:15, 49.70it/s]"
     ]
    },
    {
     "name": "stdout",
     "output_type": "stream",
     "text": [
      "9.4527845383\n"
     ]
    },
    {
     "name": "stderr",
     "output_type": "stream",
     "text": [
      " 77%|█████████████████████████████▉         | 2306/3000 [01:01<00:18, 36.85it/s]"
     ]
    },
    {
     "name": "stdout",
     "output_type": "stream",
     "text": [
      "9.6445064545\n"
     ]
    },
    {
     "name": "stderr",
     "output_type": "stream",
     "text": [
      " 80%|███████████████████████████████▎       | 2406/3000 [01:04<00:16, 35.74it/s]"
     ]
    },
    {
     "name": "stdout",
     "output_type": "stream",
     "text": [
      "-3.2718846798\n"
     ]
    },
    {
     "name": "stderr",
     "output_type": "stream",
     "text": [
      " 84%|████████████████████████████████▌      | 2505/3000 [01:06<00:15, 32.99it/s]"
     ]
    },
    {
     "name": "stdout",
     "output_type": "stream",
     "text": [
      "-4.3771047592\n"
     ]
    },
    {
     "name": "stderr",
     "output_type": "stream",
     "text": [
      " 87%|█████████████████████████████████▊     | 2602/3000 [01:09<00:08, 44.59it/s]"
     ]
    },
    {
     "name": "stdout",
     "output_type": "stream",
     "text": [
      "9.7234363556\n"
     ]
    },
    {
     "name": "stderr",
     "output_type": "stream",
     "text": [
      " 90%|███████████████████████████████████▏   | 2707/3000 [01:12<00:08, 33.43it/s]"
     ]
    },
    {
     "name": "stdout",
     "output_type": "stream",
     "text": [
      "9.0856904984\n"
     ]
    },
    {
     "name": "stderr",
     "output_type": "stream",
     "text": [
      " 94%|████████████████████████████████████▍  | 2805/3000 [01:15<00:05, 32.83it/s]"
     ]
    },
    {
     "name": "stdout",
     "output_type": "stream",
     "text": [
      "-2.2340285778\n"
     ]
    },
    {
     "name": "stderr",
     "output_type": "stream",
     "text": [
      " 97%|█████████████████████████████████████▊ | 2906/3000 [01:18<00:02, 41.20it/s]"
     ]
    },
    {
     "name": "stdout",
     "output_type": "stream",
     "text": [
      "-5.0464277267\n"
     ]
    },
    {
     "name": "stderr",
     "output_type": "stream",
     "text": [
      "100%|███████████████████████████████████████| 3000/3000 [01:20<00:00, 37.17it/s]\n"
     ]
    },
    {
     "name": "stdout",
     "output_type": "stream",
     "text": [
      "\n",
      " Lesson 8:\n"
     ]
    },
    {
     "name": "stderr",
     "output_type": "stream",
     "text": [
      "  0%|                                          | 4/3000 [00:00<01:31, 32.75it/s]"
     ]
    },
    {
     "name": "stdout",
     "output_type": "stream",
     "text": [
      "-0.0840831399\n"
     ]
    },
    {
     "name": "stderr",
     "output_type": "stream",
     "text": [
      "  3%|█▍                                      | 104/3000 [00:02<01:02, 46.25it/s]"
     ]
    },
    {
     "name": "stdout",
     "output_type": "stream",
     "text": [
      "-1.8233981133\n"
     ]
    },
    {
     "name": "stderr",
     "output_type": "stream",
     "text": [
      "  7%|██▋                                     | 202/3000 [00:05<01:28, 31.62it/s]"
     ]
    },
    {
     "name": "stdout",
     "output_type": "stream",
     "text": [
      "-1.9929535389\n"
     ]
    },
    {
     "name": "stderr",
     "output_type": "stream",
     "text": [
      " 10%|████                                    | 303/3000 [00:08<01:21, 33.00it/s]"
     ]
    },
    {
     "name": "stdout",
     "output_type": "stream",
     "text": [
      "-2.0642733574\n"
     ]
    },
    {
     "name": "stderr",
     "output_type": "stream",
     "text": [
      " 14%|█████▌                                  | 413/3000 [00:10<00:47, 53.98it/s]"
     ]
    },
    {
     "name": "stdout",
     "output_type": "stream",
     "text": [
      "9.8426694870\n"
     ]
    },
    {
     "name": "stderr",
     "output_type": "stream",
     "text": [
      " 17%|██████▋                                 | 505/3000 [00:13<01:24, 29.68it/s]"
     ]
    },
    {
     "name": "stdout",
     "output_type": "stream",
     "text": [
      "10.0680084229\n"
     ]
    },
    {
     "name": "stderr",
     "output_type": "stream",
     "text": [
      " 20%|████████                                | 606/3000 [00:16<01:16, 31.19it/s]"
     ]
    },
    {
     "name": "stdout",
     "output_type": "stream",
     "text": [
      "-2.7234950066\n"
     ]
    },
    {
     "name": "stderr",
     "output_type": "stream",
     "text": [
      " 24%|█████████▍                              | 705/3000 [00:19<00:57, 40.11it/s]"
     ]
    },
    {
     "name": "stdout",
     "output_type": "stream",
     "text": [
      "10.6301813126\n"
     ]
    },
    {
     "name": "stderr",
     "output_type": "stream",
     "text": [
      " 27%|██████████▋                             | 804/3000 [00:21<00:58, 37.67it/s]"
     ]
    },
    {
     "name": "stdout",
     "output_type": "stream",
     "text": [
      "10.0031404495\n"
     ]
    },
    {
     "name": "stderr",
     "output_type": "stream",
     "text": [
      " 30%|████████████                            | 906/3000 [00:24<00:55, 37.82it/s]"
     ]
    },
    {
     "name": "stdout",
     "output_type": "stream",
     "text": [
      "10.1418190002\n"
     ]
    },
    {
     "name": "stderr",
     "output_type": "stream",
     "text": [
      " 34%|█████████████                          | 1008/3000 [00:27<00:42, 46.87it/s]"
     ]
    },
    {
     "name": "stdout",
     "output_type": "stream",
     "text": [
      "-3.6250016689\n"
     ]
    },
    {
     "name": "stderr",
     "output_type": "stream",
     "text": [
      " 37%|██████████████▍                        | 1106/3000 [00:29<00:58, 32.25it/s]"
     ]
    },
    {
     "name": "stdout",
     "output_type": "stream",
     "text": [
      "-1.4268602133\n"
     ]
    },
    {
     "name": "stderr",
     "output_type": "stream",
     "text": [
      " 40%|███████████████▋                       | 1205/3000 [00:32<00:52, 33.89it/s]"
     ]
    },
    {
     "name": "stdout",
     "output_type": "stream",
     "text": [
      "-3.6056585312\n"
     ]
    },
    {
     "name": "stderr",
     "output_type": "stream",
     "text": [
      " 43%|████████████████▉                      | 1303/3000 [00:35<00:42, 40.26it/s]"
     ]
    },
    {
     "name": "stdout",
     "output_type": "stream",
     "text": [
      "-2.8599865437\n"
     ]
    },
    {
     "name": "stderr",
     "output_type": "stream",
     "text": [
      " 47%|██████████████████▎                    | 1405/3000 [00:37<00:42, 37.57it/s]"
     ]
    },
    {
     "name": "stdout",
     "output_type": "stream",
     "text": [
      "-2.4529609680\n"
     ]
    },
    {
     "name": "stderr",
     "output_type": "stream",
     "text": [
      " 50%|███████████████████▌                   | 1502/3000 [00:40<00:27, 54.66it/s]"
     ]
    },
    {
     "name": "stdout",
     "output_type": "stream",
     "text": [
      "10.0732202530\n"
     ]
    },
    {
     "name": "stderr",
     "output_type": "stream",
     "text": [
      " 54%|████████████████████▉                  | 1606/3000 [00:42<00:36, 38.69it/s]"
     ]
    },
    {
     "name": "stdout",
     "output_type": "stream",
     "text": [
      "-3.1575834751\n"
     ]
    },
    {
     "name": "stderr",
     "output_type": "stream",
     "text": [
      " 57%|██████████████████████▏                | 1706/3000 [00:45<00:28, 44.70it/s]"
     ]
    },
    {
     "name": "stdout",
     "output_type": "stream",
     "text": [
      "9.9239234924\n"
     ]
    },
    {
     "name": "stderr",
     "output_type": "stream",
     "text": [
      " 60%|███████████████████████▍               | 1807/3000 [00:47<00:26, 44.92it/s]"
     ]
    },
    {
     "name": "stdout",
     "output_type": "stream",
     "text": [
      "10.1265125275\n"
     ]
    },
    {
     "name": "stderr",
     "output_type": "stream",
     "text": [
      " 64%|████████████████████████▊              | 1905/3000 [00:50<00:28, 38.26it/s]"
     ]
    },
    {
     "name": "stdout",
     "output_type": "stream",
     "text": [
      "-2.8807396889\n"
     ]
    },
    {
     "name": "stderr",
     "output_type": "stream",
     "text": [
      " 67%|██████████████████████████             | 2008/3000 [00:53<00:28, 35.43it/s]"
     ]
    },
    {
     "name": "stdout",
     "output_type": "stream",
     "text": [
      "-3.1018257141\n"
     ]
    },
    {
     "name": "stderr",
     "output_type": "stream",
     "text": [
      " 70%|███████████████████████████▎           | 2103/3000 [00:56<00:23, 38.10it/s]"
     ]
    },
    {
     "name": "stdout",
     "output_type": "stream",
     "text": [
      "-1.4963208437\n"
     ]
    },
    {
     "name": "stderr",
     "output_type": "stream",
     "text": [
      " 74%|████████████████████████████▋          | 2210/3000 [00:58<00:18, 43.23it/s]"
     ]
    },
    {
     "name": "stdout",
     "output_type": "stream",
     "text": [
      "10.0025014877\n"
     ]
    },
    {
     "name": "stderr",
     "output_type": "stream",
     "text": [
      " 77%|█████████████████████████████▉         | 2305/3000 [01:01<00:18, 38.49it/s]"
     ]
    },
    {
     "name": "stdout",
     "output_type": "stream",
     "text": [
      "-2.2618312836\n"
     ]
    },
    {
     "name": "stderr",
     "output_type": "stream",
     "text": [
      " 80%|███████████████████████████████▎       | 2407/3000 [01:03<00:16, 36.22it/s]"
     ]
    },
    {
     "name": "stdout",
     "output_type": "stream",
     "text": [
      "-2.0728363991\n"
     ]
    },
    {
     "name": "stderr",
     "output_type": "stream",
     "text": [
      " 84%|████████████████████████████████▌      | 2505/3000 [01:06<00:15, 31.98it/s]"
     ]
    },
    {
     "name": "stdout",
     "output_type": "stream",
     "text": [
      "-2.5720007420\n"
     ]
    },
    {
     "name": "stderr",
     "output_type": "stream",
     "text": [
      " 87%|█████████████████████████████████▉     | 2611/3000 [01:09<00:07, 53.36it/s]"
     ]
    },
    {
     "name": "stdout",
     "output_type": "stream",
     "text": [
      "-3.1784465313\n"
     ]
    },
    {
     "name": "stderr",
     "output_type": "stream",
     "text": [
      " 90%|███████████████████████████████████▏   | 2705/3000 [01:11<00:07, 37.75it/s]"
     ]
    },
    {
     "name": "stdout",
     "output_type": "stream",
     "text": [
      "-1.9837864637\n"
     ]
    },
    {
     "name": "stderr",
     "output_type": "stream",
     "text": [
      " 94%|████████████████████████████████████▍  | 2805/3000 [01:13<00:05, 34.93it/s]"
     ]
    },
    {
     "name": "stdout",
     "output_type": "stream",
     "text": [
      "-2.7838475704\n"
     ]
    },
    {
     "name": "stderr",
     "output_type": "stream",
     "text": [
      " 97%|█████████████████████████████████████▊ | 2904/3000 [01:17<00:02, 34.44it/s]"
     ]
    },
    {
     "name": "stdout",
     "output_type": "stream",
     "text": [
      "9.9516983032\n"
     ]
    },
    {
     "name": "stderr",
     "output_type": "stream",
     "text": [
      "100%|███████████████████████████████████████| 3000/3000 [01:20<00:00, 37.46it/s]\n"
     ]
    },
    {
     "name": "stdout",
     "output_type": "stream",
     "text": [
      "\n",
      " Lesson 9:\n"
     ]
    },
    {
     "name": "stderr",
     "output_type": "stream",
     "text": [
      "  0%|                                          | 4/3000 [00:00<01:21, 36.76it/s]"
     ]
    },
    {
     "name": "stdout",
     "output_type": "stream",
     "text": [
      "10.2914152145\n"
     ]
    },
    {
     "name": "stderr",
     "output_type": "stream",
     "text": [
      "  4%|█▍                                      | 107/3000 [00:03<01:16, 37.71it/s]"
     ]
    },
    {
     "name": "stdout",
     "output_type": "stream",
     "text": [
      "-0.3930923641\n"
     ]
    },
    {
     "name": "stderr",
     "output_type": "stream",
     "text": [
      "  7%|██▋                                     | 203/3000 [00:06<01:07, 41.31it/s]"
     ]
    },
    {
     "name": "stdout",
     "output_type": "stream",
     "text": [
      "-0.4301006794\n"
     ]
    },
    {
     "name": "stderr",
     "output_type": "stream",
     "text": [
      " 10%|████                                    | 304/3000 [00:09<01:22, 32.83it/s]"
     ]
    },
    {
     "name": "stdout",
     "output_type": "stream",
     "text": [
      "10.3852758408\n"
     ]
    },
    {
     "name": "stderr",
     "output_type": "stream",
     "text": [
      " 13%|█████▍                                  | 404/3000 [00:11<00:53, 48.79it/s]"
     ]
    },
    {
     "name": "stdout",
     "output_type": "stream",
     "text": [
      "10.3049583435\n"
     ]
    },
    {
     "name": "stderr",
     "output_type": "stream",
     "text": [
      " 17%|██████▋                                 | 506/3000 [00:14<01:00, 40.95it/s]"
     ]
    },
    {
     "name": "stdout",
     "output_type": "stream",
     "text": [
      "10.4550189972\n"
     ]
    },
    {
     "name": "stderr",
     "output_type": "stream",
     "text": [
      " 20%|████████                                | 606/3000 [00:17<01:06, 35.89it/s]"
     ]
    },
    {
     "name": "stdout",
     "output_type": "stream",
     "text": [
      "-1.1035798788\n"
     ]
    },
    {
     "name": "stderr",
     "output_type": "stream",
     "text": [
      " 23%|█████████▎                              | 703/3000 [00:20<01:02, 36.70it/s]"
     ]
    },
    {
     "name": "stdout",
     "output_type": "stream",
     "text": [
      "-1.7069649696\n"
     ]
    },
    {
     "name": "stderr",
     "output_type": "stream",
     "text": [
      " 27%|██████████▊                             | 808/3000 [00:23<00:54, 40.41it/s]"
     ]
    },
    {
     "name": "stdout",
     "output_type": "stream",
     "text": [
      "-1.6938731670\n"
     ]
    },
    {
     "name": "stderr",
     "output_type": "stream",
     "text": [
      " 30%|████████████                            | 903/3000 [00:25<00:52, 40.27it/s]"
     ]
    },
    {
     "name": "stdout",
     "output_type": "stream",
     "text": [
      "10.4415149689\n"
     ]
    },
    {
     "name": "stderr",
     "output_type": "stream",
     "text": [
      " 34%|█████████████▏                         | 1011/3000 [00:27<00:44, 45.00it/s]"
     ]
    },
    {
     "name": "stdout",
     "output_type": "stream",
     "text": [
      "10.6572866440\n"
     ]
    },
    {
     "name": "stderr",
     "output_type": "stream",
     "text": [
      " 37%|██████████████▎                        | 1103/3000 [00:30<00:49, 38.26it/s]"
     ]
    },
    {
     "name": "stdout",
     "output_type": "stream",
     "text": [
      "10.4847345352\n"
     ]
    },
    {
     "name": "stderr",
     "output_type": "stream",
     "text": [
      " 40%|███████████████▋                       | 1208/3000 [00:33<00:45, 39.60it/s]"
     ]
    },
    {
     "name": "stdout",
     "output_type": "stream",
     "text": [
      "10.6748085022\n"
     ]
    },
    {
     "name": "stderr",
     "output_type": "stream",
     "text": [
      " 44%|█████████████████                      | 1311/3000 [00:35<00:39, 43.13it/s]"
     ]
    },
    {
     "name": "stdout",
     "output_type": "stream",
     "text": [
      "-1.9408519268\n"
     ]
    },
    {
     "name": "stderr",
     "output_type": "stream",
     "text": [
      " 47%|██████████████████▎                    | 1406/3000 [00:38<00:45, 35.20it/s]"
     ]
    },
    {
     "name": "stdout",
     "output_type": "stream",
     "text": [
      "10.3992099762\n"
     ]
    },
    {
     "name": "stderr",
     "output_type": "stream",
     "text": [
      " 50%|███████████████████▌                   | 1503/3000 [00:41<00:32, 45.85it/s]"
     ]
    },
    {
     "name": "stdout",
     "output_type": "stream",
     "text": [
      "10.4733629227\n"
     ]
    },
    {
     "name": "stderr",
     "output_type": "stream",
     "text": [
      " 54%|████████████████████▉                  | 1608/3000 [00:44<00:35, 39.63it/s]"
     ]
    },
    {
     "name": "stdout",
     "output_type": "stream",
     "text": [
      "-2.2776367664\n"
     ]
    },
    {
     "name": "stderr",
     "output_type": "stream",
     "text": [
      " 57%|██████████████████████▏                | 1709/3000 [00:46<00:26, 49.23it/s]"
     ]
    },
    {
     "name": "stdout",
     "output_type": "stream",
     "text": [
      "-2.9288434982\n"
     ]
    },
    {
     "name": "stderr",
     "output_type": "stream",
     "text": [
      " 60%|███████████████████████▍               | 1807/3000 [00:48<00:35, 33.72it/s]"
     ]
    },
    {
     "name": "stdout",
     "output_type": "stream",
     "text": [
      "-1.8730404377\n"
     ]
    },
    {
     "name": "stderr",
     "output_type": "stream",
     "text": [
      " 64%|████████████████████████▊              | 1911/3000 [00:51<00:27, 40.31it/s]"
     ]
    },
    {
     "name": "stdout",
     "output_type": "stream",
     "text": [
      "-3.3142468929\n"
     ]
    },
    {
     "name": "stderr",
     "output_type": "stream",
     "text": [
      " 67%|██████████████████████████▏            | 2011/3000 [00:54<00:17, 55.66it/s]"
     ]
    },
    {
     "name": "stdout",
     "output_type": "stream",
     "text": [
      "10.0996093750\n"
     ]
    },
    {
     "name": "stderr",
     "output_type": "stream",
     "text": [
      " 70%|███████████████████████████▍           | 2107/3000 [00:56<00:23, 37.41it/s]"
     ]
    },
    {
     "name": "stdout",
     "output_type": "stream",
     "text": [
      "-3.1818461418\n"
     ]
    },
    {
     "name": "stderr",
     "output_type": "stream",
     "text": [
      " 74%|████████████████████████████▋          | 2208/3000 [00:58<00:14, 55.67it/s]"
     ]
    },
    {
     "name": "stdout",
     "output_type": "stream",
     "text": [
      "10.4120492935\n"
     ]
    },
    {
     "name": "stderr",
     "output_type": "stream",
     "text": [
      " 77%|█████████████████████████████▉         | 2303/3000 [01:01<00:19, 35.86it/s]"
     ]
    },
    {
     "name": "stdout",
     "output_type": "stream",
     "text": [
      "10.3513507843\n"
     ]
    },
    {
     "name": "stderr",
     "output_type": "stream",
     "text": [
      " 80%|███████████████████████████████▎       | 2407/3000 [01:03<00:10, 55.78it/s]"
     ]
    },
    {
     "name": "stdout",
     "output_type": "stream",
     "text": [
      "10.5741968155\n"
     ]
    },
    {
     "name": "stderr",
     "output_type": "stream",
     "text": [
      " 84%|████████████████████████████████▌      | 2505/3000 [01:06<00:10, 45.37it/s]"
     ]
    },
    {
     "name": "stdout",
     "output_type": "stream",
     "text": [
      "10.6219959259\n"
     ]
    },
    {
     "name": "stderr",
     "output_type": "stream",
     "text": [
      " 87%|█████████████████████████████████▉     | 2606/3000 [01:09<00:10, 38.52it/s]"
     ]
    },
    {
     "name": "stdout",
     "output_type": "stream",
     "text": [
      "10.6251077652\n"
     ]
    },
    {
     "name": "stderr",
     "output_type": "stream",
     "text": [
      " 90%|███████████████████████████████████▏   | 2707/3000 [01:12<00:07, 41.18it/s]"
     ]
    },
    {
     "name": "stdout",
     "output_type": "stream",
     "text": [
      "-2.8509101868\n"
     ]
    },
    {
     "name": "stderr",
     "output_type": "stream",
     "text": [
      " 93%|████████████████████████████████████▍  | 2804/3000 [01:15<00:04, 48.73it/s]"
     ]
    },
    {
     "name": "stdout",
     "output_type": "stream",
     "text": [
      "10.3152933121\n"
     ]
    },
    {
     "name": "stderr",
     "output_type": "stream",
     "text": [
      " 97%|█████████████████████████████████████▊ | 2912/3000 [01:17<00:01, 51.90it/s]"
     ]
    },
    {
     "name": "stdout",
     "output_type": "stream",
     "text": [
      "-4.1153483391\n"
     ]
    },
    {
     "name": "stderr",
     "output_type": "stream",
     "text": [
      "100%|███████████████████████████████████████| 3000/3000 [01:20<00:00, 37.40it/s]\n"
     ]
    },
    {
     "name": "stdout",
     "output_type": "stream",
     "text": [
      "\n",
      " Lesson 10:\n"
     ]
    },
    {
     "name": "stderr",
     "output_type": "stream",
     "text": [
      "  0%|                                          | 3/3000 [00:00<02:28, 20.14it/s]"
     ]
    },
    {
     "name": "stdout",
     "output_type": "stream",
     "text": [
      "10.6498832703\n"
     ]
    },
    {
     "name": "stderr",
     "output_type": "stream",
     "text": [
      "  3%|█▍                                      | 104/3000 [00:03<01:24, 34.27it/s]"
     ]
    },
    {
     "name": "stdout",
     "output_type": "stream",
     "text": [
      "11.1432085037\n"
     ]
    },
    {
     "name": "stderr",
     "output_type": "stream",
     "text": [
      "  7%|██▊                                     | 207/3000 [00:05<01:01, 45.36it/s]"
     ]
    },
    {
     "name": "stdout",
     "output_type": "stream",
     "text": [
      "-0.8119582534\n"
     ]
    },
    {
     "name": "stderr",
     "output_type": "stream",
     "text": [
      " 10%|████                                    | 304/3000 [00:08<01:10, 38.10it/s]"
     ]
    },
    {
     "name": "stdout",
     "output_type": "stream",
     "text": [
      "0.8746733665\n"
     ]
    },
    {
     "name": "stderr",
     "output_type": "stream",
     "text": [
      " 14%|█████▍                                  | 406/3000 [00:11<01:21, 31.76it/s]"
     ]
    },
    {
     "name": "stdout",
     "output_type": "stream",
     "text": [
      "0.5131348372\n"
     ]
    },
    {
     "name": "stderr",
     "output_type": "stream",
     "text": [
      " 17%|██████▋                                 | 503/3000 [00:13<01:04, 38.47it/s]"
     ]
    },
    {
     "name": "stdout",
     "output_type": "stream",
     "text": [
      "10.5899801254\n"
     ]
    },
    {
     "name": "stderr",
     "output_type": "stream",
     "text": [
      " 20%|████████                                | 603/3000 [00:16<01:18, 30.36it/s]"
     ]
    },
    {
     "name": "stdout",
     "output_type": "stream",
     "text": [
      "11.0471820831\n"
     ]
    },
    {
     "name": "stderr",
     "output_type": "stream",
     "text": [
      " 23%|█████████▍                              | 704/3000 [00:19<01:12, 31.87it/s]"
     ]
    },
    {
     "name": "stdout",
     "output_type": "stream",
     "text": [
      "10.9322547913\n"
     ]
    },
    {
     "name": "stderr",
     "output_type": "stream",
     "text": [
      " 27%|██████████▋                             | 801/3000 [00:21<00:54, 40.40it/s]"
     ]
    },
    {
     "name": "stdout",
     "output_type": "stream",
     "text": [
      "10.8233242035\n"
     ]
    },
    {
     "name": "stderr",
     "output_type": "stream",
     "text": [
      " 30%|████████████                            | 907/3000 [00:24<00:33, 62.07it/s]"
     ]
    },
    {
     "name": "stdout",
     "output_type": "stream",
     "text": [
      "10.5900821686\n"
     ]
    },
    {
     "name": "stderr",
     "output_type": "stream",
     "text": [
      " 34%|█████████████                          | 1005/3000 [00:27<00:54, 36.85it/s]"
     ]
    },
    {
     "name": "stdout",
     "output_type": "stream",
     "text": [
      "10.7807645798\n"
     ]
    },
    {
     "name": "stderr",
     "output_type": "stream",
     "text": [
      " 37%|██████████████▎                        | 1103/3000 [00:30<00:43, 43.74it/s]"
     ]
    },
    {
     "name": "stdout",
     "output_type": "stream",
     "text": [
      "-1.4680041075\n"
     ]
    },
    {
     "name": "stderr",
     "output_type": "stream",
     "text": [
      " 40%|███████████████▋                       | 1204/3000 [00:32<00:45, 39.70it/s]"
     ]
    },
    {
     "name": "stdout",
     "output_type": "stream",
     "text": [
      "10.7036170959\n"
     ]
    },
    {
     "name": "stderr",
     "output_type": "stream",
     "text": [
      " 43%|████████████████▉                      | 1302/3000 [00:35<00:48, 34.65it/s]"
     ]
    },
    {
     "name": "stdout",
     "output_type": "stream",
     "text": [
      "-0.3240392208\n"
     ]
    },
    {
     "name": "stderr",
     "output_type": "stream",
     "text": [
      " 47%|██████████████████▎                    | 1405/3000 [00:38<00:46, 34.65it/s]"
     ]
    },
    {
     "name": "stdout",
     "output_type": "stream",
     "text": [
      "-1.1891579628\n"
     ]
    },
    {
     "name": "stderr",
     "output_type": "stream",
     "text": [
      " 50%|███████████████████▋                   | 1510/3000 [00:40<00:34, 43.57it/s]"
     ]
    },
    {
     "name": "stdout",
     "output_type": "stream",
     "text": [
      "11.0334243774\n"
     ]
    },
    {
     "name": "stderr",
     "output_type": "stream",
     "text": [
      " 54%|████████████████████▉                  | 1607/3000 [00:44<00:39, 35.16it/s]"
     ]
    },
    {
     "name": "stdout",
     "output_type": "stream",
     "text": [
      "10.4948635101\n"
     ]
    },
    {
     "name": "stderr",
     "output_type": "stream",
     "text": [
      " 57%|██████████████████████▏                | 1705/3000 [00:46<00:32, 39.73it/s]"
     ]
    },
    {
     "name": "stdout",
     "output_type": "stream",
     "text": [
      "10.5276374817\n"
     ]
    },
    {
     "name": "stderr",
     "output_type": "stream",
     "text": [
      " 60%|███████████████████████▍               | 1807/3000 [00:49<00:32, 36.56it/s]"
     ]
    },
    {
     "name": "stdout",
     "output_type": "stream",
     "text": [
      "-1.4158866405\n"
     ]
    },
    {
     "name": "stderr",
     "output_type": "stream",
     "text": [
      " 64%|████████████████████████▊              | 1908/3000 [00:51<00:24, 44.49it/s]"
     ]
    },
    {
     "name": "stdout",
     "output_type": "stream",
     "text": [
      "10.5925626755\n"
     ]
    },
    {
     "name": "stderr",
     "output_type": "stream",
     "text": [
      " 67%|██████████████████████████             | 2001/3000 [00:54<00:22, 43.87it/s]"
     ]
    },
    {
     "name": "stdout",
     "output_type": "stream",
     "text": [
      "10.9704046249\n"
     ]
    },
    {
     "name": "stderr",
     "output_type": "stream",
     "text": [
      " 70%|███████████████████████████▎           | 2103/3000 [00:57<00:25, 34.92it/s]"
     ]
    },
    {
     "name": "stdout",
     "output_type": "stream",
     "text": [
      "10.8601102829\n"
     ]
    },
    {
     "name": "stderr",
     "output_type": "stream",
     "text": [
      " 73%|████████████████████████████▋          | 2204/3000 [01:00<00:29, 27.37it/s]"
     ]
    },
    {
     "name": "stdout",
     "output_type": "stream",
     "text": [
      "-1.6393996477\n"
     ]
    },
    {
     "name": "stderr",
     "output_type": "stream",
     "text": [
      " 77%|██████████████████████████████         | 2311/3000 [01:03<00:16, 42.29it/s]"
     ]
    },
    {
     "name": "stdout",
     "output_type": "stream",
     "text": [
      "10.9875459671\n"
     ]
    },
    {
     "name": "stderr",
     "output_type": "stream",
     "text": [
      " 80%|███████████████████████████████▎       | 2405/3000 [01:06<00:18, 31.84it/s]"
     ]
    },
    {
     "name": "stdout",
     "output_type": "stream",
     "text": [
      "10.9633884430\n"
     ]
    },
    {
     "name": "stderr",
     "output_type": "stream",
     "text": [
      " 84%|████████████████████████████████▌      | 2505/3000 [01:08<00:13, 36.60it/s]"
     ]
    },
    {
     "name": "stdout",
     "output_type": "stream",
     "text": [
      "-0.3347480893\n"
     ]
    },
    {
     "name": "stderr",
     "output_type": "stream",
     "text": [
      " 87%|█████████████████████████████████▉     | 2607/3000 [01:12<00:13, 29.26it/s]"
     ]
    },
    {
     "name": "stdout",
     "output_type": "stream",
     "text": [
      "-0.6130594015\n"
     ]
    },
    {
     "name": "stderr",
     "output_type": "stream",
     "text": [
      " 90%|███████████████████████████████████▏   | 2704/3000 [01:14<00:10, 28.82it/s]"
     ]
    },
    {
     "name": "stdout",
     "output_type": "stream",
     "text": [
      "-1.0520204306\n"
     ]
    },
    {
     "name": "stderr",
     "output_type": "stream",
     "text": [
      " 93%|████████████████████████████████████▍  | 2803/3000 [01:17<00:05, 35.73it/s]"
     ]
    },
    {
     "name": "stdout",
     "output_type": "stream",
     "text": [
      "10.9444246292\n"
     ]
    },
    {
     "name": "stderr",
     "output_type": "stream",
     "text": [
      " 97%|█████████████████████████████████████▊ | 2909/3000 [01:21<00:02, 31.74it/s]"
     ]
    },
    {
     "name": "stdout",
     "output_type": "stream",
     "text": [
      "10.8331985474\n"
     ]
    },
    {
     "name": "stderr",
     "output_type": "stream",
     "text": [
      "100%|███████████████████████████████████████| 3000/3000 [01:23<00:00, 35.86it/s]\n"
     ]
    },
    {
     "name": "stdout",
     "output_type": "stream",
     "text": [
      "\n",
      " Lesson 11:\n"
     ]
    },
    {
     "name": "stderr",
     "output_type": "stream",
     "text": [
      "  0%|                                          | 3/3000 [00:00<01:42, 29.38it/s]"
     ]
    },
    {
     "name": "stdout",
     "output_type": "stream",
     "text": [
      "10.5638685226\n"
     ]
    },
    {
     "name": "stderr",
     "output_type": "stream",
     "text": [
      "  4%|█▌                                      | 114/3000 [00:01<00:37, 77.93it/s]"
     ]
    },
    {
     "name": "stdout",
     "output_type": "stream",
     "text": [
      "9.7626447678\n"
     ]
    },
    {
     "name": "stderr",
     "output_type": "stream",
     "text": [
      "  7%|██▊                                     | 209/3000 [00:03<00:44, 62.39it/s]"
     ]
    },
    {
     "name": "stdout",
     "output_type": "stream",
     "text": [
      "1.7814561129\n"
     ]
    },
    {
     "name": "stderr",
     "output_type": "stream",
     "text": [
      " 10%|████                                    | 308/3000 [00:05<00:38, 69.14it/s]"
     ]
    },
    {
     "name": "stdout",
     "output_type": "stream",
     "text": [
      "-0.1255637109\n"
     ]
    },
    {
     "name": "stderr",
     "output_type": "stream",
     "text": [
      " 14%|█████▌                                  | 417/3000 [00:07<00:40, 63.40it/s]"
     ]
    },
    {
     "name": "stdout",
     "output_type": "stream",
     "text": [
      "10.9152593613\n"
     ]
    },
    {
     "name": "stderr",
     "output_type": "stream",
     "text": [
      " 17%|██████▊                                 | 508/3000 [00:09<00:46, 53.35it/s]"
     ]
    },
    {
     "name": "stdout",
     "output_type": "stream",
     "text": [
      "8.6157016754\n"
     ]
    },
    {
     "name": "stderr",
     "output_type": "stream",
     "text": [
      " 20%|████████                                | 606/3000 [00:11<01:04, 37.08it/s]"
     ]
    },
    {
     "name": "stdout",
     "output_type": "stream",
     "text": [
      "-0.9364491105\n"
     ]
    },
    {
     "name": "stderr",
     "output_type": "stream",
     "text": [
      " 24%|█████████▍                              | 707/3000 [00:13<00:41, 54.81it/s]"
     ]
    },
    {
     "name": "stdout",
     "output_type": "stream",
     "text": [
      "-0.8486790657\n"
     ]
    },
    {
     "name": "stderr",
     "output_type": "stream",
     "text": [
      " 27%|██████████▋                             | 804/3000 [00:15<00:40, 53.90it/s]"
     ]
    },
    {
     "name": "stdout",
     "output_type": "stream",
     "text": [
      "0.5171011090\n"
     ]
    },
    {
     "name": "stderr",
     "output_type": "stream",
     "text": [
      " 30%|████████████▏                           | 912/3000 [00:17<00:34, 61.06it/s]"
     ]
    },
    {
     "name": "stdout",
     "output_type": "stream",
     "text": [
      "10.5589275360\n"
     ]
    },
    {
     "name": "stderr",
     "output_type": "stream",
     "text": [
      " 34%|█████████████                          | 1007/3000 [00:19<00:53, 37.19it/s]"
     ]
    },
    {
     "name": "stdout",
     "output_type": "stream",
     "text": [
      "0.3837973475\n"
     ]
    },
    {
     "name": "stderr",
     "output_type": "stream",
     "text": [
      " 37%|██████████████▍                        | 1111/3000 [00:22<00:46, 41.05it/s]"
     ]
    },
    {
     "name": "stdout",
     "output_type": "stream",
     "text": [
      "0.1789410710\n"
     ]
    },
    {
     "name": "stderr",
     "output_type": "stream",
     "text": [
      " 40%|███████████████▋                       | 1208/3000 [00:24<00:34, 51.82it/s]"
     ]
    },
    {
     "name": "stdout",
     "output_type": "stream",
     "text": [
      "8.9991188049\n"
     ]
    },
    {
     "name": "stderr",
     "output_type": "stream",
     "text": [
      " 44%|████████████████▉                      | 1305/3000 [00:26<00:34, 49.28it/s]"
     ]
    },
    {
     "name": "stdout",
     "output_type": "stream",
     "text": [
      "8.9010267258\n"
     ]
    },
    {
     "name": "stderr",
     "output_type": "stream",
     "text": [
      " 47%|██████████████████▎                    | 1407/3000 [00:28<00:37, 42.66it/s]"
     ]
    },
    {
     "name": "stdout",
     "output_type": "stream",
     "text": [
      "6.3237409592\n"
     ]
    },
    {
     "name": "stderr",
     "output_type": "stream",
     "text": [
      " 50%|███████████████████▌                   | 1506/3000 [00:30<00:36, 40.71it/s]"
     ]
    },
    {
     "name": "stdout",
     "output_type": "stream",
     "text": [
      "0.9031181335\n"
     ]
    },
    {
     "name": "stderr",
     "output_type": "stream",
     "text": [
      " 54%|████████████████████▉                  | 1613/3000 [00:32<00:21, 65.70it/s]"
     ]
    },
    {
     "name": "stdout",
     "output_type": "stream",
     "text": [
      "10.5628490448\n"
     ]
    },
    {
     "name": "stderr",
     "output_type": "stream",
     "text": [
      " 57%|██████████████████████▏                | 1707/3000 [00:34<00:21, 58.91it/s]"
     ]
    },
    {
     "name": "stdout",
     "output_type": "stream",
     "text": [
      "-0.8476595879\n"
     ]
    },
    {
     "name": "stderr",
     "output_type": "stream",
     "text": [
      " 60%|███████████████████████▌               | 1811/3000 [00:36<00:24, 48.46it/s]"
     ]
    },
    {
     "name": "stdout",
     "output_type": "stream",
     "text": [
      "0.2305314839\n"
     ]
    },
    {
     "name": "stderr",
     "output_type": "stream",
     "text": [
      " 64%|████████████████████████▊              | 1908/3000 [00:38<00:26, 41.65it/s]"
     ]
    },
    {
     "name": "stdout",
     "output_type": "stream",
     "text": [
      "-0.2812609673\n"
     ]
    },
    {
     "name": "stderr",
     "output_type": "stream",
     "text": [
      " 67%|██████████████████████████             | 2009/3000 [00:41<00:26, 37.90it/s]"
     ]
    },
    {
     "name": "stdout",
     "output_type": "stream",
     "text": [
      "-0.6726901531\n"
     ]
    },
    {
     "name": "stderr",
     "output_type": "stream",
     "text": [
      " 70%|███████████████████████████▍           | 2114/3000 [00:42<00:14, 59.95it/s]"
     ]
    },
    {
     "name": "stdout",
     "output_type": "stream",
     "text": [
      "0.3006589413\n"
     ]
    },
    {
     "name": "stderr",
     "output_type": "stream",
     "text": [
      " 74%|████████████████████████████▋          | 2207/3000 [00:44<00:13, 58.42it/s]"
     ]
    },
    {
     "name": "stdout",
     "output_type": "stream",
     "text": [
      "-1.0461080074\n"
     ]
    },
    {
     "name": "stderr",
     "output_type": "stream",
     "text": [
      " 77%|█████████████████████████████▉         | 2307/3000 [00:46<00:15, 43.32it/s]"
     ]
    },
    {
     "name": "stdout",
     "output_type": "stream",
     "text": [
      "0.7764314413\n"
     ]
    },
    {
     "name": "stderr",
     "output_type": "stream",
     "text": [
      " 80%|███████████████████████████████▎       | 2408/3000 [00:48<00:09, 61.67it/s]"
     ]
    },
    {
     "name": "stdout",
     "output_type": "stream",
     "text": [
      "-1.5405848026\n"
     ]
    },
    {
     "name": "stderr",
     "output_type": "stream",
     "text": [
      " 84%|████████████████████████████████▌      | 2507/3000 [00:49<00:10, 47.99it/s]"
     ]
    },
    {
     "name": "stdout",
     "output_type": "stream",
     "text": [
      "0.4747372270\n"
     ]
    },
    {
     "name": "stderr",
     "output_type": "stream",
     "text": [
      " 87%|█████████████████████████████████▊     | 2605/3000 [00:51<00:07, 55.58it/s]"
     ]
    },
    {
     "name": "stdout",
     "output_type": "stream",
     "text": [
      "9.7563409805\n"
     ]
    },
    {
     "name": "stderr",
     "output_type": "stream",
     "text": [
      " 90%|███████████████████████████████████▏   | 2707/3000 [00:53<00:06, 44.68it/s]"
     ]
    },
    {
     "name": "stdout",
     "output_type": "stream",
     "text": [
      "9.5274810791\n"
     ]
    },
    {
     "name": "stderr",
     "output_type": "stream",
     "text": [
      " 94%|████████████████████████████████████▌  | 2812/3000 [00:55<00:03, 61.63it/s]"
     ]
    },
    {
     "name": "stdout",
     "output_type": "stream",
     "text": [
      "-0.9059547782\n"
     ]
    },
    {
     "name": "stderr",
     "output_type": "stream",
     "text": [
      " 97%|█████████████████████████████████████▉ | 2916/3000 [00:57<00:01, 66.34it/s]"
     ]
    },
    {
     "name": "stdout",
     "output_type": "stream",
     "text": [
      "8.3750095367\n"
     ]
    },
    {
     "name": "stderr",
     "output_type": "stream",
     "text": [
      "100%|███████████████████████████████████████| 3000/3000 [00:59<00:00, 50.47it/s]"
     ]
    },
    {
     "name": "stdout",
     "output_type": "stream",
     "text": [
      "\n"
     ]
    },
    {
     "name": "stderr",
     "output_type": "stream",
     "text": [
      "\n"
     ]
    }
   ],
   "source": [
    "controller = initialize_controller()\n",
    "\n",
    "for lesson in range(1, num_lessons + 2): \n",
    "    print(\" Lesson {}:\".format(lesson))\n",
    "    controller = train_controller(lesson = lesson, \n",
    "                                  controller = controller, \n",
    "                                  epochs = 3000,\n",
    "                                  max_steps = 400)\n",
    "    print()"
   ]
  },
  {
   "cell_type": "markdown",
   "metadata": {},
   "source": [
    "# Testing Results"
   ]
  },
  {
   "cell_type": "code",
   "execution_count": 68,
   "metadata": {
    "scrolled": false
   },
   "outputs": [
    {
     "data": {
      "application/javascript": [
       "/* Put everything inside the global mpl namespace */\n",
       "/* global mpl */\n",
       "window.mpl = {};\n",
       "\n",
       "mpl.get_websocket_type = function () {\n",
       "    if (typeof WebSocket !== 'undefined') {\n",
       "        return WebSocket;\n",
       "    } else if (typeof MozWebSocket !== 'undefined') {\n",
       "        return MozWebSocket;\n",
       "    } else {\n",
       "        alert(\n",
       "            'Your browser does not have WebSocket support. ' +\n",
       "                'Please try Chrome, Safari or Firefox ≥ 6. ' +\n",
       "                'Firefox 4 and 5 are also supported but you ' +\n",
       "                'have to enable WebSockets in about:config.'\n",
       "        );\n",
       "    }\n",
       "};\n",
       "\n",
       "mpl.figure = function (figure_id, websocket, ondownload, parent_element) {\n",
       "    this.id = figure_id;\n",
       "\n",
       "    this.ws = websocket;\n",
       "\n",
       "    this.supports_binary = this.ws.binaryType !== undefined;\n",
       "\n",
       "    if (!this.supports_binary) {\n",
       "        var warnings = document.getElementById('mpl-warnings');\n",
       "        if (warnings) {\n",
       "            warnings.style.display = 'block';\n",
       "            warnings.textContent =\n",
       "                'This browser does not support binary websocket messages. ' +\n",
       "                'Performance may be slow.';\n",
       "        }\n",
       "    }\n",
       "\n",
       "    this.imageObj = new Image();\n",
       "\n",
       "    this.context = undefined;\n",
       "    this.message = undefined;\n",
       "    this.canvas = undefined;\n",
       "    this.rubberband_canvas = undefined;\n",
       "    this.rubberband_context = undefined;\n",
       "    this.format_dropdown = undefined;\n",
       "\n",
       "    this.image_mode = 'full';\n",
       "\n",
       "    this.root = document.createElement('div');\n",
       "    this.root.setAttribute('style', 'display: inline-block');\n",
       "    this._root_extra_style(this.root);\n",
       "\n",
       "    parent_element.appendChild(this.root);\n",
       "\n",
       "    this._init_header(this);\n",
       "    this._init_canvas(this);\n",
       "    this._init_toolbar(this);\n",
       "\n",
       "    var fig = this;\n",
       "\n",
       "    this.waiting = false;\n",
       "\n",
       "    this.ws.onopen = function () {\n",
       "        fig.send_message('supports_binary', { value: fig.supports_binary });\n",
       "        fig.send_message('send_image_mode', {});\n",
       "        if (fig.ratio !== 1) {\n",
       "            fig.send_message('set_device_pixel_ratio', {\n",
       "                device_pixel_ratio: fig.ratio,\n",
       "            });\n",
       "        }\n",
       "        fig.send_message('refresh', {});\n",
       "    };\n",
       "\n",
       "    this.imageObj.onload = function () {\n",
       "        if (fig.image_mode === 'full') {\n",
       "            // Full images could contain transparency (where diff images\n",
       "            // almost always do), so we need to clear the canvas so that\n",
       "            // there is no ghosting.\n",
       "            fig.context.clearRect(0, 0, fig.canvas.width, fig.canvas.height);\n",
       "        }\n",
       "        fig.context.drawImage(fig.imageObj, 0, 0);\n",
       "    };\n",
       "\n",
       "    this.imageObj.onunload = function () {\n",
       "        fig.ws.close();\n",
       "    };\n",
       "\n",
       "    this.ws.onmessage = this._make_on_message_function(this);\n",
       "\n",
       "    this.ondownload = ondownload;\n",
       "};\n",
       "\n",
       "mpl.figure.prototype._init_header = function () {\n",
       "    var titlebar = document.createElement('div');\n",
       "    titlebar.classList =\n",
       "        'ui-dialog-titlebar ui-widget-header ui-corner-all ui-helper-clearfix';\n",
       "    var titletext = document.createElement('div');\n",
       "    titletext.classList = 'ui-dialog-title';\n",
       "    titletext.setAttribute(\n",
       "        'style',\n",
       "        'width: 100%; text-align: center; padding: 3px;'\n",
       "    );\n",
       "    titlebar.appendChild(titletext);\n",
       "    this.root.appendChild(titlebar);\n",
       "    this.header = titletext;\n",
       "};\n",
       "\n",
       "mpl.figure.prototype._canvas_extra_style = function (_canvas_div) {};\n",
       "\n",
       "mpl.figure.prototype._root_extra_style = function (_canvas_div) {};\n",
       "\n",
       "mpl.figure.prototype._init_canvas = function () {\n",
       "    var fig = this;\n",
       "\n",
       "    var canvas_div = (this.canvas_div = document.createElement('div'));\n",
       "    canvas_div.setAttribute('tabindex', '0');\n",
       "    canvas_div.setAttribute(\n",
       "        'style',\n",
       "        'border: 1px solid #ddd;' +\n",
       "            'box-sizing: content-box;' +\n",
       "            'clear: both;' +\n",
       "            'min-height: 1px;' +\n",
       "            'min-width: 1px;' +\n",
       "            'outline: 0;' +\n",
       "            'overflow: hidden;' +\n",
       "            'position: relative;' +\n",
       "            'resize: both;' +\n",
       "            'z-index: 2;'\n",
       "    );\n",
       "\n",
       "    function on_keyboard_event_closure(name) {\n",
       "        return function (event) {\n",
       "            return fig.key_event(event, name);\n",
       "        };\n",
       "    }\n",
       "\n",
       "    canvas_div.addEventListener(\n",
       "        'keydown',\n",
       "        on_keyboard_event_closure('key_press')\n",
       "    );\n",
       "    canvas_div.addEventListener(\n",
       "        'keyup',\n",
       "        on_keyboard_event_closure('key_release')\n",
       "    );\n",
       "\n",
       "    this._canvas_extra_style(canvas_div);\n",
       "    this.root.appendChild(canvas_div);\n",
       "\n",
       "    var canvas = (this.canvas = document.createElement('canvas'));\n",
       "    canvas.classList.add('mpl-canvas');\n",
       "    canvas.setAttribute(\n",
       "        'style',\n",
       "        'box-sizing: content-box;' +\n",
       "            'pointer-events: none;' +\n",
       "            'position: relative;' +\n",
       "            'z-index: 0;'\n",
       "    );\n",
       "\n",
       "    this.context = canvas.getContext('2d');\n",
       "\n",
       "    var backingStore =\n",
       "        this.context.backingStorePixelRatio ||\n",
       "        this.context.webkitBackingStorePixelRatio ||\n",
       "        this.context.mozBackingStorePixelRatio ||\n",
       "        this.context.msBackingStorePixelRatio ||\n",
       "        this.context.oBackingStorePixelRatio ||\n",
       "        this.context.backingStorePixelRatio ||\n",
       "        1;\n",
       "\n",
       "    this.ratio = (window.devicePixelRatio || 1) / backingStore;\n",
       "\n",
       "    var rubberband_canvas = (this.rubberband_canvas = document.createElement(\n",
       "        'canvas'\n",
       "    ));\n",
       "    rubberband_canvas.setAttribute(\n",
       "        'style',\n",
       "        'box-sizing: content-box;' +\n",
       "            'left: 0;' +\n",
       "            'pointer-events: none;' +\n",
       "            'position: absolute;' +\n",
       "            'top: 0;' +\n",
       "            'z-index: 1;'\n",
       "    );\n",
       "\n",
       "    // Apply a ponyfill if ResizeObserver is not implemented by browser.\n",
       "    if (this.ResizeObserver === undefined) {\n",
       "        if (window.ResizeObserver !== undefined) {\n",
       "            this.ResizeObserver = window.ResizeObserver;\n",
       "        } else {\n",
       "            var obs = _JSXTOOLS_RESIZE_OBSERVER({});\n",
       "            this.ResizeObserver = obs.ResizeObserver;\n",
       "        }\n",
       "    }\n",
       "\n",
       "    this.resizeObserverInstance = new this.ResizeObserver(function (entries) {\n",
       "        var nentries = entries.length;\n",
       "        for (var i = 0; i < nentries; i++) {\n",
       "            var entry = entries[i];\n",
       "            var width, height;\n",
       "            if (entry.contentBoxSize) {\n",
       "                if (entry.contentBoxSize instanceof Array) {\n",
       "                    // Chrome 84 implements new version of spec.\n",
       "                    width = entry.contentBoxSize[0].inlineSize;\n",
       "                    height = entry.contentBoxSize[0].blockSize;\n",
       "                } else {\n",
       "                    // Firefox implements old version of spec.\n",
       "                    width = entry.contentBoxSize.inlineSize;\n",
       "                    height = entry.contentBoxSize.blockSize;\n",
       "                }\n",
       "            } else {\n",
       "                // Chrome <84 implements even older version of spec.\n",
       "                width = entry.contentRect.width;\n",
       "                height = entry.contentRect.height;\n",
       "            }\n",
       "\n",
       "            // Keep the size of the canvas and rubber band canvas in sync with\n",
       "            // the canvas container.\n",
       "            if (entry.devicePixelContentBoxSize) {\n",
       "                // Chrome 84 implements new version of spec.\n",
       "                canvas.setAttribute(\n",
       "                    'width',\n",
       "                    entry.devicePixelContentBoxSize[0].inlineSize\n",
       "                );\n",
       "                canvas.setAttribute(\n",
       "                    'height',\n",
       "                    entry.devicePixelContentBoxSize[0].blockSize\n",
       "                );\n",
       "            } else {\n",
       "                canvas.setAttribute('width', width * fig.ratio);\n",
       "                canvas.setAttribute('height', height * fig.ratio);\n",
       "            }\n",
       "            /* This rescales the canvas back to display pixels, so that it\n",
       "             * appears correct on HiDPI screens. */\n",
       "            canvas.style.width = width + 'px';\n",
       "            canvas.style.height = height + 'px';\n",
       "\n",
       "            rubberband_canvas.setAttribute('width', width);\n",
       "            rubberband_canvas.setAttribute('height', height);\n",
       "\n",
       "            // And update the size in Python. We ignore the initial 0/0 size\n",
       "            // that occurs as the element is placed into the DOM, which should\n",
       "            // otherwise not happen due to the minimum size styling.\n",
       "            if (fig.ws.readyState == 1 && width != 0 && height != 0) {\n",
       "                fig.request_resize(width, height);\n",
       "            }\n",
       "        }\n",
       "    });\n",
       "    this.resizeObserverInstance.observe(canvas_div);\n",
       "\n",
       "    function on_mouse_event_closure(name) {\n",
       "        /* User Agent sniffing is bad, but WebKit is busted:\n",
       "         * https://bugs.webkit.org/show_bug.cgi?id=144526\n",
       "         * https://bugs.webkit.org/show_bug.cgi?id=181818\n",
       "         * The worst that happens here is that they get an extra browser\n",
       "         * selection when dragging, if this check fails to catch them.\n",
       "         */\n",
       "        var UA = navigator.userAgent;\n",
       "        var isWebKit = /AppleWebKit/.test(UA) && !/Chrome/.test(UA);\n",
       "        if(isWebKit) {\n",
       "            return function (event) {\n",
       "                /* This prevents the web browser from automatically changing to\n",
       "                 * the text insertion cursor when the button is pressed. We\n",
       "                 * want to control all of the cursor setting manually through\n",
       "                 * the 'cursor' event from matplotlib */\n",
       "                event.preventDefault()\n",
       "                return fig.mouse_event(event, name);\n",
       "            };\n",
       "        } else {\n",
       "            return function (event) {\n",
       "                return fig.mouse_event(event, name);\n",
       "            };\n",
       "        }\n",
       "    }\n",
       "\n",
       "    canvas_div.addEventListener(\n",
       "        'mousedown',\n",
       "        on_mouse_event_closure('button_press')\n",
       "    );\n",
       "    canvas_div.addEventListener(\n",
       "        'mouseup',\n",
       "        on_mouse_event_closure('button_release')\n",
       "    );\n",
       "    canvas_div.addEventListener(\n",
       "        'dblclick',\n",
       "        on_mouse_event_closure('dblclick')\n",
       "    );\n",
       "    // Throttle sequential mouse events to 1 every 20ms.\n",
       "    canvas_div.addEventListener(\n",
       "        'mousemove',\n",
       "        on_mouse_event_closure('motion_notify')\n",
       "    );\n",
       "\n",
       "    canvas_div.addEventListener(\n",
       "        'mouseenter',\n",
       "        on_mouse_event_closure('figure_enter')\n",
       "    );\n",
       "    canvas_div.addEventListener(\n",
       "        'mouseleave',\n",
       "        on_mouse_event_closure('figure_leave')\n",
       "    );\n",
       "\n",
       "    canvas_div.addEventListener('wheel', function (event) {\n",
       "        if (event.deltaY < 0) {\n",
       "            event.step = 1;\n",
       "        } else {\n",
       "            event.step = -1;\n",
       "        }\n",
       "        on_mouse_event_closure('scroll')(event);\n",
       "    });\n",
       "\n",
       "    canvas_div.appendChild(canvas);\n",
       "    canvas_div.appendChild(rubberband_canvas);\n",
       "\n",
       "    this.rubberband_context = rubberband_canvas.getContext('2d');\n",
       "    this.rubberband_context.strokeStyle = '#000000';\n",
       "\n",
       "    this._resize_canvas = function (width, height, forward) {\n",
       "        if (forward) {\n",
       "            canvas_div.style.width = width + 'px';\n",
       "            canvas_div.style.height = height + 'px';\n",
       "        }\n",
       "    };\n",
       "\n",
       "    // Disable right mouse context menu.\n",
       "    canvas_div.addEventListener('contextmenu', function (_e) {\n",
       "        event.preventDefault();\n",
       "        return false;\n",
       "    });\n",
       "\n",
       "    function set_focus() {\n",
       "        canvas.focus();\n",
       "        canvas_div.focus();\n",
       "    }\n",
       "\n",
       "    window.setTimeout(set_focus, 100);\n",
       "};\n",
       "\n",
       "mpl.figure.prototype._init_toolbar = function () {\n",
       "    var fig = this;\n",
       "\n",
       "    var toolbar = document.createElement('div');\n",
       "    toolbar.classList = 'mpl-toolbar';\n",
       "    this.root.appendChild(toolbar);\n",
       "\n",
       "    function on_click_closure(name) {\n",
       "        return function (_event) {\n",
       "            return fig.toolbar_button_onclick(name);\n",
       "        };\n",
       "    }\n",
       "\n",
       "    function on_mouseover_closure(tooltip) {\n",
       "        return function (event) {\n",
       "            if (!event.currentTarget.disabled) {\n",
       "                return fig.toolbar_button_onmouseover(tooltip);\n",
       "            }\n",
       "        };\n",
       "    }\n",
       "\n",
       "    fig.buttons = {};\n",
       "    var buttonGroup = document.createElement('div');\n",
       "    buttonGroup.classList = 'mpl-button-group';\n",
       "    for (var toolbar_ind in mpl.toolbar_items) {\n",
       "        var name = mpl.toolbar_items[toolbar_ind][0];\n",
       "        var tooltip = mpl.toolbar_items[toolbar_ind][1];\n",
       "        var image = mpl.toolbar_items[toolbar_ind][2];\n",
       "        var method_name = mpl.toolbar_items[toolbar_ind][3];\n",
       "\n",
       "        if (!name) {\n",
       "            /* Instead of a spacer, we start a new button group. */\n",
       "            if (buttonGroup.hasChildNodes()) {\n",
       "                toolbar.appendChild(buttonGroup);\n",
       "            }\n",
       "            buttonGroup = document.createElement('div');\n",
       "            buttonGroup.classList = 'mpl-button-group';\n",
       "            continue;\n",
       "        }\n",
       "\n",
       "        var button = (fig.buttons[name] = document.createElement('button'));\n",
       "        button.classList = 'mpl-widget';\n",
       "        button.setAttribute('role', 'button');\n",
       "        button.setAttribute('aria-disabled', 'false');\n",
       "        button.addEventListener('click', on_click_closure(method_name));\n",
       "        button.addEventListener('mouseover', on_mouseover_closure(tooltip));\n",
       "\n",
       "        var icon_img = document.createElement('img');\n",
       "        icon_img.src = '_images/' + image + '.png';\n",
       "        icon_img.srcset = '_images/' + image + '_large.png 2x';\n",
       "        icon_img.alt = tooltip;\n",
       "        button.appendChild(icon_img);\n",
       "\n",
       "        buttonGroup.appendChild(button);\n",
       "    }\n",
       "\n",
       "    if (buttonGroup.hasChildNodes()) {\n",
       "        toolbar.appendChild(buttonGroup);\n",
       "    }\n",
       "\n",
       "    var fmt_picker = document.createElement('select');\n",
       "    fmt_picker.classList = 'mpl-widget';\n",
       "    toolbar.appendChild(fmt_picker);\n",
       "    this.format_dropdown = fmt_picker;\n",
       "\n",
       "    for (var ind in mpl.extensions) {\n",
       "        var fmt = mpl.extensions[ind];\n",
       "        var option = document.createElement('option');\n",
       "        option.selected = fmt === mpl.default_extension;\n",
       "        option.innerHTML = fmt;\n",
       "        fmt_picker.appendChild(option);\n",
       "    }\n",
       "\n",
       "    var status_bar = document.createElement('span');\n",
       "    status_bar.classList = 'mpl-message';\n",
       "    toolbar.appendChild(status_bar);\n",
       "    this.message = status_bar;\n",
       "};\n",
       "\n",
       "mpl.figure.prototype.request_resize = function (x_pixels, y_pixels) {\n",
       "    // Request matplotlib to resize the figure. Matplotlib will then trigger a resize in the client,\n",
       "    // which will in turn request a refresh of the image.\n",
       "    this.send_message('resize', { width: x_pixels, height: y_pixels });\n",
       "};\n",
       "\n",
       "mpl.figure.prototype.send_message = function (type, properties) {\n",
       "    properties['type'] = type;\n",
       "    properties['figure_id'] = this.id;\n",
       "    this.ws.send(JSON.stringify(properties));\n",
       "};\n",
       "\n",
       "mpl.figure.prototype.send_draw_message = function () {\n",
       "    if (!this.waiting) {\n",
       "        this.waiting = true;\n",
       "        this.ws.send(JSON.stringify({ type: 'draw', figure_id: this.id }));\n",
       "    }\n",
       "};\n",
       "\n",
       "mpl.figure.prototype.handle_save = function (fig, _msg) {\n",
       "    var format_dropdown = fig.format_dropdown;\n",
       "    var format = format_dropdown.options[format_dropdown.selectedIndex].value;\n",
       "    fig.ondownload(fig, format);\n",
       "};\n",
       "\n",
       "mpl.figure.prototype.handle_resize = function (fig, msg) {\n",
       "    var size = msg['size'];\n",
       "    if (size[0] !== fig.canvas.width || size[1] !== fig.canvas.height) {\n",
       "        fig._resize_canvas(size[0], size[1], msg['forward']);\n",
       "        fig.send_message('refresh', {});\n",
       "    }\n",
       "};\n",
       "\n",
       "mpl.figure.prototype.handle_rubberband = function (fig, msg) {\n",
       "    var x0 = msg['x0'] / fig.ratio;\n",
       "    var y0 = (fig.canvas.height - msg['y0']) / fig.ratio;\n",
       "    var x1 = msg['x1'] / fig.ratio;\n",
       "    var y1 = (fig.canvas.height - msg['y1']) / fig.ratio;\n",
       "    x0 = Math.floor(x0) + 0.5;\n",
       "    y0 = Math.floor(y0) + 0.5;\n",
       "    x1 = Math.floor(x1) + 0.5;\n",
       "    y1 = Math.floor(y1) + 0.5;\n",
       "    var min_x = Math.min(x0, x1);\n",
       "    var min_y = Math.min(y0, y1);\n",
       "    var width = Math.abs(x1 - x0);\n",
       "    var height = Math.abs(y1 - y0);\n",
       "\n",
       "    fig.rubberband_context.clearRect(\n",
       "        0,\n",
       "        0,\n",
       "        fig.canvas.width / fig.ratio,\n",
       "        fig.canvas.height / fig.ratio\n",
       "    );\n",
       "\n",
       "    fig.rubberband_context.strokeRect(min_x, min_y, width, height);\n",
       "};\n",
       "\n",
       "mpl.figure.prototype.handle_figure_label = function (fig, msg) {\n",
       "    // Updates the figure title.\n",
       "    fig.header.textContent = msg['label'];\n",
       "};\n",
       "\n",
       "mpl.figure.prototype.handle_cursor = function (fig, msg) {\n",
       "    fig.canvas_div.style.cursor = msg['cursor'];\n",
       "};\n",
       "\n",
       "mpl.figure.prototype.handle_message = function (fig, msg) {\n",
       "    fig.message.textContent = msg['message'];\n",
       "};\n",
       "\n",
       "mpl.figure.prototype.handle_draw = function (fig, _msg) {\n",
       "    // Request the server to send over a new figure.\n",
       "    fig.send_draw_message();\n",
       "};\n",
       "\n",
       "mpl.figure.prototype.handle_image_mode = function (fig, msg) {\n",
       "    fig.image_mode = msg['mode'];\n",
       "};\n",
       "\n",
       "mpl.figure.prototype.handle_history_buttons = function (fig, msg) {\n",
       "    for (var key in msg) {\n",
       "        if (!(key in fig.buttons)) {\n",
       "            continue;\n",
       "        }\n",
       "        fig.buttons[key].disabled = !msg[key];\n",
       "        fig.buttons[key].setAttribute('aria-disabled', !msg[key]);\n",
       "    }\n",
       "};\n",
       "\n",
       "mpl.figure.prototype.handle_navigate_mode = function (fig, msg) {\n",
       "    if (msg['mode'] === 'PAN') {\n",
       "        fig.buttons['Pan'].classList.add('active');\n",
       "        fig.buttons['Zoom'].classList.remove('active');\n",
       "    } else if (msg['mode'] === 'ZOOM') {\n",
       "        fig.buttons['Pan'].classList.remove('active');\n",
       "        fig.buttons['Zoom'].classList.add('active');\n",
       "    } else {\n",
       "        fig.buttons['Pan'].classList.remove('active');\n",
       "        fig.buttons['Zoom'].classList.remove('active');\n",
       "    }\n",
       "};\n",
       "\n",
       "mpl.figure.prototype.updated_canvas_event = function () {\n",
       "    // Called whenever the canvas gets updated.\n",
       "    this.send_message('ack', {});\n",
       "};\n",
       "\n",
       "// A function to construct a web socket function for onmessage handling.\n",
       "// Called in the figure constructor.\n",
       "mpl.figure.prototype._make_on_message_function = function (fig) {\n",
       "    return function socket_on_message(evt) {\n",
       "        if (evt.data instanceof Blob) {\n",
       "            var img = evt.data;\n",
       "            if (img.type !== 'image/png') {\n",
       "                /* FIXME: We get \"Resource interpreted as Image but\n",
       "                 * transferred with MIME type text/plain:\" errors on\n",
       "                 * Chrome.  But how to set the MIME type?  It doesn't seem\n",
       "                 * to be part of the websocket stream */\n",
       "                img.type = 'image/png';\n",
       "            }\n",
       "\n",
       "            /* Free the memory for the previous frames */\n",
       "            if (fig.imageObj.src) {\n",
       "                (window.URL || window.webkitURL).revokeObjectURL(\n",
       "                    fig.imageObj.src\n",
       "                );\n",
       "            }\n",
       "\n",
       "            fig.imageObj.src = (window.URL || window.webkitURL).createObjectURL(\n",
       "                img\n",
       "            );\n",
       "            fig.updated_canvas_event();\n",
       "            fig.waiting = false;\n",
       "            return;\n",
       "        } else if (\n",
       "            typeof evt.data === 'string' &&\n",
       "            evt.data.slice(0, 21) === 'data:image/png;base64'\n",
       "        ) {\n",
       "            fig.imageObj.src = evt.data;\n",
       "            fig.updated_canvas_event();\n",
       "            fig.waiting = false;\n",
       "            return;\n",
       "        }\n",
       "\n",
       "        var msg = JSON.parse(evt.data);\n",
       "        var msg_type = msg['type'];\n",
       "\n",
       "        // Call the  \"handle_{type}\" callback, which takes\n",
       "        // the figure and JSON message as its only arguments.\n",
       "        try {\n",
       "            var callback = fig['handle_' + msg_type];\n",
       "        } catch (e) {\n",
       "            console.log(\n",
       "                \"No handler for the '\" + msg_type + \"' message type: \",\n",
       "                msg\n",
       "            );\n",
       "            return;\n",
       "        }\n",
       "\n",
       "        if (callback) {\n",
       "            try {\n",
       "                // console.log(\"Handling '\" + msg_type + \"' message: \", msg);\n",
       "                callback(fig, msg);\n",
       "            } catch (e) {\n",
       "                console.log(\n",
       "                    \"Exception inside the 'handler_\" + msg_type + \"' callback:\",\n",
       "                    e,\n",
       "                    e.stack,\n",
       "                    msg\n",
       "                );\n",
       "            }\n",
       "        }\n",
       "    };\n",
       "};\n",
       "\n",
       "function getModifiers(event) {\n",
       "    var mods = [];\n",
       "    if (event.ctrlKey) {\n",
       "        mods.push('ctrl');\n",
       "    }\n",
       "    if (event.altKey) {\n",
       "        mods.push('alt');\n",
       "    }\n",
       "    if (event.shiftKey) {\n",
       "        mods.push('shift');\n",
       "    }\n",
       "    if (event.metaKey) {\n",
       "        mods.push('meta');\n",
       "    }\n",
       "    return mods;\n",
       "}\n",
       "\n",
       "/*\n",
       " * return a copy of an object with only non-object keys\n",
       " * we need this to avoid circular references\n",
       " * https://stackoverflow.com/a/24161582/3208463\n",
       " */\n",
       "function simpleKeys(original) {\n",
       "    return Object.keys(original).reduce(function (obj, key) {\n",
       "        if (typeof original[key] !== 'object') {\n",
       "            obj[key] = original[key];\n",
       "        }\n",
       "        return obj;\n",
       "    }, {});\n",
       "}\n",
       "\n",
       "mpl.figure.prototype.mouse_event = function (event, name) {\n",
       "    if (name === 'button_press') {\n",
       "        this.canvas.focus();\n",
       "        this.canvas_div.focus();\n",
       "    }\n",
       "\n",
       "    // from https://stackoverflow.com/q/1114465\n",
       "    var boundingRect = this.canvas.getBoundingClientRect();\n",
       "    var x = (event.clientX - boundingRect.left) * this.ratio;\n",
       "    var y = (event.clientY - boundingRect.top) * this.ratio;\n",
       "\n",
       "    this.send_message(name, {\n",
       "        x: x,\n",
       "        y: y,\n",
       "        button: event.button,\n",
       "        step: event.step,\n",
       "        modifiers: getModifiers(event),\n",
       "        guiEvent: simpleKeys(event),\n",
       "    });\n",
       "\n",
       "    return false;\n",
       "};\n",
       "\n",
       "mpl.figure.prototype._key_event_extra = function (_event, _name) {\n",
       "    // Handle any extra behaviour associated with a key event\n",
       "};\n",
       "\n",
       "mpl.figure.prototype.key_event = function (event, name) {\n",
       "    // Prevent repeat events\n",
       "    if (name === 'key_press') {\n",
       "        if (event.key === this._key) {\n",
       "            return;\n",
       "        } else {\n",
       "            this._key = event.key;\n",
       "        }\n",
       "    }\n",
       "    if (name === 'key_release') {\n",
       "        this._key = null;\n",
       "    }\n",
       "\n",
       "    var value = '';\n",
       "    if (event.ctrlKey && event.key !== 'Control') {\n",
       "        value += 'ctrl+';\n",
       "    }\n",
       "    else if (event.altKey && event.key !== 'Alt') {\n",
       "        value += 'alt+';\n",
       "    }\n",
       "    else if (event.shiftKey && event.key !== 'Shift') {\n",
       "        value += 'shift+';\n",
       "    }\n",
       "\n",
       "    value += 'k' + event.key;\n",
       "\n",
       "    this._key_event_extra(event, name);\n",
       "\n",
       "    this.send_message(name, { key: value, guiEvent: simpleKeys(event) });\n",
       "    return false;\n",
       "};\n",
       "\n",
       "mpl.figure.prototype.toolbar_button_onclick = function (name) {\n",
       "    if (name === 'download') {\n",
       "        this.handle_save(this, null);\n",
       "    } else {\n",
       "        this.send_message('toolbar_button', { name: name });\n",
       "    }\n",
       "};\n",
       "\n",
       "mpl.figure.prototype.toolbar_button_onmouseover = function (tooltip) {\n",
       "    this.message.textContent = tooltip;\n",
       "};\n",
       "\n",
       "///////////////// REMAINING CONTENT GENERATED BY embed_js.py /////////////////\n",
       "// prettier-ignore\n",
       "var _JSXTOOLS_RESIZE_OBSERVER=function(A){var t,i=new WeakMap,n=new WeakMap,a=new WeakMap,r=new WeakMap,o=new Set;function s(e){if(!(this instanceof s))throw new TypeError(\"Constructor requires 'new' operator\");i.set(this,e)}function h(){throw new TypeError(\"Function is not a constructor\")}function c(e,t,i,n){e=0 in arguments?Number(arguments[0]):0,t=1 in arguments?Number(arguments[1]):0,i=2 in arguments?Number(arguments[2]):0,n=3 in arguments?Number(arguments[3]):0,this.right=(this.x=this.left=e)+(this.width=i),this.bottom=(this.y=this.top=t)+(this.height=n),Object.freeze(this)}function d(){t=requestAnimationFrame(d);var s=new WeakMap,p=new Set;o.forEach((function(t){r.get(t).forEach((function(i){var r=t instanceof window.SVGElement,o=a.get(t),d=r?0:parseFloat(o.paddingTop),f=r?0:parseFloat(o.paddingRight),l=r?0:parseFloat(o.paddingBottom),u=r?0:parseFloat(o.paddingLeft),g=r?0:parseFloat(o.borderTopWidth),m=r?0:parseFloat(o.borderRightWidth),w=r?0:parseFloat(o.borderBottomWidth),b=u+f,F=d+l,v=(r?0:parseFloat(o.borderLeftWidth))+m,W=g+w,y=r?0:t.offsetHeight-W-t.clientHeight,E=r?0:t.offsetWidth-v-t.clientWidth,R=b+v,z=F+W,M=r?t.width:parseFloat(o.width)-R-E,O=r?t.height:parseFloat(o.height)-z-y;if(n.has(t)){var k=n.get(t);if(k[0]===M&&k[1]===O)return}n.set(t,[M,O]);var S=Object.create(h.prototype);S.target=t,S.contentRect=new c(u,d,M,O),s.has(i)||(s.set(i,[]),p.add(i)),s.get(i).push(S)}))})),p.forEach((function(e){i.get(e).call(e,s.get(e),e)}))}return s.prototype.observe=function(i){if(i instanceof window.Element){r.has(i)||(r.set(i,new Set),o.add(i),a.set(i,window.getComputedStyle(i)));var n=r.get(i);n.has(this)||n.add(this),cancelAnimationFrame(t),t=requestAnimationFrame(d)}},s.prototype.unobserve=function(i){if(i instanceof window.Element&&r.has(i)){var n=r.get(i);n.has(this)&&(n.delete(this),n.size||(r.delete(i),o.delete(i))),n.size||r.delete(i),o.size||cancelAnimationFrame(t)}},A.DOMRectReadOnly=c,A.ResizeObserver=s,A.ResizeObserverEntry=h,A}; // eslint-disable-line\n",
       "mpl.toolbar_items = [[\"Home\", \"Reset original view\", \"fa fa-home\", \"home\"], [\"Back\", \"Back to previous view\", \"fa fa-arrow-left\", \"back\"], [\"Forward\", \"Forward to next view\", \"fa fa-arrow-right\", \"forward\"], [\"\", \"\", \"\", \"\"], [\"Pan\", \"Left button pans, Right button zooms\\nx/y fixes axis, CTRL fixes aspect\", \"fa fa-arrows\", \"pan\"], [\"Zoom\", \"Zoom to rectangle\\nx/y fixes axis\", \"fa fa-square-o\", \"zoom\"], [\"\", \"\", \"\", \"\"], [\"Download\", \"Download plot\", \"fa fa-floppy-o\", \"download\"]];\n",
       "\n",
       "mpl.extensions = [\"eps\", \"jpeg\", \"pgf\", \"pdf\", \"png\", \"ps\", \"raw\", \"svg\", \"tif\", \"webp\"];\n",
       "\n",
       "mpl.default_extension = \"png\";/* global mpl */\n",
       "\n",
       "var comm_websocket_adapter = function (comm) {\n",
       "    // Create a \"websocket\"-like object which calls the given IPython comm\n",
       "    // object with the appropriate methods. Currently this is a non binary\n",
       "    // socket, so there is still some room for performance tuning.\n",
       "    var ws = {};\n",
       "\n",
       "    ws.binaryType = comm.kernel.ws.binaryType;\n",
       "    ws.readyState = comm.kernel.ws.readyState;\n",
       "    function updateReadyState(_event) {\n",
       "        if (comm.kernel.ws) {\n",
       "            ws.readyState = comm.kernel.ws.readyState;\n",
       "        } else {\n",
       "            ws.readyState = 3; // Closed state.\n",
       "        }\n",
       "    }\n",
       "    comm.kernel.ws.addEventListener('open', updateReadyState);\n",
       "    comm.kernel.ws.addEventListener('close', updateReadyState);\n",
       "    comm.kernel.ws.addEventListener('error', updateReadyState);\n",
       "\n",
       "    ws.close = function () {\n",
       "        comm.close();\n",
       "    };\n",
       "    ws.send = function (m) {\n",
       "        //console.log('sending', m);\n",
       "        comm.send(m);\n",
       "    };\n",
       "    // Register the callback with on_msg.\n",
       "    comm.on_msg(function (msg) {\n",
       "        //console.log('receiving', msg['content']['data'], msg);\n",
       "        var data = msg['content']['data'];\n",
       "        if (data['blob'] !== undefined) {\n",
       "            data = {\n",
       "                data: new Blob(msg['buffers'], { type: data['blob'] }),\n",
       "            };\n",
       "        }\n",
       "        // Pass the mpl event to the overridden (by mpl) onmessage function.\n",
       "        ws.onmessage(data);\n",
       "    });\n",
       "    return ws;\n",
       "};\n",
       "\n",
       "mpl.mpl_figure_comm = function (comm, msg) {\n",
       "    // This is the function which gets called when the mpl process\n",
       "    // starts-up an IPython Comm through the \"matplotlib\" channel.\n",
       "\n",
       "    var id = msg.content.data.id;\n",
       "    // Get hold of the div created by the display call when the Comm\n",
       "    // socket was opened in Python.\n",
       "    var element = document.getElementById(id);\n",
       "    var ws_proxy = comm_websocket_adapter(comm);\n",
       "\n",
       "    function ondownload(figure, _format) {\n",
       "        window.open(figure.canvas.toDataURL());\n",
       "    }\n",
       "\n",
       "    var fig = new mpl.figure(id, ws_proxy, ondownload, element);\n",
       "\n",
       "    // Call onopen now - mpl needs it, as it is assuming we've passed it a real\n",
       "    // web socket which is closed, not our websocket->open comm proxy.\n",
       "    ws_proxy.onopen();\n",
       "\n",
       "    fig.parent_element = element;\n",
       "    fig.cell_info = mpl.find_output_cell(\"<div id='\" + id + \"'></div>\");\n",
       "    if (!fig.cell_info) {\n",
       "        console.error('Failed to find cell for figure', id, fig);\n",
       "        return;\n",
       "    }\n",
       "    fig.cell_info[0].output_area.element.on(\n",
       "        'cleared',\n",
       "        { fig: fig },\n",
       "        fig._remove_fig_handler\n",
       "    );\n",
       "};\n",
       "\n",
       "mpl.figure.prototype.handle_close = function (fig, msg) {\n",
       "    var width = fig.canvas.width / fig.ratio;\n",
       "    fig.cell_info[0].output_area.element.off(\n",
       "        'cleared',\n",
       "        fig._remove_fig_handler\n",
       "    );\n",
       "    fig.resizeObserverInstance.unobserve(fig.canvas_div);\n",
       "\n",
       "    // Update the output cell to use the data from the current canvas.\n",
       "    fig.push_to_output();\n",
       "    var dataURL = fig.canvas.toDataURL();\n",
       "    // Re-enable the keyboard manager in IPython - without this line, in FF,\n",
       "    // the notebook keyboard shortcuts fail.\n",
       "    IPython.keyboard_manager.enable();\n",
       "    fig.parent_element.innerHTML =\n",
       "        '<img src=\"' + dataURL + '\" width=\"' + width + '\">';\n",
       "    fig.close_ws(fig, msg);\n",
       "};\n",
       "\n",
       "mpl.figure.prototype.close_ws = function (fig, msg) {\n",
       "    fig.send_message('closing', msg);\n",
       "    // fig.ws.close()\n",
       "};\n",
       "\n",
       "mpl.figure.prototype.push_to_output = function (_remove_interactive) {\n",
       "    // Turn the data on the canvas into data in the output cell.\n",
       "    var width = this.canvas.width / this.ratio;\n",
       "    var dataURL = this.canvas.toDataURL();\n",
       "    this.cell_info[1]['text/html'] =\n",
       "        '<img src=\"' + dataURL + '\" width=\"' + width + '\">';\n",
       "};\n",
       "\n",
       "mpl.figure.prototype.updated_canvas_event = function () {\n",
       "    // Tell IPython that the notebook contents must change.\n",
       "    IPython.notebook.set_dirty(true);\n",
       "    this.send_message('ack', {});\n",
       "    var fig = this;\n",
       "    // Wait a second, then push the new image to the DOM so\n",
       "    // that it is saved nicely (might be nice to debounce this).\n",
       "    setTimeout(function () {\n",
       "        fig.push_to_output();\n",
       "    }, 1000);\n",
       "};\n",
       "\n",
       "mpl.figure.prototype._init_toolbar = function () {\n",
       "    var fig = this;\n",
       "\n",
       "    var toolbar = document.createElement('div');\n",
       "    toolbar.classList = 'btn-toolbar';\n",
       "    this.root.appendChild(toolbar);\n",
       "\n",
       "    function on_click_closure(name) {\n",
       "        return function (_event) {\n",
       "            return fig.toolbar_button_onclick(name);\n",
       "        };\n",
       "    }\n",
       "\n",
       "    function on_mouseover_closure(tooltip) {\n",
       "        return function (event) {\n",
       "            if (!event.currentTarget.disabled) {\n",
       "                return fig.toolbar_button_onmouseover(tooltip);\n",
       "            }\n",
       "        };\n",
       "    }\n",
       "\n",
       "    fig.buttons = {};\n",
       "    var buttonGroup = document.createElement('div');\n",
       "    buttonGroup.classList = 'btn-group';\n",
       "    var button;\n",
       "    for (var toolbar_ind in mpl.toolbar_items) {\n",
       "        var name = mpl.toolbar_items[toolbar_ind][0];\n",
       "        var tooltip = mpl.toolbar_items[toolbar_ind][1];\n",
       "        var image = mpl.toolbar_items[toolbar_ind][2];\n",
       "        var method_name = mpl.toolbar_items[toolbar_ind][3];\n",
       "\n",
       "        if (!name) {\n",
       "            /* Instead of a spacer, we start a new button group. */\n",
       "            if (buttonGroup.hasChildNodes()) {\n",
       "                toolbar.appendChild(buttonGroup);\n",
       "            }\n",
       "            buttonGroup = document.createElement('div');\n",
       "            buttonGroup.classList = 'btn-group';\n",
       "            continue;\n",
       "        }\n",
       "\n",
       "        button = fig.buttons[name] = document.createElement('button');\n",
       "        button.classList = 'btn btn-default';\n",
       "        button.href = '#';\n",
       "        button.title = name;\n",
       "        button.innerHTML = '<i class=\"fa ' + image + ' fa-lg\"></i>';\n",
       "        button.addEventListener('click', on_click_closure(method_name));\n",
       "        button.addEventListener('mouseover', on_mouseover_closure(tooltip));\n",
       "        buttonGroup.appendChild(button);\n",
       "    }\n",
       "\n",
       "    if (buttonGroup.hasChildNodes()) {\n",
       "        toolbar.appendChild(buttonGroup);\n",
       "    }\n",
       "\n",
       "    // Add the status bar.\n",
       "    var status_bar = document.createElement('span');\n",
       "    status_bar.classList = 'mpl-message pull-right';\n",
       "    toolbar.appendChild(status_bar);\n",
       "    this.message = status_bar;\n",
       "\n",
       "    // Add the close button to the window.\n",
       "    var buttongrp = document.createElement('div');\n",
       "    buttongrp.classList = 'btn-group inline pull-right';\n",
       "    button = document.createElement('button');\n",
       "    button.classList = 'btn btn-mini btn-primary';\n",
       "    button.href = '#';\n",
       "    button.title = 'Stop Interaction';\n",
       "    button.innerHTML = '<i class=\"fa fa-power-off icon-remove icon-large\"></i>';\n",
       "    button.addEventListener('click', function (_evt) {\n",
       "        fig.handle_close(fig, {});\n",
       "    });\n",
       "    button.addEventListener(\n",
       "        'mouseover',\n",
       "        on_mouseover_closure('Stop Interaction')\n",
       "    );\n",
       "    buttongrp.appendChild(button);\n",
       "    var titlebar = this.root.querySelector('.ui-dialog-titlebar');\n",
       "    titlebar.insertBefore(buttongrp, titlebar.firstChild);\n",
       "};\n",
       "\n",
       "mpl.figure.prototype._remove_fig_handler = function (event) {\n",
       "    var fig = event.data.fig;\n",
       "    if (event.target !== this) {\n",
       "        // Ignore bubbled events from children.\n",
       "        return;\n",
       "    }\n",
       "    fig.close_ws(fig, {});\n",
       "};\n",
       "\n",
       "mpl.figure.prototype._root_extra_style = function (el) {\n",
       "    el.style.boxSizing = 'content-box'; // override notebook setting of border-box.\n",
       "};\n",
       "\n",
       "mpl.figure.prototype._canvas_extra_style = function (el) {\n",
       "    // this is important to make the div 'focusable\n",
       "    el.setAttribute('tabindex', 0);\n",
       "    // reach out to IPython and tell the keyboard manager to turn it's self\n",
       "    // off when our div gets focus\n",
       "\n",
       "    // location in version 3\n",
       "    if (IPython.notebook.keyboard_manager) {\n",
       "        IPython.notebook.keyboard_manager.register_events(el);\n",
       "    } else {\n",
       "        // location in version 2\n",
       "        IPython.keyboard_manager.register_events(el);\n",
       "    }\n",
       "};\n",
       "\n",
       "mpl.figure.prototype._key_event_extra = function (event, _name) {\n",
       "    // Check for shift+enter\n",
       "    if (event.shiftKey && event.which === 13) {\n",
       "        this.canvas_div.blur();\n",
       "        // select the cell after this one\n",
       "        var index = IPython.notebook.find_cell_index(this.cell_info[0]);\n",
       "        IPython.notebook.select(index + 1);\n",
       "    }\n",
       "};\n",
       "\n",
       "mpl.figure.prototype.handle_save = function (fig, _msg) {\n",
       "    fig.ondownload(fig, null);\n",
       "};\n",
       "\n",
       "mpl.find_output_cell = function (html_output) {\n",
       "    // Return the cell and output element which can be found *uniquely* in the notebook.\n",
       "    // Note - this is a bit hacky, but it is done because the \"notebook_saving.Notebook\"\n",
       "    // IPython event is triggered only after the cells have been serialised, which for\n",
       "    // our purposes (turning an active figure into a static one), is too late.\n",
       "    var cells = IPython.notebook.get_cells();\n",
       "    var ncells = cells.length;\n",
       "    for (var i = 0; i < ncells; i++) {\n",
       "        var cell = cells[i];\n",
       "        if (cell.cell_type === 'code') {\n",
       "            for (var j = 0; j < cell.output_area.outputs.length; j++) {\n",
       "                var data = cell.output_area.outputs[j];\n",
       "                if (data.data) {\n",
       "                    // IPython >= 3 moved mimebundle to data attribute of output\n",
       "                    data = data.data;\n",
       "                }\n",
       "                if (data['text/html'] === html_output) {\n",
       "                    return [cell, data, j];\n",
       "                }\n",
       "            }\n",
       "        }\n",
       "    }\n",
       "};\n",
       "\n",
       "// Register the function which deals with the matplotlib target/channel.\n",
       "// The kernel may be null if the page has been refreshed.\n",
       "if (IPython.notebook.kernel !== null) {\n",
       "    IPython.notebook.kernel.comm_manager.register_target(\n",
       "        'matplotlib',\n",
       "        mpl.mpl_figure_comm\n",
       "    );\n",
       "}\n"
      ],
      "text/plain": [
       "<IPython.core.display.Javascript object>"
      ]
     },
     "metadata": {},
     "output_type": "display_data"
    },
    {
     "data": {
      "text/html": [
       "<img src=\"data:image/png;base64,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\" width=\"600\">"
      ],
      "text/plain": [
       "<IPython.core.display.HTML object>"
      ]
     },
     "metadata": {},
     "output_type": "display_data"
    }
   ],
   "source": [
    "final_lesson = num_lessons + 1\n",
    "test_controller = torch.load('models/controllers/controller_lesson_{}.pth'.format(final_lesson), weights_only = False)\n",
    "\n",
    "truck = Truck(lesson = final_lesson, display = True)\n",
    "truck.reset()"
   ]
  },
  {
   "cell_type": "code",
   "execution_count": 94,
   "metadata": {},
   "outputs": [
    {
     "name": "stdout",
     "output_type": "stream",
     "text": [
      "Number of Steps: 231\n"
     ]
    }
   ],
   "source": [
    "with torch.no_grad():\n",
    "    truck.reset()\n",
    "    i = 0\n",
    "    while truck.valid():\n",
    "        t1 = torch.tensor([truck.ϕ],dtype=torch.float32)\n",
    "        state = truck.state()      \n",
    "        t2 = torch.Tensor(state)\n",
    "        state = torch.cat((t1,t2))\n",
    "        ϕ = test_controller(state)\n",
    "        truck.step(ϕ.item())\n",
    "        truck.draw()\n",
    "        i += 1\n",
    "    print(\"Number of Steps: {}\".format(i))"
   ]
  }
 ],
 "metadata": {
  "kernelspec": {
   "display_name": "Python 3 (ipykernel)",
   "language": "python",
   "name": "python3"
  },
  "language_info": {
   "codemirror_mode": {
    "name": "ipython",
    "version": 3
   },
   "file_extension": ".py",
   "mimetype": "text/x-python",
   "name": "python",
   "nbconvert_exporter": "python",
   "pygments_lexer": "ipython3",
   "version": "3.11.5"
  }
 },
 "nbformat": 4,
 "nbformat_minor": 4
}
